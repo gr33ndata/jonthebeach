{
 "cells": [
  {
   "cell_type": "markdown",
   "id": "b01087ba",
   "metadata": {},
   "source": [
    "# Opinion Spam - Text Classification"
   ]
  },
  {
   "cell_type": "code",
   "execution_count": 3,
   "id": "375a4ece",
   "metadata": {},
   "outputs": [],
   "source": [
    "import os \n",
    "\n",
    "import pandas as pd"
   ]
  },
  {
   "cell_type": "code",
   "execution_count": 4,
   "id": "37e4f5e5",
   "metadata": {},
   "outputs": [],
   "source": [
    "dataset_dir = \"../datasets/opinion_spam\"\n",
    "\n",
    "df = pd.read_pickle(os.path.join(dataset_dir, \"prepared_data.pkl\"))"
   ]
  },
  {
   "cell_type": "code",
   "execution_count": 5,
   "id": "a7b1053d",
   "metadata": {},
   "outputs": [
    {
     "data": {
      "text/html": [
       "<div>\n",
       "<style scoped>\n",
       "    .dataframe tbody tr th:only-of-type {\n",
       "        vertical-align: middle;\n",
       "    }\n",
       "\n",
       "    .dataframe tbody tr th {\n",
       "        vertical-align: top;\n",
       "    }\n",
       "\n",
       "    .dataframe thead th {\n",
       "        text-align: right;\n",
       "    }\n",
       "</style>\n",
       "<table border=\"1\" class=\"dataframe\">\n",
       "  <thead>\n",
       "    <tr style=\"text-align: right;\">\n",
       "      <th></th>\n",
       "      <th>fold</th>\n",
       "      <th>polarity</th>\n",
       "      <th>deceptive</th>\n",
       "      <th>text</th>\n",
       "    </tr>\n",
       "    <tr>\n",
       "      <th>document_id</th>\n",
       "      <th></th>\n",
       "      <th></th>\n",
       "      <th></th>\n",
       "      <th></th>\n",
       "    </tr>\n",
       "  </thead>\n",
       "  <tbody>\n",
       "    <tr>\n",
       "      <th>0</th>\n",
       "      <td>2</td>\n",
       "      <td>1</td>\n",
       "      <td>1</td>\n",
       "      <td>excellent staff and customer service, very cle...</td>\n",
       "    </tr>\n",
       "    <tr>\n",
       "      <th>1</th>\n",
       "      <td>2</td>\n",
       "      <td>1</td>\n",
       "      <td>1</td>\n",
       "      <td>My stay at this hotel was one of the best I ha...</td>\n",
       "    </tr>\n",
       "    <tr>\n",
       "      <th>2</th>\n",
       "      <td>2</td>\n",
       "      <td>1</td>\n",
       "      <td>1</td>\n",
       "      <td>We just got back from a trip to Chicago for my...</td>\n",
       "    </tr>\n",
       "  </tbody>\n",
       "</table>\n",
       "</div>"
      ],
      "text/plain": [
       "             fold  polarity  deceptive  \\\n",
       "document_id                              \n",
       "0               2         1          1   \n",
       "1               2         1          1   \n",
       "2               2         1          1   \n",
       "\n",
       "                                                          text  \n",
       "document_id                                                     \n",
       "0            excellent staff and customer service, very cle...  \n",
       "1            My stay at this hotel was one of the best I ha...  \n",
       "2            We just got back from a trip to Chicago for my...  "
      ]
     },
     "execution_count": 5,
     "metadata": {},
     "output_type": "execute_result"
    }
   ],
   "source": [
    "df.head(3)"
   ]
  },
  {
   "cell_type": "markdown",
   "id": "ddffce90",
   "metadata": {},
   "source": [
    "# Count Vectorization"
   ]
  },
  {
   "cell_type": "code",
   "execution_count": 6,
   "id": "98f24c43",
   "metadata": {},
   "outputs": [],
   "source": [
    "from sklearn.feature_extraction.text import CountVectorizer"
   ]
  },
  {
   "cell_type": "code",
   "execution_count": 7,
   "id": "12fd8458",
   "metadata": {},
   "outputs": [],
   "source": [
    "sentences = [\n",
    "    'Malaga is in Spain',\n",
    "    'Paris is in France',\n",
    "]"
   ]
  },
  {
   "cell_type": "code",
   "execution_count": 8,
   "id": "ce10a8bc",
   "metadata": {},
   "outputs": [
    {
     "data": {
      "text/plain": [
       "CountVectorizer()"
      ]
     },
     "execution_count": 8,
     "metadata": {},
     "output_type": "execute_result"
    }
   ],
   "source": [
    "vectorizer = CountVectorizer()\n",
    "vectorizer.fit(sentences)"
   ]
  },
  {
   "cell_type": "code",
   "execution_count": 9,
   "id": "77ebfd5f",
   "metadata": {},
   "outputs": [],
   "source": [
    "# Vocabulary\n",
    "vocabulary = vectorizer.get_feature_names_out().tolist()\n",
    "\n",
    "# Vectors\n",
    "vectors = vectorizer.transform(sentences).todense()"
   ]
  },
  {
   "cell_type": "code",
   "execution_count": 10,
   "id": "99d346ed",
   "metadata": {},
   "outputs": [
    {
     "data": {
      "text/plain": [
       "['france', 'in', 'is', 'malaga', 'paris', 'spain']"
      ]
     },
     "execution_count": 10,
     "metadata": {},
     "output_type": "execute_result"
    }
   ],
   "source": [
    "vocabulary"
   ]
  },
  {
   "cell_type": "code",
   "execution_count": 11,
   "id": "d0cbaa13",
   "metadata": {},
   "outputs": [
    {
     "data": {
      "text/plain": [
       "matrix([[0, 1, 1, 1, 0, 1],\n",
       "        [1, 1, 1, 0, 1, 0]])"
      ]
     },
     "execution_count": 11,
     "metadata": {},
     "output_type": "execute_result"
    }
   ],
   "source": [
    "vectors"
   ]
  },
  {
   "cell_type": "code",
   "execution_count": 12,
   "id": "4bcb2ea3",
   "metadata": {},
   "outputs": [
    {
     "data": {
      "text/html": [
       "<div>\n",
       "<style scoped>\n",
       "    .dataframe tbody tr th:only-of-type {\n",
       "        vertical-align: middle;\n",
       "    }\n",
       "\n",
       "    .dataframe tbody tr th {\n",
       "        vertical-align: top;\n",
       "    }\n",
       "\n",
       "    .dataframe thead th {\n",
       "        text-align: right;\n",
       "    }\n",
       "</style>\n",
       "<table border=\"1\" class=\"dataframe\">\n",
       "  <thead>\n",
       "    <tr style=\"text-align: right;\">\n",
       "      <th></th>\n",
       "      <th>france</th>\n",
       "      <th>in</th>\n",
       "      <th>is</th>\n",
       "      <th>malaga</th>\n",
       "      <th>paris</th>\n",
       "      <th>spain</th>\n",
       "    </tr>\n",
       "  </thead>\n",
       "  <tbody>\n",
       "    <tr>\n",
       "      <th>0</th>\n",
       "      <td>0</td>\n",
       "      <td>1</td>\n",
       "      <td>1</td>\n",
       "      <td>1</td>\n",
       "      <td>0</td>\n",
       "      <td>1</td>\n",
       "    </tr>\n",
       "    <tr>\n",
       "      <th>1</th>\n",
       "      <td>1</td>\n",
       "      <td>1</td>\n",
       "      <td>1</td>\n",
       "      <td>0</td>\n",
       "      <td>1</td>\n",
       "      <td>0</td>\n",
       "    </tr>\n",
       "  </tbody>\n",
       "</table>\n",
       "</div>"
      ],
      "text/plain": [
       "   france  in  is  malaga  paris  spain\n",
       "0       0   1   1       1      0      1\n",
       "1       1   1   1       0      1      0"
      ]
     },
     "execution_count": 12,
     "metadata": {},
     "output_type": "execute_result"
    }
   ],
   "source": [
    "# Combine Vocabulary and Vectors\n",
    "\n",
    "pd.DataFrame(\n",
    "    vectors,\n",
    "    columns=vocabulary\n",
    ")"
   ]
  },
  {
   "cell_type": "markdown",
   "id": "6a36ae7d",
   "metadata": {},
   "source": [
    "# Build your first classifier "
   ]
  },
  {
   "cell_type": "code",
   "execution_count": 13,
   "id": "be8ec38a",
   "metadata": {},
   "outputs": [
    {
     "data": {
      "text/html": [
       "<div>\n",
       "<style scoped>\n",
       "    .dataframe tbody tr th:only-of-type {\n",
       "        vertical-align: middle;\n",
       "    }\n",
       "\n",
       "    .dataframe tbody tr th {\n",
       "        vertical-align: top;\n",
       "    }\n",
       "\n",
       "    .dataframe thead th {\n",
       "        text-align: right;\n",
       "    }\n",
       "</style>\n",
       "<table border=\"1\" class=\"dataframe\">\n",
       "  <thead>\n",
       "    <tr style=\"text-align: right;\">\n",
       "      <th></th>\n",
       "      <th>fold</th>\n",
       "      <th>polarity</th>\n",
       "      <th>deceptive</th>\n",
       "      <th>text</th>\n",
       "    </tr>\n",
       "    <tr>\n",
       "      <th>document_id</th>\n",
       "      <th></th>\n",
       "      <th></th>\n",
       "      <th></th>\n",
       "      <th></th>\n",
       "    </tr>\n",
       "  </thead>\n",
       "  <tbody>\n",
       "    <tr>\n",
       "      <th>526</th>\n",
       "      <td>5</td>\n",
       "      <td>1</td>\n",
       "      <td>0</td>\n",
       "      <td>We booked this hotel for the second leg of our...</td>\n",
       "    </tr>\n",
       "    <tr>\n",
       "      <th>354</th>\n",
       "      <td>1</td>\n",
       "      <td>1</td>\n",
       "      <td>1</td>\n",
       "      <td>This hotel is great! I love its interior desig...</td>\n",
       "    </tr>\n",
       "    <tr>\n",
       "      <th>168</th>\n",
       "      <td>4</td>\n",
       "      <td>1</td>\n",
       "      <td>1</td>\n",
       "      <td>My husband and I had a wonderful time at Swiss...</td>\n",
       "    </tr>\n",
       "  </tbody>\n",
       "</table>\n",
       "</div>"
      ],
      "text/plain": [
       "             fold  polarity  deceptive  \\\n",
       "document_id                              \n",
       "526             5         1          0   \n",
       "354             1         1          1   \n",
       "168             4         1          1   \n",
       "\n",
       "                                                          text  \n",
       "document_id                                                     \n",
       "526          We booked this hotel for the second leg of our...  \n",
       "354          This hotel is great! I love its interior desig...  \n",
       "168          My husband and I had a wonderful time at Swiss...  "
      ]
     },
     "execution_count": 13,
     "metadata": {},
     "output_type": "execute_result"
    }
   ],
   "source": [
    "df.sample(3, random_state=42)"
   ]
  },
  {
   "cell_type": "code",
   "execution_count": 14,
   "id": "41d7f4af",
   "metadata": {},
   "outputs": [
    {
     "data": {
      "text/plain": [
       "[1, 2, 3, 4, 5]"
      ]
     },
     "execution_count": 14,
     "metadata": {},
     "output_type": "execute_result"
    }
   ],
   "source": [
    "sorted(df['fold'].unique())"
   ]
  },
  {
   "cell_type": "code",
   "execution_count": 15,
   "id": "1945c4ea",
   "metadata": {},
   "outputs": [],
   "source": [
    "train_df = df[df.fold.isin([1, 2, 3])]\n",
    "test_df = df[df.fold.isin([4, 5])]"
   ]
  },
  {
   "cell_type": "code",
   "execution_count": 16,
   "id": "0d9a72f2",
   "metadata": {},
   "outputs": [],
   "source": [
    "from sklearn.feature_extraction.text import CountVectorizer\n",
    "\n",
    "vectorizer = CountVectorizer()\n",
    "vectorizer.fit(train_df['text'])\n",
    "\n",
    "x_train = vectorizer.transform(train_df['text'])\n",
    "x_test = vectorizer.transform(test_df['text'])"
   ]
  },
  {
   "cell_type": "code",
   "execution_count": 17,
   "id": "c48c71ba",
   "metadata": {},
   "outputs": [
    {
     "data": {
      "text/plain": [
       "matrix([[0, 0, 0, ..., 0, 0, 0],\n",
       "        [0, 0, 0, ..., 0, 0, 0],\n",
       "        [0, 0, 0, ..., 0, 0, 0],\n",
       "        ...,\n",
       "        [0, 0, 0, ..., 0, 0, 0],\n",
       "        [0, 0, 0, ..., 0, 0, 0],\n",
       "        [0, 0, 0, ..., 0, 0, 0]])"
      ]
     },
     "execution_count": 17,
     "metadata": {},
     "output_type": "execute_result"
    }
   ],
   "source": [
    "x_train.todense()"
   ]
  },
  {
   "cell_type": "code",
   "execution_count": 18,
   "id": "9623d4af",
   "metadata": {},
   "outputs": [],
   "source": [
    "y_train, y_test = train_df['deceptive'], test_df['deceptive']"
   ]
  },
  {
   "cell_type": "code",
   "execution_count": 19,
   "id": "ae579912",
   "metadata": {},
   "outputs": [],
   "source": [
    "from sklearn.naive_bayes import MultinomialNB\n",
    "\n",
    "classifier = MultinomialNB()\n",
    "classifier.fit(x_train, y_train)\n",
    "\n",
    "y_hat_test = classifier.predict(x_test) # We do not give it y_test"
   ]
  },
  {
   "cell_type": "code",
   "execution_count": 24,
   "id": "e15f574b",
   "metadata": {},
   "outputs": [],
   "source": [
    "pd.set_option('mode.chained_assignment', None)"
   ]
  },
  {
   "cell_type": "code",
   "execution_count": 25,
   "id": "52f0e05d",
   "metadata": {},
   "outputs": [],
   "source": [
    "test_df['predicted_deceptive'] = y_hat_test"
   ]
  },
  {
   "cell_type": "code",
   "execution_count": 26,
   "id": "590561cd",
   "metadata": {},
   "outputs": [
    {
     "data": {
      "text/html": [
       "<div>\n",
       "<style scoped>\n",
       "    .dataframe tbody tr th:only-of-type {\n",
       "        vertical-align: middle;\n",
       "    }\n",
       "\n",
       "    .dataframe tbody tr th {\n",
       "        vertical-align: top;\n",
       "    }\n",
       "\n",
       "    .dataframe thead th {\n",
       "        text-align: right;\n",
       "    }\n",
       "</style>\n",
       "<table border=\"1\" class=\"dataframe\">\n",
       "  <thead>\n",
       "    <tr style=\"text-align: right;\">\n",
       "      <th></th>\n",
       "      <th>deceptive</th>\n",
       "      <th>predicted_deceptive</th>\n",
       "    </tr>\n",
       "    <tr>\n",
       "      <th>document_id</th>\n",
       "      <th></th>\n",
       "      <th></th>\n",
       "    </tr>\n",
       "  </thead>\n",
       "  <tbody>\n",
       "    <tr>\n",
       "      <th>996</th>\n",
       "      <td>1</td>\n",
       "      <td>0</td>\n",
       "    </tr>\n",
       "    <tr>\n",
       "      <th>508</th>\n",
       "      <td>0</td>\n",
       "      <td>1</td>\n",
       "    </tr>\n",
       "    <tr>\n",
       "      <th>978</th>\n",
       "      <td>1</td>\n",
       "      <td>1</td>\n",
       "    </tr>\n",
       "    <tr>\n",
       "      <th>590</th>\n",
       "      <td>0</td>\n",
       "      <td>0</td>\n",
       "    </tr>\n",
       "    <tr>\n",
       "      <th>950</th>\n",
       "      <td>1</td>\n",
       "      <td>1</td>\n",
       "    </tr>\n",
       "    <tr>\n",
       "      <th>1335</th>\n",
       "      <td>0</td>\n",
       "      <td>0</td>\n",
       "    </tr>\n",
       "    <tr>\n",
       "      <th>600</th>\n",
       "      <td>0</td>\n",
       "      <td>0</td>\n",
       "    </tr>\n",
       "  </tbody>\n",
       "</table>\n",
       "</div>"
      ],
      "text/plain": [
       "             deceptive  predicted_deceptive\n",
       "document_id                                \n",
       "996                  1                    0\n",
       "508                  0                    1\n",
       "978                  1                    1\n",
       "590                  0                    0\n",
       "950                  1                    1\n",
       "1335                 0                    0\n",
       "600                  0                    0"
      ]
     },
     "execution_count": 26,
     "metadata": {},
     "output_type": "execute_result"
    }
   ],
   "source": [
    "test_df[['deceptive', 'predicted_deceptive']].sample(7, random_state=44)"
   ]
  },
  {
   "cell_type": "code",
   "execution_count": 27,
   "id": "139d177e",
   "metadata": {},
   "outputs": [
    {
     "data": {
      "text/plain": [
       "0.8625"
      ]
     },
     "execution_count": 27,
     "metadata": {},
     "output_type": "execute_result"
    }
   ],
   "source": [
    "from sklearn.metrics import accuracy_score\n",
    "\n",
    "accuracy_score(y_true=y_test, y_pred=y_hat_test)"
   ]
  },
  {
   "cell_type": "markdown",
   "id": "4ccc6772",
   "metadata": {},
   "source": [
    "## Note about Accuracy Score"
   ]
  },
  {
   "cell_type": "markdown",
   "id": "cb57be3e",
   "metadata": {},
   "source": [
    "**[Question]** \n",
    "\n",
    "Say percentage of y_test=1 is 86%, \n",
    "and we have a model that predicts everything as deceptive regardless. \n",
    "\n",
    "What will its accuracy be in this case?"
   ]
  },
  {
   "cell_type": "markdown",
   "id": "6d5baf74",
   "metadata": {},
   "source": [
    "# Helper Function"
   ]
  },
  {
   "cell_type": "raw",
   "id": "f7a84e75",
   "metadata": {},
   "source": [
    "x_train, x_test = train_df['text'], test_df['text']\n",
    "y_train, y_test = train_df['deceptive'], test_df['deceptive']"
   ]
  },
  {
   "cell_type": "code",
   "execution_count": 30,
   "id": "7b98c990",
   "metadata": {},
   "outputs": [],
   "source": [
    "def to_xy(df, text_col='text', label='deceptive'):\n",
    "    return df[text_col], df[label]"
   ]
  },
  {
   "cell_type": "code",
   "execution_count": 31,
   "id": "d3be9cf0",
   "metadata": {},
   "outputs": [],
   "source": [
    "x_train, y_train = to_xy(train_df)\n",
    "x_test, y_test = to_xy(test_df)"
   ]
  },
  {
   "cell_type": "markdown",
   "id": "20e2e383",
   "metadata": {},
   "source": [
    "# Pipeline"
   ]
  },
  {
   "cell_type": "raw",
   "id": "b6ad9efa",
   "metadata": {},
   "source": [
    "from sklearn.feature_extraction.text import CountVectorizer\n",
    "from sklearn.naive_bayes import MultinomialNB\n",
    "\n",
    "vectorizer = CountVectorizer()\n",
    "vectorizer.fit(train_df['text'])\n",
    "\n",
    "x_train = vectorizer.transform(train_df['text'])\n",
    "x_test = vectorizer.transform(test_df['text'])\n",
    "\n",
    "y_train, y_test = train_df['deceptive'], test_df['deceptive']\n",
    "\n",
    "classifier = MultinomialNB()\n",
    "classifier.fit(x_train, y_train)\n",
    "\n",
    "y_hat_test = classifier.predict(x_test)"
   ]
  },
  {
   "cell_type": "code",
   "execution_count": 32,
   "id": "9f6a793a",
   "metadata": {},
   "outputs": [],
   "source": [
    "from sklearn.feature_extraction.text import CountVectorizer\n",
    "from sklearn.naive_bayes import MultinomialNB\n",
    "\n",
    "from sklearn.pipeline import make_pipeline\n",
    "\n",
    "classifier_pipeline = make_pipeline(CountVectorizer(), MultinomialNB())"
   ]
  },
  {
   "cell_type": "code",
   "execution_count": 33,
   "id": "c1ecf961",
   "metadata": {},
   "outputs": [],
   "source": [
    "x_train, y_train = to_xy(train_df)\n",
    "x_test, y_test = to_xy(test_df)\n",
    "\n",
    "classifier_pipeline.fit(x_train, y_train)\n",
    "y_hat_test = classifier_pipeline.predict(x_test)"
   ]
  },
  {
   "cell_type": "code",
   "execution_count": 34,
   "id": "07852225",
   "metadata": {},
   "outputs": [
    {
     "data": {
      "text/plain": [
       "0.8625"
      ]
     },
     "execution_count": 34,
     "metadata": {},
     "output_type": "execute_result"
    }
   ],
   "source": [
    "from sklearn.metrics import accuracy_score\n",
    "\n",
    "accuracy_score(y_true=y_test, y_pred=y_hat_test)"
   ]
  },
  {
   "cell_type": "markdown",
   "id": "5284a5ae",
   "metadata": {},
   "source": [
    "## Note about our train / test split"
   ]
  },
  {
   "cell_type": "markdown",
   "id": "46a342ab",
   "metadata": {},
   "source": [
    "We used folds 1, 2 and 3 for training, and folds 4 and 5 for testing.\n",
    "\n",
    "What if for some reason, the model finds it easier to predict the samples at folds 4 and 5,\n",
    "compared to, say, predicting the samples at folds 1 and 2, or 2 and 3, etc.\n",
    "\n",
    "How can we make sure we chose the right split? "
   ]
  },
  {
   "cell_type": "code",
   "execution_count": 35,
   "id": "ccc494b1",
   "metadata": {},
   "outputs": [
    {
     "data": {
      "text/plain": [
       "(960, 640)"
      ]
     },
     "execution_count": 35,
     "metadata": {},
     "output_type": "execute_result"
    }
   ],
   "source": [
    "len(y_train), len(y_test)"
   ]
  },
  {
   "cell_type": "markdown",
   "id": "b6f06b06",
   "metadata": {},
   "source": [
    "# K-Fold Cross Validation"
   ]
  },
  {
   "cell_type": "code",
   "execution_count": 36,
   "id": "6c3b98d6",
   "metadata": {},
   "outputs": [
    {
     "data": {
      "text/html": [
       "<div>\n",
       "<style scoped>\n",
       "    .dataframe tbody tr th:only-of-type {\n",
       "        vertical-align: middle;\n",
       "    }\n",
       "\n",
       "    .dataframe tbody tr th {\n",
       "        vertical-align: top;\n",
       "    }\n",
       "\n",
       "    .dataframe thead th {\n",
       "        text-align: right;\n",
       "    }\n",
       "</style>\n",
       "<table border=\"1\" class=\"dataframe\">\n",
       "  <thead>\n",
       "    <tr style=\"text-align: right;\">\n",
       "      <th></th>\n",
       "      <th>fold</th>\n",
       "      <th>polarity</th>\n",
       "      <th>deceptive</th>\n",
       "      <th>text</th>\n",
       "    </tr>\n",
       "    <tr>\n",
       "      <th>document_id</th>\n",
       "      <th></th>\n",
       "      <th></th>\n",
       "      <th></th>\n",
       "      <th></th>\n",
       "    </tr>\n",
       "  </thead>\n",
       "  <tbody>\n",
       "    <tr>\n",
       "      <th>526</th>\n",
       "      <td>5</td>\n",
       "      <td>1</td>\n",
       "      <td>0</td>\n",
       "      <td>We booked this hotel for the second leg of our...</td>\n",
       "    </tr>\n",
       "    <tr>\n",
       "      <th>354</th>\n",
       "      <td>1</td>\n",
       "      <td>1</td>\n",
       "      <td>1</td>\n",
       "      <td>This hotel is great! I love its interior desig...</td>\n",
       "    </tr>\n",
       "    <tr>\n",
       "      <th>168</th>\n",
       "      <td>4</td>\n",
       "      <td>1</td>\n",
       "      <td>1</td>\n",
       "      <td>My husband and I had a wonderful time at Swiss...</td>\n",
       "    </tr>\n",
       "  </tbody>\n",
       "</table>\n",
       "</div>"
      ],
      "text/plain": [
       "             fold  polarity  deceptive  \\\n",
       "document_id                              \n",
       "526             5         1          0   \n",
       "354             1         1          1   \n",
       "168             4         1          1   \n",
       "\n",
       "                                                          text  \n",
       "document_id                                                     \n",
       "526          We booked this hotel for the second leg of our...  \n",
       "354          This hotel is great! I love its interior desig...  \n",
       "168          My husband and I had a wonderful time at Swiss...  "
      ]
     },
     "execution_count": 36,
     "metadata": {},
     "output_type": "execute_result"
    }
   ],
   "source": [
    "df.sample(3, random_state=42)"
   ]
  },
  {
   "cell_type": "code",
   "execution_count": 37,
   "id": "68075ebc",
   "metadata": {},
   "outputs": [
    {
     "data": {
      "text/plain": [
       "[1, 2, 3, 4, 5]"
      ]
     },
     "execution_count": 37,
     "metadata": {},
     "output_type": "execute_result"
    }
   ],
   "source": [
    "sorted(df['fold'].unique())"
   ]
  },
  {
   "cell_type": "code",
   "execution_count": 38,
   "id": "bba17333",
   "metadata": {},
   "outputs": [
    {
     "data": {
      "text/plain": [
       "(1280, 320)"
      ]
     },
     "execution_count": 38,
     "metadata": {},
     "output_type": "execute_result"
    }
   ],
   "source": [
    "# df[df['fold'] != 1].shape[0], df[df['fold'] == 1].shape[0]\n",
    "len(df[df['fold'] != 1]), len(df[df['fold'] == 1])"
   ]
  },
  {
   "cell_type": "code",
   "execution_count": 39,
   "id": "bffd2b4e",
   "metadata": {},
   "outputs": [],
   "source": [
    "def kflod_splits(df):\n",
    "    folds = sorted(df['fold'].unique())\n",
    "    for fold in folds:\n",
    "        yield fold, df[df['fold'] != fold], df[df['fold'] == fold]"
   ]
  },
  {
   "cell_type": "code",
   "execution_count": 40,
   "id": "72551f30",
   "metadata": {},
   "outputs": [
    {
     "name": "stdout",
     "output_type": "stream",
     "text": [
      "fold=1: len(train_df)=1280 and len(test_df)=320\n",
      "fold=2: len(train_df)=1280 and len(test_df)=320\n",
      "fold=3: len(train_df)=1280 and len(test_df)=320\n",
      "fold=4: len(train_df)=1280 and len(test_df)=320\n",
      "fold=5: len(train_df)=1280 and len(test_df)=320\n"
     ]
    }
   ],
   "source": [
    "for fold, train_df, test_df in kflod_splits(df):\n",
    "    print(f\"{fold=}: {len(train_df)=} and {len(test_df)=}\")"
   ]
  },
  {
   "cell_type": "code",
   "execution_count": 41,
   "id": "3b1310bc",
   "metadata": {},
   "outputs": [
    {
     "name": "stdout",
     "output_type": "stream",
     "text": [
      "Predicting deceptive reviews:\n",
      "\n",
      "fold=1 train_score=97.3%, test_score=81.2%\n",
      "fold=2 train_score=97.0%, test_score=82.8%\n",
      "fold=3 train_score=97.3%, test_score=90.0%\n",
      "fold=4 train_score=97.0%, test_score=84.4%\n",
      "fold=5 train_score=96.9%, test_score=89.4%\n"
     ]
    }
   ],
   "source": [
    "from sklearn.feature_extraction.text import CountVectorizer\n",
    "from sklearn.naive_bayes import MultinomialNB\n",
    "from sklearn.metrics import accuracy_score\n",
    "\n",
    "from sklearn.pipeline import make_pipeline\n",
    "\n",
    "classifier_pipeline = make_pipeline(CountVectorizer(), MultinomialNB())\n",
    "\n",
    "print('Predicting deceptive reviews:\\n')\n",
    "\n",
    "for fold, train_df, test_df in kflod_splits(df):\n",
    "    \n",
    "    x_train, y_train = to_xy(train_df)\n",
    "    x_test, y_test = to_xy(test_df)\n",
    "    \n",
    "    classifier_pipeline.fit(x_train, y_train)\n",
    "    \n",
    "    y_hat_train = classifier_pipeline.predict(x_train)\n",
    "    train_score = accuracy_score(y_train, y_hat_train)\n",
    "    \n",
    "    y_hat_test = classifier_pipeline.predict(x_test)\n",
    "    test_score = accuracy_score(y_test, y_hat_test)\n",
    "    \n",
    "    print(f\"{fold=} {train_score=:.1%}, {test_score=:.1%}\")\n"
   ]
  },
  {
   "cell_type": "code",
   "execution_count": 43,
   "id": "c0eceed5",
   "metadata": {},
   "outputs": [
    {
     "name": "stdout",
     "output_type": "stream",
     "text": [
      "Predicting deceptive reviews:\n",
      "\n",
      "fold=1 train_score=100.0%, test_score=82.2%\n",
      "fold=2 train_score=100.0%, test_score=85.9%\n",
      "fold=3 train_score=100.0%, test_score=84.4%\n",
      "fold=4 train_score=100.0%, test_score=83.1%\n",
      "fold=5 train_score=100.0%, test_score=87.8%\n"
     ]
    }
   ],
   "source": [
    "from sklearn.feature_extraction.text import CountVectorizer\n",
    "from sklearn.linear_model import LogisticRegression\n",
    "from sklearn.metrics import accuracy_score\n",
    "\n",
    "from sklearn.pipeline import make_pipeline\n",
    "\n",
    "classifier_pipeline = make_pipeline(CountVectorizer(), LogisticRegression(max_iter=1000))\n",
    "\n",
    "print('Predicting deceptive reviews:\\n')\n",
    "\n",
    "for fold, train_df, test_df in kflod_splits(df):\n",
    "    \n",
    "    x_train, y_train = to_xy(train_df)\n",
    "    x_test, y_test = to_xy(test_df)\n",
    "    \n",
    "    classifier_pipeline.fit(x_train, y_train)\n",
    "    \n",
    "    y_hat_train = classifier_pipeline.predict(x_train)\n",
    "    train_score = accuracy_score(y_train, y_hat_train)\n",
    "    \n",
    "    y_hat_test = classifier_pipeline.predict(x_test)\n",
    "    test_score = accuracy_score(y_test, y_hat_test)\n",
    "    \n",
    "    print(f\"{fold=} {train_score=:.1%}, {test_score=:.1%}\")\n"
   ]
  },
  {
   "cell_type": "markdown",
   "id": "ab0ceb4d",
   "metadata": {},
   "source": [
    "## Exercise \n",
    "\n",
    "- Can you classify the documents based on their `polarity` instead of whether they are `deceptive` or not?\n",
    "- Since we have 5 folds, we get 5 train and 5 test scores. Print the average train and test score for each classifeir.\n",
    "- Try different classifiers, e.g. LogisticRegression, MultinomialNB, what else?\n",
    "- Can we combine two classifiers to help each other? \n",
    "- Check the documentations for the classifiers you use, and try different parameters. "
   ]
  },
  {
   "cell_type": "code",
   "execution_count": null,
   "id": "262cc1ea",
   "metadata": {},
   "outputs": [],
   "source": []
  }
 ],
 "metadata": {
  "kernelspec": {
   "display_name": "Python 3 (ipykernel)",
   "language": "python",
   "name": "python3"
  },
  "language_info": {
   "codemirror_mode": {
    "name": "ipython",
    "version": 3
   },
   "file_extension": ".py",
   "mimetype": "text/x-python",
   "name": "python",
   "nbconvert_exporter": "python",
   "pygments_lexer": "ipython3",
   "version": "3.9.12"
  }
 },
 "nbformat": 4,
 "nbformat_minor": 5
}
