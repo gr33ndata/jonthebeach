{
 "cells": [
  {
   "cell_type": "markdown",
   "id": "b01087ba",
   "metadata": {},
   "source": [
    "# Opinion Spam - Text Classification"
   ]
  },
  {
   "cell_type": "code",
   "execution_count": 16,
   "id": "375a4ece",
   "metadata": {},
   "outputs": [],
   "source": [
    "import os \n",
    "\n",
    "import pandas as pd"
   ]
  },
  {
   "cell_type": "code",
   "execution_count": 17,
   "id": "37e4f5e5",
   "metadata": {},
   "outputs": [],
   "source": [
    "dataset_dir = \"../datasets/opinion_spam\"\n",
    "\n",
    "df = pd.read_pickle(os.path.join(dataset_dir, \"prepared_data.pkl\"))"
   ]
  },
  {
   "cell_type": "code",
   "execution_count": 18,
   "id": "a7b1053d",
   "metadata": {},
   "outputs": [
    {
     "data": {
      "text/html": [
       "<div>\n",
       "<style scoped>\n",
       "    .dataframe tbody tr th:only-of-type {\n",
       "        vertical-align: middle;\n",
       "    }\n",
       "\n",
       "    .dataframe tbody tr th {\n",
       "        vertical-align: top;\n",
       "    }\n",
       "\n",
       "    .dataframe thead th {\n",
       "        text-align: right;\n",
       "    }\n",
       "</style>\n",
       "<table border=\"1\" class=\"dataframe\">\n",
       "  <thead>\n",
       "    <tr style=\"text-align: right;\">\n",
       "      <th></th>\n",
       "      <th>fold</th>\n",
       "      <th>polarity</th>\n",
       "      <th>deceptive</th>\n",
       "      <th>text</th>\n",
       "    </tr>\n",
       "    <tr>\n",
       "      <th>document_id</th>\n",
       "      <th></th>\n",
       "      <th></th>\n",
       "      <th></th>\n",
       "      <th></th>\n",
       "    </tr>\n",
       "  </thead>\n",
       "  <tbody>\n",
       "    <tr>\n",
       "      <th>0</th>\n",
       "      <td>2</td>\n",
       "      <td>1</td>\n",
       "      <td>1</td>\n",
       "      <td>excellent staff and customer service, very cle...</td>\n",
       "    </tr>\n",
       "    <tr>\n",
       "      <th>1</th>\n",
       "      <td>2</td>\n",
       "      <td>1</td>\n",
       "      <td>1</td>\n",
       "      <td>My stay at this hotel was one of the best I ha...</td>\n",
       "    </tr>\n",
       "    <tr>\n",
       "      <th>2</th>\n",
       "      <td>2</td>\n",
       "      <td>1</td>\n",
       "      <td>1</td>\n",
       "      <td>We just got back from a trip to Chicago for my...</td>\n",
       "    </tr>\n",
       "  </tbody>\n",
       "</table>\n",
       "</div>"
      ],
      "text/plain": [
       "             fold  polarity  deceptive  \\\n",
       "document_id                              \n",
       "0               2         1          1   \n",
       "1               2         1          1   \n",
       "2               2         1          1   \n",
       "\n",
       "                                                          text  \n",
       "document_id                                                     \n",
       "0            excellent staff and customer service, very cle...  \n",
       "1            My stay at this hotel was one of the best I ha...  \n",
       "2            We just got back from a trip to Chicago for my...  "
      ]
     },
     "execution_count": 18,
     "metadata": {},
     "output_type": "execute_result"
    }
   ],
   "source": [
    "df.head(3)"
   ]
  },
  {
   "cell_type": "markdown",
   "id": "ddffce90",
   "metadata": {},
   "source": [
    "# Count Vectorization"
   ]
  },
  {
   "cell_type": "code",
   "execution_count": 19,
   "id": "98f24c43",
   "metadata": {},
   "outputs": [],
   "source": [
    "from sklearn.feature_extraction.text import CountVectorizer"
   ]
  },
  {
   "cell_type": "code",
   "execution_count": 20,
   "id": "12fd8458",
   "metadata": {},
   "outputs": [],
   "source": [
    "sentences = [\n",
    "    'Malaga is in Spain',\n",
    "    'Paris is in France',\n",
    "]"
   ]
  },
  {
   "cell_type": "code",
   "execution_count": 32,
   "id": "ce10a8bc",
   "metadata": {},
   "outputs": [
    {
     "data": {
      "text/plain": [
       "CountVectorizer()"
      ]
     },
     "execution_count": 32,
     "metadata": {},
     "output_type": "execute_result"
    }
   ],
   "source": [
    "vectorizer = CountVectorizer()\n",
    "vectorizer.fit(sentences)"
   ]
  },
  {
   "cell_type": "code",
   "execution_count": 250,
   "id": "77ebfd5f",
   "metadata": {},
   "outputs": [],
   "source": [
    "# Vocabulary\n",
    "vocabulary = vectorizer.get_feature_names_out().tolist()\n",
    "\n",
    "# Vectors\n",
    "vectors = vectorizer.transform(sentences).todense()"
   ]
  },
  {
   "cell_type": "code",
   "execution_count": 55,
   "id": "99d346ed",
   "metadata": {},
   "outputs": [
    {
     "data": {
      "text/plain": [
       "['france', 'in', 'is', 'malaga', 'paris', 'spain']"
      ]
     },
     "execution_count": 55,
     "metadata": {},
     "output_type": "execute_result"
    }
   ],
   "source": [
    "vocabulary"
   ]
  },
  {
   "cell_type": "code",
   "execution_count": 56,
   "id": "d0cbaa13",
   "metadata": {},
   "outputs": [
    {
     "data": {
      "text/plain": [
       "matrix([[0, 1, 1, 1, 0, 1],\n",
       "        [1, 1, 1, 0, 1, 0]])"
      ]
     },
     "execution_count": 56,
     "metadata": {},
     "output_type": "execute_result"
    }
   ],
   "source": [
    "vectors"
   ]
  },
  {
   "cell_type": "code",
   "execution_count": 52,
   "id": "4bcb2ea3",
   "metadata": {},
   "outputs": [
    {
     "data": {
      "text/html": [
       "<div>\n",
       "<style scoped>\n",
       "    .dataframe tbody tr th:only-of-type {\n",
       "        vertical-align: middle;\n",
       "    }\n",
       "\n",
       "    .dataframe tbody tr th {\n",
       "        vertical-align: top;\n",
       "    }\n",
       "\n",
       "    .dataframe thead th {\n",
       "        text-align: right;\n",
       "    }\n",
       "</style>\n",
       "<table border=\"1\" class=\"dataframe\">\n",
       "  <thead>\n",
       "    <tr style=\"text-align: right;\">\n",
       "      <th></th>\n",
       "      <th>france</th>\n",
       "      <th>in</th>\n",
       "      <th>is</th>\n",
       "      <th>malaga</th>\n",
       "      <th>paris</th>\n",
       "      <th>spain</th>\n",
       "    </tr>\n",
       "  </thead>\n",
       "  <tbody>\n",
       "    <tr>\n",
       "      <th>0</th>\n",
       "      <td>0</td>\n",
       "      <td>1</td>\n",
       "      <td>1</td>\n",
       "      <td>1</td>\n",
       "      <td>0</td>\n",
       "      <td>1</td>\n",
       "    </tr>\n",
       "    <tr>\n",
       "      <th>1</th>\n",
       "      <td>1</td>\n",
       "      <td>1</td>\n",
       "      <td>1</td>\n",
       "      <td>0</td>\n",
       "      <td>1</td>\n",
       "      <td>0</td>\n",
       "    </tr>\n",
       "  </tbody>\n",
       "</table>\n",
       "</div>"
      ],
      "text/plain": [
       "   france  in  is  malaga  paris  spain\n",
       "0       0   1   1       1      0      1\n",
       "1       1   1   1       0      1      0"
      ]
     },
     "execution_count": 52,
     "metadata": {},
     "output_type": "execute_result"
    }
   ],
   "source": [
    "# Combine Vocabulary and Vectors\n",
    "\n",
    "pd.DataFrame(\n",
    "    vectors,\n",
    "    columns=vocabulary\n",
    ")"
   ]
  },
  {
   "cell_type": "markdown",
   "id": "6a36ae7d",
   "metadata": {},
   "source": [
    "# Build your first classifier "
   ]
  },
  {
   "cell_type": "code",
   "execution_count": 84,
   "id": "be8ec38a",
   "metadata": {},
   "outputs": [
    {
     "data": {
      "text/html": [
       "<div>\n",
       "<style scoped>\n",
       "    .dataframe tbody tr th:only-of-type {\n",
       "        vertical-align: middle;\n",
       "    }\n",
       "\n",
       "    .dataframe tbody tr th {\n",
       "        vertical-align: top;\n",
       "    }\n",
       "\n",
       "    .dataframe thead th {\n",
       "        text-align: right;\n",
       "    }\n",
       "</style>\n",
       "<table border=\"1\" class=\"dataframe\">\n",
       "  <thead>\n",
       "    <tr style=\"text-align: right;\">\n",
       "      <th></th>\n",
       "      <th>fold</th>\n",
       "      <th>polarity</th>\n",
       "      <th>deceptive</th>\n",
       "      <th>text</th>\n",
       "    </tr>\n",
       "    <tr>\n",
       "      <th>document_id</th>\n",
       "      <th></th>\n",
       "      <th></th>\n",
       "      <th></th>\n",
       "      <th></th>\n",
       "    </tr>\n",
       "  </thead>\n",
       "  <tbody>\n",
       "    <tr>\n",
       "      <th>526</th>\n",
       "      <td>5</td>\n",
       "      <td>1</td>\n",
       "      <td>0</td>\n",
       "      <td>We booked this hotel for the second leg of our...</td>\n",
       "    </tr>\n",
       "    <tr>\n",
       "      <th>354</th>\n",
       "      <td>1</td>\n",
       "      <td>1</td>\n",
       "      <td>1</td>\n",
       "      <td>This hotel is great! I love its interior desig...</td>\n",
       "    </tr>\n",
       "    <tr>\n",
       "      <th>168</th>\n",
       "      <td>4</td>\n",
       "      <td>1</td>\n",
       "      <td>1</td>\n",
       "      <td>My husband and I had a wonderful time at Swiss...</td>\n",
       "    </tr>\n",
       "  </tbody>\n",
       "</table>\n",
       "</div>"
      ],
      "text/plain": [
       "             fold  polarity  deceptive  \\\n",
       "document_id                              \n",
       "526             5         1          0   \n",
       "354             1         1          1   \n",
       "168             4         1          1   \n",
       "\n",
       "                                                          text  \n",
       "document_id                                                     \n",
       "526          We booked this hotel for the second leg of our...  \n",
       "354          This hotel is great! I love its interior desig...  \n",
       "168          My husband and I had a wonderful time at Swiss...  "
      ]
     },
     "execution_count": 84,
     "metadata": {},
     "output_type": "execute_result"
    }
   ],
   "source": [
    "df.sample(3, random_state=42)"
   ]
  },
  {
   "cell_type": "code",
   "execution_count": 85,
   "id": "41d7f4af",
   "metadata": {},
   "outputs": [
    {
     "data": {
      "text/plain": [
       "[1, 2, 3, 4, 5]"
      ]
     },
     "execution_count": 85,
     "metadata": {},
     "output_type": "execute_result"
    }
   ],
   "source": [
    "sorted(df['fold'].unique())"
   ]
  },
  {
   "cell_type": "code",
   "execution_count": 89,
   "id": "1945c4ea",
   "metadata": {},
   "outputs": [],
   "source": [
    "train_df = df[df.fold.isin([1, 2, 3])]\n",
    "test_df = df[df.fold.isin([4, 5])]"
   ]
  },
  {
   "cell_type": "code",
   "execution_count": 90,
   "id": "0d9a72f2",
   "metadata": {},
   "outputs": [],
   "source": [
    "from sklearn.feature_extraction.text import CountVectorizer\n",
    "\n",
    "vectorizer = CountVectorizer()\n",
    "vectorizer.fit(train_df['text'])\n",
    "\n",
    "x_train = vectorizer.transform(train_df['text'])\n",
    "x_test = vectorizer.transform(test_df['text'])"
   ]
  },
  {
   "cell_type": "code",
   "execution_count": 91,
   "id": "c48c71ba",
   "metadata": {},
   "outputs": [
    {
     "data": {
      "text/plain": [
       "matrix([[0, 0, 0, ..., 0, 0, 0],\n",
       "        [0, 0, 0, ..., 0, 0, 0],\n",
       "        [0, 0, 0, ..., 0, 0, 0],\n",
       "        ...,\n",
       "        [0, 0, 0, ..., 0, 0, 0],\n",
       "        [0, 0, 0, ..., 0, 0, 0],\n",
       "        [0, 0, 0, ..., 0, 0, 0]])"
      ]
     },
     "execution_count": 91,
     "metadata": {},
     "output_type": "execute_result"
    }
   ],
   "source": [
    "x_train.todense()"
   ]
  },
  {
   "cell_type": "code",
   "execution_count": 108,
   "id": "9623d4af",
   "metadata": {},
   "outputs": [],
   "source": [
    "y_train, y_test = train_df['deceptive'], test_df['deceptive']"
   ]
  },
  {
   "cell_type": "code",
   "execution_count": 109,
   "id": "ae579912",
   "metadata": {},
   "outputs": [],
   "source": [
    "from sklearn.naive_bayes import MultinomialNB\n",
    "\n",
    "classifier = MultinomialNB()\n",
    "classifier.fit(x_train, y_train)\n",
    "\n",
    "y_hat_test = classifier.predict(x_test) # We do not give it y_test"
   ]
  },
  {
   "cell_type": "code",
   "execution_count": 141,
   "id": "52f0e05d",
   "metadata": {},
   "outputs": [],
   "source": [
    "test_df['predicted_deceptive'] = y_hat_test"
   ]
  },
  {
   "cell_type": "code",
   "execution_count": 127,
   "id": "590561cd",
   "metadata": {},
   "outputs": [
    {
     "data": {
      "text/html": [
       "<div>\n",
       "<style scoped>\n",
       "    .dataframe tbody tr th:only-of-type {\n",
       "        vertical-align: middle;\n",
       "    }\n",
       "\n",
       "    .dataframe tbody tr th {\n",
       "        vertical-align: top;\n",
       "    }\n",
       "\n",
       "    .dataframe thead th {\n",
       "        text-align: right;\n",
       "    }\n",
       "</style>\n",
       "<table border=\"1\" class=\"dataframe\">\n",
       "  <thead>\n",
       "    <tr style=\"text-align: right;\">\n",
       "      <th></th>\n",
       "      <th>deceptive</th>\n",
       "      <th>predicted_deceptive</th>\n",
       "    </tr>\n",
       "    <tr>\n",
       "      <th>document_id</th>\n",
       "      <th></th>\n",
       "      <th></th>\n",
       "    </tr>\n",
       "  </thead>\n",
       "  <tbody>\n",
       "    <tr>\n",
       "      <th>996</th>\n",
       "      <td>1</td>\n",
       "      <td>0</td>\n",
       "    </tr>\n",
       "    <tr>\n",
       "      <th>508</th>\n",
       "      <td>0</td>\n",
       "      <td>1</td>\n",
       "    </tr>\n",
       "    <tr>\n",
       "      <th>978</th>\n",
       "      <td>1</td>\n",
       "      <td>1</td>\n",
       "    </tr>\n",
       "    <tr>\n",
       "      <th>590</th>\n",
       "      <td>0</td>\n",
       "      <td>0</td>\n",
       "    </tr>\n",
       "    <tr>\n",
       "      <th>950</th>\n",
       "      <td>1</td>\n",
       "      <td>1</td>\n",
       "    </tr>\n",
       "    <tr>\n",
       "      <th>1335</th>\n",
       "      <td>0</td>\n",
       "      <td>0</td>\n",
       "    </tr>\n",
       "    <tr>\n",
       "      <th>600</th>\n",
       "      <td>0</td>\n",
       "      <td>0</td>\n",
       "    </tr>\n",
       "  </tbody>\n",
       "</table>\n",
       "</div>"
      ],
      "text/plain": [
       "             deceptive  predicted_deceptive\n",
       "document_id                                \n",
       "996                  1                    0\n",
       "508                  0                    1\n",
       "978                  1                    1\n",
       "590                  0                    0\n",
       "950                  1                    1\n",
       "1335                 0                    0\n",
       "600                  0                    0"
      ]
     },
     "execution_count": 127,
     "metadata": {},
     "output_type": "execute_result"
    }
   ],
   "source": [
    "test_df[['deceptive', 'predicted_deceptive']].sample(7, random_state=44)"
   ]
  },
  {
   "cell_type": "code",
   "execution_count": 142,
   "id": "139d177e",
   "metadata": {},
   "outputs": [
    {
     "data": {
      "text/plain": [
       "0.8625"
      ]
     },
     "execution_count": 142,
     "metadata": {},
     "output_type": "execute_result"
    }
   ],
   "source": [
    "from sklearn.metrics import accuracy_score\n",
    "\n",
    "accuracy_score(y_true=y_test, y_pred=y_hat_test)"
   ]
  },
  {
   "cell_type": "markdown",
   "id": "4ccc6772",
   "metadata": {},
   "source": [
    "## Note about Accuracy Score"
   ]
  },
  {
   "cell_type": "markdown",
   "id": "cb57be3e",
   "metadata": {},
   "source": [
    "### Question\n",
    "\n",
    "Say percentage of y_test=1 is 86%, \n",
    "and we have a model that predicts everything as deceptive regardless. \n",
    "\n",
    "What will its accuracy be in this case?"
   ]
  },
  {
   "cell_type": "code",
   "execution_count": 144,
   "id": "5e688f94",
   "metadata": {},
   "outputs": [
    {
     "data": {
      "text/plain": [
       "0.5"
      ]
     },
     "execution_count": 144,
     "metadata": {},
     "output_type": "execute_result"
    }
   ],
   "source": [
    "y_test.mean()"
   ]
  },
  {
   "cell_type": "markdown",
   "id": "20e2e383",
   "metadata": {},
   "source": [
    "# Pipeline"
   ]
  },
  {
   "cell_type": "raw",
   "id": "b6ad9efa",
   "metadata": {},
   "source": [
    "from sklearn.feature_extraction.text import CountVectorizer\n",
    "from sklearn.naive_bayes import MultinomialNB\n",
    "\n",
    "vectorizer = CountVectorizer()\n",
    "vectorizer.fit(train_df['text'])\n",
    "\n",
    "x_train = vectorizer.transform(train_df['text'])\n",
    "x_test = vectorizer.transform(test_df['text'])\n",
    "\n",
    "y_train, y_test = train_df['deceptive'], test_df['deceptive']\n",
    "\n",
    "classifier = MultinomialNB()\n",
    "classifier.fit(x_train, y_train)\n",
    "\n",
    "y_hat_test = classifier.predict(x_test)"
   ]
  },
  {
   "cell_type": "code",
   "execution_count": 227,
   "id": "235269c3",
   "metadata": {},
   "outputs": [],
   "source": [
    "def to_xy(df, text_col='text', label='deceptive'):\n",
    "    return df[text_col], df[label]"
   ]
  },
  {
   "cell_type": "code",
   "execution_count": 228,
   "id": "3c60a2b9",
   "metadata": {},
   "outputs": [],
   "source": [
    "x_train, y_train = to_xy(train_df)\n",
    "x_test, y_test = to_xy(test_df)"
   ]
  },
  {
   "cell_type": "code",
   "execution_count": 229,
   "id": "9f6a793a",
   "metadata": {},
   "outputs": [],
   "source": [
    "from sklearn.feature_extraction.text import CountVectorizer\n",
    "from sklearn.naive_bayes import MultinomialNB\n",
    "\n",
    "from sklearn.pipeline import make_pipeline\n",
    "\n",
    "classifier_pipeline = make_pipeline(CountVectorizer(), MultinomialNB())\n",
    "\n",
    "classifier_pipeline.fit(x_train, y_train)\n",
    "y_hat_test = classifier_pipeline.predict(x_test)"
   ]
  },
  {
   "cell_type": "code",
   "execution_count": 230,
   "id": "07852225",
   "metadata": {},
   "outputs": [
    {
     "data": {
      "text/plain": [
       "0.89375"
      ]
     },
     "execution_count": 230,
     "metadata": {},
     "output_type": "execute_result"
    }
   ],
   "source": [
    "from sklearn.metrics import accuracy_score\n",
    "\n",
    "accuracy_score(y_true=y_test, y_pred=y_hat_test)"
   ]
  },
  {
   "cell_type": "code",
   "execution_count": 231,
   "id": "fc88a19a",
   "metadata": {},
   "outputs": [
    {
     "data": {
      "text/plain": [
       "(2, 8656)"
      ]
     },
     "execution_count": 231,
     "metadata": {},
     "output_type": "execute_result"
    }
   ],
   "source": [
    "classifier_pipeline.named_steps['multinomialnb'].feature_log_prob_.shape"
   ]
  },
  {
   "cell_type": "code",
   "execution_count": 232,
   "id": "36a77431",
   "metadata": {},
   "outputs": [
    {
     "data": {
      "text/html": [
       "<div>\n",
       "<style scoped>\n",
       "    .dataframe tbody tr th:only-of-type {\n",
       "        vertical-align: middle;\n",
       "    }\n",
       "\n",
       "    .dataframe tbody tr th {\n",
       "        vertical-align: top;\n",
       "    }\n",
       "\n",
       "    .dataframe thead th {\n",
       "        text-align: right;\n",
       "    }\n",
       "</style>\n",
       "<table border=\"1\" class=\"dataframe\">\n",
       "  <thead>\n",
       "    <tr style=\"text-align: right;\">\n",
       "      <th></th>\n",
       "      <th>Token</th>\n",
       "      <th>LogProba</th>\n",
       "    </tr>\n",
       "  </thead>\n",
       "  <tbody>\n",
       "    <tr>\n",
       "      <th>7698</th>\n",
       "      <td>the</td>\n",
       "      <td>-2.734479</td>\n",
       "    </tr>\n",
       "    <tr>\n",
       "      <th>546</th>\n",
       "      <td>and</td>\n",
       "      <td>-3.446895</td>\n",
       "    </tr>\n",
       "    <tr>\n",
       "      <th>7814</th>\n",
       "      <td>to</td>\n",
       "      <td>-3.527208</td>\n",
       "    </tr>\n",
       "    <tr>\n",
       "      <th>8388</th>\n",
       "      <td>was</td>\n",
       "      <td>-3.652839</td>\n",
       "    </tr>\n",
       "    <tr>\n",
       "      <th>3996</th>\n",
       "      <td>in</td>\n",
       "      <td>-4.074774</td>\n",
       "    </tr>\n",
       "    <tr>\n",
       "      <th>...</th>\n",
       "      <td>...</td>\n",
       "      <td>...</td>\n",
       "    </tr>\n",
       "    <tr>\n",
       "      <th>4197</th>\n",
       "      <td>irena</td>\n",
       "      <td>-11.480877</td>\n",
       "    </tr>\n",
       "    <tr>\n",
       "      <th>4200</th>\n",
       "      <td>ironing</td>\n",
       "      <td>-11.480877</td>\n",
       "    </tr>\n",
       "    <tr>\n",
       "      <th>4203</th>\n",
       "      <td>irritating</td>\n",
       "      <td>-11.480877</td>\n",
       "    </tr>\n",
       "    <tr>\n",
       "      <th>4206</th>\n",
       "      <td>islands</td>\n",
       "      <td>-11.480877</td>\n",
       "    </tr>\n",
       "    <tr>\n",
       "      <th>8655</th>\n",
       "      <td>zoo</td>\n",
       "      <td>-11.480877</td>\n",
       "    </tr>\n",
       "  </tbody>\n",
       "</table>\n",
       "<p>8656 rows × 2 columns</p>\n",
       "</div>"
      ],
      "text/plain": [
       "           Token   LogProba\n",
       "7698         the  -2.734479\n",
       "546          and  -3.446895\n",
       "7814          to  -3.527208\n",
       "8388         was  -3.652839\n",
       "3996          in  -4.074774\n",
       "...          ...        ...\n",
       "4197       irena -11.480877\n",
       "4200     ironing -11.480877\n",
       "4203  irritating -11.480877\n",
       "4206     islands -11.480877\n",
       "8655         zoo -11.480877\n",
       "\n",
       "[8656 rows x 2 columns]"
      ]
     },
     "execution_count": 232,
     "metadata": {},
     "output_type": "execute_result"
    }
   ],
   "source": [
    "features_df = pd.DataFrame(\n",
    "    {\n",
    "        'Token': classifier_pipeline.named_steps['countvectorizer'].get_feature_names_out(),\n",
    "        'LogProba': classifier_pipeline.named_steps['multinomialnb'].feature_log_prob_[1,:]\n",
    "    }\n",
    ")\n",
    "\n",
    "features_df.sort_values('LogProba', ascending=False)"
   ]
  },
  {
   "cell_type": "markdown",
   "id": "5284a5ae",
   "metadata": {},
   "source": [
    "## Note about our train / test split"
   ]
  },
  {
   "cell_type": "markdown",
   "id": "46a342ab",
   "metadata": {},
   "source": [
    "We used folds 1, 2 and 3 for training, and folds 4 and 5 for testing.\n",
    "\n",
    "What if for some reason, the model finds it easier to predict the samples at folds 4 and 5,\n",
    "compared to, say, predicting the samples at folds 1 and 2, or 2 and 3, etc.\n",
    "\n",
    "How can we make sure we chose the right split? "
   ]
  },
  {
   "cell_type": "code",
   "execution_count": 182,
   "id": "ccc494b1",
   "metadata": {},
   "outputs": [
    {
     "data": {
      "text/plain": [
       "(1280, 320)"
      ]
     },
     "execution_count": 182,
     "metadata": {},
     "output_type": "execute_result"
    }
   ],
   "source": [
    "len(y_train), len(y_test)"
   ]
  },
  {
   "cell_type": "markdown",
   "id": "b6f06b06",
   "metadata": {},
   "source": [
    "# K-Fold Cross Validation"
   ]
  },
  {
   "cell_type": "code",
   "execution_count": 183,
   "id": "6c3b98d6",
   "metadata": {},
   "outputs": [
    {
     "data": {
      "text/html": [
       "<div>\n",
       "<style scoped>\n",
       "    .dataframe tbody tr th:only-of-type {\n",
       "        vertical-align: middle;\n",
       "    }\n",
       "\n",
       "    .dataframe tbody tr th {\n",
       "        vertical-align: top;\n",
       "    }\n",
       "\n",
       "    .dataframe thead th {\n",
       "        text-align: right;\n",
       "    }\n",
       "</style>\n",
       "<table border=\"1\" class=\"dataframe\">\n",
       "  <thead>\n",
       "    <tr style=\"text-align: right;\">\n",
       "      <th></th>\n",
       "      <th>fold</th>\n",
       "      <th>polarity</th>\n",
       "      <th>deceptive</th>\n",
       "      <th>text</th>\n",
       "    </tr>\n",
       "    <tr>\n",
       "      <th>document_id</th>\n",
       "      <th></th>\n",
       "      <th></th>\n",
       "      <th></th>\n",
       "      <th></th>\n",
       "    </tr>\n",
       "  </thead>\n",
       "  <tbody>\n",
       "    <tr>\n",
       "      <th>526</th>\n",
       "      <td>5</td>\n",
       "      <td>1</td>\n",
       "      <td>0</td>\n",
       "      <td>We booked this hotel for the second leg of our...</td>\n",
       "    </tr>\n",
       "    <tr>\n",
       "      <th>354</th>\n",
       "      <td>1</td>\n",
       "      <td>1</td>\n",
       "      <td>1</td>\n",
       "      <td>This hotel is great! I love its interior desig...</td>\n",
       "    </tr>\n",
       "    <tr>\n",
       "      <th>168</th>\n",
       "      <td>4</td>\n",
       "      <td>1</td>\n",
       "      <td>1</td>\n",
       "      <td>My husband and I had a wonderful time at Swiss...</td>\n",
       "    </tr>\n",
       "  </tbody>\n",
       "</table>\n",
       "</div>"
      ],
      "text/plain": [
       "             fold  polarity  deceptive  \\\n",
       "document_id                              \n",
       "526             5         1          0   \n",
       "354             1         1          1   \n",
       "168             4         1          1   \n",
       "\n",
       "                                                          text  \n",
       "document_id                                                     \n",
       "526          We booked this hotel for the second leg of our...  \n",
       "354          This hotel is great! I love its interior desig...  \n",
       "168          My husband and I had a wonderful time at Swiss...  "
      ]
     },
     "execution_count": 183,
     "metadata": {},
     "output_type": "execute_result"
    }
   ],
   "source": [
    "df.sample(3, random_state=42)"
   ]
  },
  {
   "cell_type": "code",
   "execution_count": 184,
   "id": "68075ebc",
   "metadata": {},
   "outputs": [
    {
     "data": {
      "text/plain": [
       "[1, 2, 3, 4, 5]"
      ]
     },
     "execution_count": 184,
     "metadata": {},
     "output_type": "execute_result"
    }
   ],
   "source": [
    "sorted(df['fold'].unique())"
   ]
  },
  {
   "cell_type": "code",
   "execution_count": 185,
   "id": "bba17333",
   "metadata": {},
   "outputs": [
    {
     "data": {
      "text/plain": [
       "(1280, 320)"
      ]
     },
     "execution_count": 185,
     "metadata": {},
     "output_type": "execute_result"
    }
   ],
   "source": [
    "# df[df['fold'] != 1].shape[0], df[df['fold'] == 1].shape[0]\n",
    "len(df[df['fold'] != 1]), len(df[df['fold'] == 1])"
   ]
  },
  {
   "cell_type": "code",
   "execution_count": 186,
   "id": "bffd2b4e",
   "metadata": {},
   "outputs": [],
   "source": [
    "def kflod_splits(df):\n",
    "    folds = sorted(df['fold'].unique())\n",
    "    for fold in folds:\n",
    "        yield fold, df[df['fold'] != fold], df[df['fold'] == fold]"
   ]
  },
  {
   "cell_type": "code",
   "execution_count": 187,
   "id": "72551f30",
   "metadata": {},
   "outputs": [
    {
     "name": "stdout",
     "output_type": "stream",
     "text": [
      "fold=1: len(train_df)=1280 and len(test_df)=320\n",
      "fold=2: len(train_df)=1280 and len(test_df)=320\n",
      "fold=3: len(train_df)=1280 and len(test_df)=320\n",
      "fold=4: len(train_df)=1280 and len(test_df)=320\n",
      "fold=5: len(train_df)=1280 and len(test_df)=320\n"
     ]
    }
   ],
   "source": [
    "for fold, train_df, test_df in kflod_splits(df):\n",
    "    print(f\"{fold=}: {len(train_df)=} and {len(test_df)=}\")"
   ]
  },
  {
   "cell_type": "code",
   "execution_count": 193,
   "id": "3b1310bc",
   "metadata": {},
   "outputs": [
    {
     "name": "stdout",
     "output_type": "stream",
     "text": [
      "Predicting deceptive reviews:\n",
      "\n",
      "fold=1 train_score=97.3%, test_score=81.2%\n",
      "fold=2 train_score=97.0%, test_score=82.8%\n",
      "fold=3 train_score=97.3%, test_score=90.0%\n",
      "fold=4 train_score=97.0%, test_score=84.4%\n",
      "fold=5 train_score=96.9%, test_score=89.4%\n"
     ]
    }
   ],
   "source": [
    "from sklearn.feature_extraction.text import CountVectorizer\n",
    "from sklearn.naive_bayes import MultinomialNB\n",
    "from sklearn.metrics import accuracy_score\n",
    "\n",
    "from sklearn.pipeline import make_pipeline\n",
    "\n",
    "classifier_pipeline = make_pipeline(CountVectorizer(), MultinomialNB())\n",
    "\n",
    "print('Predicting deceptive reviews:\\n')\n",
    "\n",
    "for fold, train_df, test_df in kflod_splits(df):\n",
    "    \n",
    "    x_train, y_train = to_xy(train_df, label='deceptive')\n",
    "    x_test, y_test = to_xy(test_df, label='deceptive')\n",
    "    \n",
    "    classifier_pipeline.fit(x_train, y_train)\n",
    "    \n",
    "    y_hat_train = classifier_pipeline.predict(x_train)\n",
    "    train_score = accuracy_score(y_train, y_hat_train)\n",
    "    \n",
    "    y_hat_test = classifier_pipeline.predict(x_test)\n",
    "    test_score = accuracy_score(y_test, y_hat_test)\n",
    "    \n",
    "    print(f\"{fold=} {train_score=:.1%}, {test_score=:.1%}\")\n"
   ]
  },
  {
   "cell_type": "code",
   "execution_count": 248,
   "id": "c0eceed5",
   "metadata": {},
   "outputs": [
    {
     "name": "stdout",
     "output_type": "stream",
     "text": [
      "Predicting deceptive reviews:\n",
      "\n",
      "fold=1 train_score=100.0%, test_score=82.2%\n",
      "fold=2 train_score=100.0%, test_score=85.9%\n",
      "fold=3 train_score=100.0%, test_score=84.4%\n",
      "fold=4 train_score=100.0%, test_score=83.1%\n",
      "fold=5 train_score=100.0%, test_score=87.8%\n"
     ]
    }
   ],
   "source": [
    "from sklearn.feature_extraction.text import CountVectorizer\n",
    "from sklearn.linear_model import LogisticRegression\n",
    "from sklearn.metrics import accuracy_score\n",
    "\n",
    "from sklearn.pipeline import make_pipeline\n",
    "\n",
    "classifier_pipeline = make_pipeline(CountVectorizer(), LogisticRegression(max_iter=1000))\n",
    "\n",
    "print('Predicting deceptive reviews:\\n')\n",
    "\n",
    "for fold, train_df, test_df in kflod_splits(df):\n",
    "    \n",
    "    x_train, y_train = to_xy(train_df, label='deceptive')\n",
    "    x_test, y_test = to_xy(test_df, label='deceptive')\n",
    "    \n",
    "    classifier_pipeline.fit(x_train, y_train)\n",
    "    \n",
    "    y_hat_train = classifier_pipeline.predict(x_train)\n",
    "    train_score = accuracy_score(y_train, y_hat_train)\n",
    "    \n",
    "    y_hat_test = classifier_pipeline.predict(x_test)\n",
    "    test_score = accuracy_score(y_test, y_hat_test)\n",
    "    \n",
    "    print(f\"{fold=} {train_score=:.1%}, {test_score=:.1%}\")\n"
   ]
  },
  {
   "cell_type": "code",
   "execution_count": null,
   "id": "8b3cf80c",
   "metadata": {},
   "outputs": [],
   "source": []
  },
  {
   "cell_type": "code",
   "execution_count": 233,
   "id": "19dc28e6",
   "metadata": {},
   "outputs": [
    {
     "name": "stdout",
     "output_type": "stream",
     "text": [
      "Predicting review polarity:\n",
      "\n",
      "fold=1 train_score=100.0%, test_score=90.9%\n",
      "fold=2 train_score=100.0%, test_score=94.4%\n",
      "fold=3 train_score=99.9%, test_score=94.4%\n",
      "fold=4 train_score=100.0%, test_score=92.8%\n",
      "fold=5 train_score=100.0%, test_score=93.4%\n"
     ]
    }
   ],
   "source": [
    "from sklearn.feature_extraction.text import CountVectorizer\n",
    "from sklearn.naive_bayes import MultinomialNB\n",
    "from sklearn.metrics import accuracy_score\n",
    "\n",
    "from sklearn.pipeline import make_pipeline\n",
    "\n",
    "classifier_pipeline = make_pipeline(CountVectorizer(), LogisticRegression(max_iter=1000))\n",
    "\n",
    "print('Predicting review polarity:\\n')\n",
    "\n",
    "for fold, train_df, test_df in kflod_splits(df):\n",
    "    \n",
    "    x_train, y_train = to_xy(train_df, label='polarity')\n",
    "    x_test, y_test = to_xy(test_df, label='polarity')\n",
    "    \n",
    "    classifier_pipeline.fit(x_train, y_train)\n",
    "    \n",
    "    y_hat_train = classifier_pipeline.predict(x_train)\n",
    "    train_score = accuracy_score(y_train, y_hat_train)\n",
    "    \n",
    "    y_hat_test = classifier_pipeline.predict(x_test)\n",
    "    test_score = accuracy_score(y_test, y_hat_test)\n",
    "    \n",
    "    print(f\"{fold=} {train_score=:.1%}, {test_score=:.1%}\")\n"
   ]
  },
  {
   "cell_type": "code",
   "execution_count": 249,
   "id": "f4619a4d",
   "metadata": {},
   "outputs": [
    {
     "data": {
      "text/html": [
       "<div>\n",
       "<style scoped>\n",
       "    .dataframe tbody tr th:only-of-type {\n",
       "        vertical-align: middle;\n",
       "    }\n",
       "\n",
       "    .dataframe tbody tr th {\n",
       "        vertical-align: top;\n",
       "    }\n",
       "\n",
       "    .dataframe thead th {\n",
       "        text-align: right;\n",
       "    }\n",
       "</style>\n",
       "<table border=\"1\" class=\"dataframe\">\n",
       "  <thead>\n",
       "    <tr style=\"text-align: right;\">\n",
       "      <th></th>\n",
       "      <th>Token</th>\n",
       "      <th>LogProba</th>\n",
       "    </tr>\n",
       "  </thead>\n",
       "  <tbody>\n",
       "    <tr>\n",
       "      <th>1516</th>\n",
       "      <td>chicago</td>\n",
       "      <td>1.109011</td>\n",
       "    </tr>\n",
       "    <tr>\n",
       "      <th>8230</th>\n",
       "      <td>vacation</td>\n",
       "      <td>1.041924</td>\n",
       "    </tr>\n",
       "    <tr>\n",
       "      <th>4657</th>\n",
       "      <td>luxury</td>\n",
       "      <td>0.872378</td>\n",
       "    </tr>\n",
       "    <tr>\n",
       "      <th>4949</th>\n",
       "      <td>modern</td>\n",
       "      <td>0.787608</td>\n",
       "    </tr>\n",
       "    <tr>\n",
       "      <th>6215</th>\n",
       "      <td>relax</td>\n",
       "      <td>0.770007</td>\n",
       "    </tr>\n",
       "    <tr>\n",
       "      <th>...</th>\n",
       "      <td>...</td>\n",
       "      <td>...</td>\n",
       "    </tr>\n",
       "    <tr>\n",
       "      <th>1179</th>\n",
       "      <td>breakfast</td>\n",
       "      <td>-0.931939</td>\n",
       "    </tr>\n",
       "    <tr>\n",
       "      <th>4569</th>\n",
       "      <td>location</td>\n",
       "      <td>-0.974684</td>\n",
       "    </tr>\n",
       "    <tr>\n",
       "      <th>7365</th>\n",
       "      <td>street</td>\n",
       "      <td>-1.015468</td>\n",
       "    </tr>\n",
       "    <tr>\n",
       "      <th>3174</th>\n",
       "      <td>floor</td>\n",
       "      <td>-1.034595</td>\n",
       "    </tr>\n",
       "    <tr>\n",
       "      <th>1782</th>\n",
       "      <td>concierge</td>\n",
       "      <td>-1.077445</td>\n",
       "    </tr>\n",
       "  </tbody>\n",
       "</table>\n",
       "<p>8656 rows × 2 columns</p>\n",
       "</div>"
      ],
      "text/plain": [
       "          Token  LogProba\n",
       "1516    chicago  1.109011\n",
       "8230   vacation  1.041924\n",
       "4657     luxury  0.872378\n",
       "4949     modern  0.787608\n",
       "6215      relax  0.770007\n",
       "...         ...       ...\n",
       "1179  breakfast -0.931939\n",
       "4569   location -0.974684\n",
       "7365     street -1.015468\n",
       "3174      floor -1.034595\n",
       "1782  concierge -1.077445\n",
       "\n",
       "[8656 rows x 2 columns]"
      ]
     },
     "execution_count": 249,
     "metadata": {},
     "output_type": "execute_result"
    }
   ],
   "source": [
    "features_df = pd.DataFrame(\n",
    "    {\n",
    "        'Token': classifier_pipeline.named_steps['countvectorizer'].get_feature_names_out(),\n",
    "        'LogProba': classifier_pipeline.named_steps['logisticregression'].coef_[0]\n",
    "    }\n",
    ")\n",
    "\n",
    "features_df.sort_values('LogProba', ascending=False)"
   ]
  },
  {
   "cell_type": "code",
   "execution_count": 246,
   "id": "3cfa4f5c",
   "metadata": {},
   "outputs": [
    {
     "data": {
      "text/plain": [
       "(8656,)"
      ]
     },
     "execution_count": 246,
     "metadata": {},
     "output_type": "execute_result"
    }
   ],
   "source": [
    "classifier_pipeline.named_steps['logisticregression'].coef_[0].shape"
   ]
  },
  {
   "cell_type": "code",
   "execution_count": null,
   "id": "2864b21d",
   "metadata": {},
   "outputs": [],
   "source": []
  }
 ],
 "metadata": {
  "kernelspec": {
   "display_name": "Python 3 (ipykernel)",
   "language": "python",
   "name": "python3"
  },
  "language_info": {
   "codemirror_mode": {
    "name": "ipython",
    "version": 3
   },
   "file_extension": ".py",
   "mimetype": "text/x-python",
   "name": "python",
   "nbconvert_exporter": "python",
   "pygments_lexer": "ipython3",
   "version": "3.9.12"
  }
 },
 "nbformat": 4,
 "nbformat_minor": 5
}
