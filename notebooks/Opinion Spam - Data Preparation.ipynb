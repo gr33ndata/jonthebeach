{
 "cells": [
  {
   "cell_type": "markdown",
   "id": "0394295e",
   "metadata": {},
   "source": [
    "# Opinion Spam - Data Preparation"
   ]
  },
  {
   "cell_type": "markdown",
   "id": "46689c84",
   "metadata": {},
   "source": [
    "## Download Dataset"
   ]
  },
  {
   "cell_type": "code",
   "execution_count": 9,
   "id": "ad63f9d4",
   "metadata": {},
   "outputs": [],
   "source": [
    "import io\n",
    "import requests\n",
    "import zipfile"
   ]
  },
  {
   "cell_type": "code",
   "execution_count": 10,
   "id": "10fb87bd",
   "metadata": {},
   "outputs": [],
   "source": [
    "# ! rm -fr ../datasets/opinion_spam"
   ]
  },
  {
   "cell_type": "code",
   "execution_count": 18,
   "id": "52c2397a",
   "metadata": {},
   "outputs": [],
   "source": [
    "dataset_url = \"https://myleott.com/op_spam_v1.4.zip\"\n",
    "dataset_dir = \"../datasets/opinion_spam\"\n",
    "\n",
    "file_content = requests.get(dataset_url).content\n",
    "zipfile.ZipFile(io.BytesIO(file_content)).extractall(dataset_dir)"
   ]
  },
  {
   "cell_type": "code",
   "execution_count": 82,
   "id": "b5a795b2",
   "metadata": {},
   "outputs": [
    {
     "name": "stdout",
     "output_type": "stream",
     "text": [
      "total 0\r\n",
      "drwxr-xr-x  4 gr33ndata  staff  128 Apr 14 14:46 \u001b[34m.\u001b[m\u001b[m\r\n",
      "drwxr-xr-x  6 gr33ndata  staff  192 Apr 14 14:46 \u001b[34m..\u001b[m\u001b[m\r\n",
      "drwxr-xr-x  7 gr33ndata  staff  224 Apr 14 14:46 \u001b[34mdeceptive_from_MTurk\u001b[m\u001b[m\r\n",
      "drwxr-xr-x  7 gr33ndata  staff  224 Apr 14 14:46 \u001b[34mtruthful_from_TripAdvisor\u001b[m\u001b[m\r\n"
     ]
    }
   ],
   "source": [
    "! ls -al $dataset_dir/op_spam_v1.4/positive_polarity/"
   ]
  },
  {
   "cell_type": "markdown",
   "id": "9388171a",
   "metadata": {},
   "source": [
    "# Extract Data and Metadata "
   ]
  },
  {
   "cell_type": "markdown",
   "id": "428a69b4",
   "metadata": {},
   "source": [
    "### Get a list of all text files"
   ]
  },
  {
   "cell_type": "code",
   "execution_count": 100,
   "id": "8d9e2563",
   "metadata": {},
   "outputs": [],
   "source": [
    "import os"
   ]
  },
  {
   "cell_type": "code",
   "execution_count": 83,
   "id": "a76fcb10",
   "metadata": {
    "scrolled": false
   },
   "outputs": [],
   "source": [
    "def list_text_files(dataset_dir):\n",
    "    selected_files = []\n",
    "    for root, _, files in os.walk(dataset_dir):\n",
    "        for file in files:\n",
    "            if file.endswith('.txt'):\n",
    "                selected_files.append(os.path.join(root, file))\n",
    "    return selected_files"
   ]
  },
  {
   "cell_type": "code",
   "execution_count": 84,
   "id": "11d852f6",
   "metadata": {},
   "outputs": [
    {
     "data": {
      "text/plain": [
       "['../datasets/opinion_spam/op_spam_v1.4/positive_polarity/deceptive_from_MTurk/fold2/d_talbott_9.txt',\n",
       " '../datasets/opinion_spam/op_spam_v1.4/positive_polarity/deceptive_from_MTurk/fold2/d_talbott_8.txt',\n",
       " '../datasets/opinion_spam/op_spam_v1.4/positive_polarity/deceptive_from_MTurk/fold2/d_affinia_20.txt']"
      ]
     },
     "execution_count": 84,
     "metadata": {},
     "output_type": "execute_result"
    }
   ],
   "source": [
    "list_text_files(dataset_dir)[:3]"
   ]
  },
  {
   "cell_type": "markdown",
   "id": "e0fcba97",
   "metadata": {},
   "source": [
    "### Extract matadata from the folder structure "
   ]
  },
  {
   "cell_type": "code",
   "execution_count": 85,
   "id": "4cff9748",
   "metadata": {},
   "outputs": [],
   "source": [
    "def get_meta_data(filename):\n",
    "    # Use `os.sep` instead of `/` to work for both Window and Unix/OSX\n",
    "    _, polarity, deceptivene, fold, file_name = filename.rsplit(sep=os.sep, maxsplit=4)\n",
    "    return {\n",
    "        'fold': int(fold[-1]),\n",
    "        'polarity': 1 if polarity.startswith(\"positive\") else -1,\n",
    "        'deceptive': 1 if deceptivene.startswith(\"deceptive\") else 0,\n",
    "    }"
   ]
  },
  {
   "cell_type": "code",
   "execution_count": 86,
   "id": "f5086eac",
   "metadata": {},
   "outputs": [
    {
     "data": {
      "text/plain": [
       "{'fold': 2, 'polarity': 1, 'deceptive': 1}"
      ]
     },
     "execution_count": 86,
     "metadata": {},
     "output_type": "execute_result"
    }
   ],
   "source": [
    "filename = list_text_files(dataset_dir)[0]\n",
    "\n",
    "get_meta_data(filename)"
   ]
  },
  {
   "cell_type": "markdown",
   "id": "7342ab81",
   "metadata": {},
   "source": [
    "### Read file content "
   ]
  },
  {
   "cell_type": "code",
   "execution_count": 87,
   "id": "7aec5fc8",
   "metadata": {},
   "outputs": [],
   "source": [
    "def get_content(filename):\n",
    "    with open(filename, 'r') as f:\n",
    "        text = f.read()\n",
    "    return {'text': text}"
   ]
  },
  {
   "cell_type": "code",
   "execution_count": 88,
   "id": "ed7d2dbb",
   "metadata": {},
   "outputs": [
    {
     "data": {
      "text/plain": [
       "{'text': 'excellent staff and customer service, very clean and spotless. elegant and luxurious with a beautiful ocean view. the bed is very comfortable and relaxing. i give it a five star.\\n'}"
      ]
     },
     "execution_count": 88,
     "metadata": {},
     "output_type": "execute_result"
    }
   ],
   "source": [
    "filename = list_text_files(dataset_dir)[0]\n",
    "\n",
    "get_content(filename)"
   ]
  },
  {
   "cell_type": "markdown",
   "id": "8e52b687",
   "metadata": {},
   "source": [
    "### Combine Data and Metadata"
   ]
  },
  {
   "cell_type": "code",
   "execution_count": 92,
   "id": "352ba0f4",
   "metadata": {},
   "outputs": [],
   "source": [
    "data = [\n",
    "    {\n",
    "        **get_meta_data(filename), \n",
    "        **get_content(filename)\n",
    "    }\n",
    "    for filename in list_text_files(dataset_dir)\n",
    "]"
   ]
  },
  {
   "cell_type": "code",
   "execution_count": 94,
   "id": "9d038a42",
   "metadata": {},
   "outputs": [
    {
     "data": {
      "text/plain": [
       "{'fold': 2,\n",
       " 'polarity': 1,\n",
       " 'deceptive': 1,\n",
       " 'text': 'I have to say that the Hard Rock Hotel in Chicago is a cool place to stay. When I first got there, getting checked in was very fast. The lady at the counter was nice and well spoken. The bellhop had out bags into the room very fast. The room was very hip and cool. There was musical items all over the place. I really loved the Beatles art that was in my bathroom. After being in the room a few minutes, I got a call from the front desk asking me if I liked my room. They also asked me if I would be interested in things like spa treatments and or if I needed to use their business room. I needed some things shipped while I was there, which they had supplies to help me with that. After getting some work done, I called the concierge if there was some really good pizza places around. They gave me information for 3 awesome places. I left and came back after having a night out on the town. They were very understanding that I was a wee bit out of it. I had more than pizza that night if you get my drift. When I got back to my room, the bed was so comfortable. I feel right off to sleep and had a good nights sleep. In the morning I order breakfast, which was really a Philly cheese steak. They will make anything you want anytime of day. I checked out by 9am with my bags feeling rested and very relaxed. Thank You Hard Rock, You Rock!\\n'}"
      ]
     },
     "execution_count": 94,
     "metadata": {},
     "output_type": "execute_result"
    }
   ],
   "source": [
    "data[3]"
   ]
  },
  {
   "cell_type": "markdown",
   "id": "5be03d71",
   "metadata": {},
   "source": [
    "## Data to Pandas DataFrame"
   ]
  },
  {
   "cell_type": "code",
   "execution_count": 97,
   "id": "9c8d47c5",
   "metadata": {},
   "outputs": [],
   "source": [
    "import pandas as pd"
   ]
  },
  {
   "cell_type": "code",
   "execution_count": 98,
   "id": "934b0155",
   "metadata": {},
   "outputs": [],
   "source": [
    "df = pd.DataFrame(data)"
   ]
  },
  {
   "cell_type": "code",
   "execution_count": 99,
   "id": "e3043d87",
   "metadata": {},
   "outputs": [
    {
     "data": {
      "text/html": [
       "<div>\n",
       "<style scoped>\n",
       "    .dataframe tbody tr th:only-of-type {\n",
       "        vertical-align: middle;\n",
       "    }\n",
       "\n",
       "    .dataframe tbody tr th {\n",
       "        vertical-align: top;\n",
       "    }\n",
       "\n",
       "    .dataframe thead th {\n",
       "        text-align: right;\n",
       "    }\n",
       "</style>\n",
       "<table border=\"1\" class=\"dataframe\">\n",
       "  <thead>\n",
       "    <tr style=\"text-align: right;\">\n",
       "      <th></th>\n",
       "      <th>fold</th>\n",
       "      <th>polarity</th>\n",
       "      <th>deceptive</th>\n",
       "      <th>text</th>\n",
       "    </tr>\n",
       "  </thead>\n",
       "  <tbody>\n",
       "    <tr>\n",
       "      <th>1115</th>\n",
       "      <td>3</td>\n",
       "      <td>-1</td>\n",
       "      <td>1</td>\n",
       "      <td>I will never stay here again. I was lured in b...</td>\n",
       "    </tr>\n",
       "    <tr>\n",
       "      <th>843</th>\n",
       "      <td>2</td>\n",
       "      <td>-1</td>\n",
       "      <td>1</td>\n",
       "      <td>While the Hard Rock Hotel in Chicago promises ...</td>\n",
       "    </tr>\n",
       "    <tr>\n",
       "      <th>208</th>\n",
       "      <td>4</td>\n",
       "      <td>1</td>\n",
       "      <td>1</td>\n",
       "      <td>The Sheraton Chicago Hotel and Towers is a mag...</td>\n",
       "    </tr>\n",
       "  </tbody>\n",
       "</table>\n",
       "</div>"
      ],
      "text/plain": [
       "      fold  polarity  deceptive  \\\n",
       "1115     3        -1          1   \n",
       "843      2        -1          1   \n",
       "208      4         1          1   \n",
       "\n",
       "                                                   text  \n",
       "1115  I will never stay here again. I was lured in b...  \n",
       "843   While the Hard Rock Hotel in Chicago promises ...  \n",
       "208   The Sheraton Chicago Hotel and Towers is a mag...  "
      ]
     },
     "execution_count": 99,
     "metadata": {},
     "output_type": "execute_result"
    }
   ],
   "source": [
    "df.sample(3)"
   ]
  },
  {
   "cell_type": "code",
   "execution_count": 101,
   "id": "a7c6d88b",
   "metadata": {},
   "outputs": [],
   "source": [
    "df.to_csv(os.path.join(dataset_dir, \"prepared_data.csv\"))"
   ]
  },
  {
   "cell_type": "code",
   "execution_count": null,
   "id": "f516a107",
   "metadata": {},
   "outputs": [],
   "source": []
  }
 ],
 "metadata": {
  "kernelspec": {
   "display_name": "Python 3 (ipykernel)",
   "language": "python",
   "name": "python3"
  },
  "language_info": {
   "codemirror_mode": {
    "name": "ipython",
    "version": 3
   },
   "file_extension": ".py",
   "mimetype": "text/x-python",
   "name": "python",
   "nbconvert_exporter": "python",
   "pygments_lexer": "ipython3",
   "version": "3.9.12"
  }
 },
 "nbformat": 4,
 "nbformat_minor": 5
}
