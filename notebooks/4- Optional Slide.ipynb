{
 "cells": [
  {
   "cell_type": "markdown",
   "id": "7d0d7a77",
   "metadata": {},
   "source": [
    "# Additional NLP Concepts"
   ]
  },
  {
   "cell_type": "markdown",
   "id": "02eb156a",
   "metadata": {},
   "source": [
    "## Tokenizatio"
   ]
  },
  {
   "cell_type": "code",
   "execution_count": 3,
   "id": "6046ffe4",
   "metadata": {},
   "outputs": [
    {
     "name": "stdout",
     "output_type": "stream",
     "text": [
      "The United States of America (U.S.A. or USA), is located in North America.It consists of 50 states, five major unincorporated territories, 326 Indian reservations, a federal district, and some minor possessions.[g] At 3.8 million square miles (9.8 million square kilometers), it is the world's third- or fourth-largest country by total area.[c] With a population of more than 331 million people, it is the third most populous country in the world. The national capital is Washington, D.C., and the most populous city is New York City.\n"
     ]
    }
   ],
   "source": [
    "text = '''\n",
    "The United States of America (U.S.A. or USA), is located in North America.\n",
    "It consists of 50 states, five major unincorporated territories, 326 Indian reservations, \n",
    "a federal district, and some minor possessions.[g] \n",
    "At 3.8 million square miles (9.8 million square kilometers), \n",
    "it is the world's third- or fourth-largest country by total area.[c] \n",
    "With a population of more than 331 million people, \n",
    "it is the third most populous country in the world. \n",
    "The national capital is Washington, D.C., and the most populous city is New York City.\n",
    "'''.replace('\\n', '').strip()\n",
    "\n",
    "print(text)"
   ]
  },
  {
   "cell_type": "markdown",
   "id": "df4cf408",
   "metadata": {},
   "source": [
    "## Split on spaces"
   ]
  },
  {
   "cell_type": "code",
   "execution_count": 4,
   "id": "611bff18",
   "metadata": {},
   "outputs": [
    {
     "name": "stdout",
     "output_type": "stream",
     "text": [
      "\"The\", \"United\", \"States\", \"of\", \"America\", \"(U.S.A.\", \"or\", \"USA),\", \"is\", \"located\", \"in\", \"North\", \"America.It\", \"consists\", \"of\", \"50\", \"states,\", \"five\", \"major\", \"unincorporated\", "
     ]
    }
   ],
   "source": [
    "for token in text.split(' ')[:20]:\n",
    "    print(f'\"{token}\"', end=', ')"
   ]
  },
  {
   "cell_type": "markdown",
   "id": "e2bd7277",
   "metadata": {},
   "source": [
    "## Split on non-alpha-numeric characters\n",
    "\n",
    "`\\W`: Matches any character which is not a word character. \n",
    "If the ASCII flag is used this becomes the equivalent of `[^a-zA-Z0-9_]`"
   ]
  },
  {
   "cell_type": "code",
   "execution_count": 7,
   "id": "11e1496c",
   "metadata": {},
   "outputs": [
    {
     "name": "stdout",
     "output_type": "stream",
     "text": [
      "\"The\", \"United\", \"States\", \"of\", \"America\", \"U\", \"S\", \"A\", \"or\", \"USA\", \"is\", \"located\", \"in\", \"North\", \"America\", \"It\", \"consists\", \"of\", \"50\", \"states\", "
     ]
    }
   ],
   "source": [
    "import re \n",
    "\n",
    "for token in re.split(r'\\W+', text)[:20]:\n",
    "    print(f'\"{token}\"', end=', ')"
   ]
  },
  {
   "cell_type": "markdown",
   "id": "ac7e9db1",
   "metadata": {},
   "source": [
    "## Language-aware splitting"
   ]
  },
  {
   "cell_type": "code",
   "execution_count": 9,
   "id": "410b8cd6",
   "metadata": {},
   "outputs": [
    {
     "name": "stdout",
     "output_type": "stream",
     "text": [
      "\"The\", \"United\", \"States\", \"of\", \"America\", \"(\", \"U.S.A.\", \"or\", \"USA\", \")\", \",\", \"is\", \"located\", \"in\", \"North\", \"America\", \".\", \"It\", \"consists\", \"of\", "
     ]
    }
   ],
   "source": [
    "import spacy\n",
    "\n",
    "nlp = spacy.blank(\"en\")\n",
    "\n",
    "for token in nlp(text)[:20]:\n",
    "    print(f'\"{token}\"', end=', ')"
   ]
  },
  {
   "cell_type": "code",
   "execution_count": 12,
   "id": "4adb1d08",
   "metadata": {},
   "outputs": [
    {
     "name": "stdout",
     "output_type": "stream",
     "text": [
      "\"Let\", \"'s\", \"go\", \"to\", \"N.Y.\", \"!\", "
     ]
    }
   ],
   "source": [
    "import spacy\n",
    "\n",
    "nlp = spacy.blank(\"en\")\n",
    "\n",
    "for token in nlp(\"Let's go to N.Y.!\"):\n",
    "    print(f'\"{token}\"', end=', ')"
   ]
  },
  {
   "cell_type": "code",
   "execution_count": 15,
   "id": "bd3722e4",
   "metadata": {},
   "outputs": [
    {
     "name": "stdout",
     "output_type": "stream",
     "text": [
      "\"I\", \"'m\", \"gon\", \"na\", \"visit\", \"New\", \"York\", \"City\", \"at\", \"6:00\", \"A.M.\", \":-)\", "
     ]
    }
   ],
   "source": [
    "import spacy\n",
    "\n",
    "nlp = spacy.blank(\"en\")\n",
    "\n",
    "for token in nlp(\"I'm gonna visit New York City at 6:00 A.M. :-)\"):\n",
    "    print(f'\"{token}\"', end=', ')"
   ]
  },
  {
   "cell_type": "code",
   "execution_count": 27,
   "id": "30024800",
   "metadata": {},
   "outputs": [
    {
     "name": "stdout",
     "output_type": "stream",
     "text": [
      "After: ['I', \"'m\", 'gon', 'na', 'visit', 'New York City', 'at', '6:00', 'A.M.', ':-)']\n"
     ]
    }
   ],
   "source": [
    "nlp = spacy.blank(\"en\")\n",
    "\n",
    "doc = nlp(\"I'm gonna visit New York City at 6:00 A.M. :-)\")\n",
    "    \n",
    "with doc.retokenize() as retokenizer:\n",
    "    for i in range(len(doc) - 3):\n",
    "        if doc[i:i+3].text == 'New York City':\n",
    "            retokenizer.merge(doc[i:i+3], attrs={\"LEMMA\": \"new york city\"})\n",
    "            \n",
    "print(\"After:\", [token.text for token in doc])"
   ]
  },
  {
   "cell_type": "markdown",
   "id": "67cde383",
   "metadata": {},
   "source": [
    "#### Question\n",
    "\n",
    "- Can we automate the discovery of phrases like \"New York City\" without setting manual rules?"
   ]
  },
  {
   "cell_type": "markdown",
   "id": "055a4e73",
   "metadata": {},
   "source": [
    "## Lemmatization"
   ]
  },
  {
   "cell_type": "code",
   "execution_count": 29,
   "id": "9446ba63",
   "metadata": {},
   "outputs": [
    {
     "name": "stdout",
     "output_type": "stream",
     "text": [
      "\"I\", \"be\", \"going\", \"to\", \"visit\", \"New\", \"York\", \"City\", \"at\", \"6:00\", \"A.M.\", \":-)\", "
     ]
    }
   ],
   "source": [
    "import spacy\n",
    "\n",
    "nlp = spacy.load('en_core_web_lg')\n",
    "\n",
    "for token in nlp(\"I'm gonna visit New York City at 6:00 A.M. :-)\"):\n",
    "    print(f'\"{token.lemma_}\"', end=', ')"
   ]
  },
  {
   "cell_type": "code",
   "execution_count": 32,
   "id": "53f5c469",
   "metadata": {},
   "outputs": [
    {
     "name": "stdout",
     "output_type": "stream",
     "text": [
      "\"he\", \"be\", \"read\", \"the\", \"book\", \"she\", \"read\", \"before\", "
     ]
    }
   ],
   "source": [
    "import spacy\n",
    "\n",
    "nlp = spacy.load('en_core_web_lg')\n",
    "\n",
    "for token in nlp(\"He is reading the books she read before\"):\n",
    "    print(f'\"{token.lemma_}\"', end=', ')"
   ]
  },
  {
   "cell_type": "markdown",
   "id": "a29c11fd",
   "metadata": {},
   "source": [
    "## Part of Speech Tags and Stop Words"
   ]
  },
  {
   "cell_type": "code",
   "execution_count": 43,
   "id": "c665ea36",
   "metadata": {},
   "outputs": [
    {
     "data": {
      "text/html": [
       "<div>\n",
       "<style scoped>\n",
       "    .dataframe tbody tr th:only-of-type {\n",
       "        vertical-align: middle;\n",
       "    }\n",
       "\n",
       "    .dataframe tbody tr th {\n",
       "        vertical-align: top;\n",
       "    }\n",
       "\n",
       "    .dataframe thead th {\n",
       "        text-align: right;\n",
       "    }\n",
       "</style>\n",
       "<table border=\"1\" class=\"dataframe\">\n",
       "  <thead>\n",
       "    <tr style=\"text-align: right;\">\n",
       "      <th></th>\n",
       "      <th>lemma</th>\n",
       "      <th>part_of_speech</th>\n",
       "      <th>is_stop_word</th>\n",
       "      <th>is_alpha</th>\n",
       "    </tr>\n",
       "    <tr>\n",
       "      <th>text</th>\n",
       "      <th></th>\n",
       "      <th></th>\n",
       "      <th></th>\n",
       "      <th></th>\n",
       "    </tr>\n",
       "  </thead>\n",
       "  <tbody>\n",
       "    <tr>\n",
       "      <th>Apple</th>\n",
       "      <td>Apple</td>\n",
       "      <td>PROPN</td>\n",
       "      <td>False</td>\n",
       "      <td>True</td>\n",
       "    </tr>\n",
       "    <tr>\n",
       "      <th>is</th>\n",
       "      <td>be</td>\n",
       "      <td>AUX</td>\n",
       "      <td>True</td>\n",
       "      <td>True</td>\n",
       "    </tr>\n",
       "    <tr>\n",
       "      <th>looking</th>\n",
       "      <td>look</td>\n",
       "      <td>VERB</td>\n",
       "      <td>False</td>\n",
       "      <td>True</td>\n",
       "    </tr>\n",
       "    <tr>\n",
       "      <th>at</th>\n",
       "      <td>at</td>\n",
       "      <td>ADP</td>\n",
       "      <td>True</td>\n",
       "      <td>True</td>\n",
       "    </tr>\n",
       "    <tr>\n",
       "      <th>buying</th>\n",
       "      <td>buy</td>\n",
       "      <td>VERB</td>\n",
       "      <td>False</td>\n",
       "      <td>True</td>\n",
       "    </tr>\n",
       "    <tr>\n",
       "      <th>U.K.</th>\n",
       "      <td>U.K.</td>\n",
       "      <td>PROPN</td>\n",
       "      <td>False</td>\n",
       "      <td>False</td>\n",
       "    </tr>\n",
       "    <tr>\n",
       "      <th>startup</th>\n",
       "      <td>startup</td>\n",
       "      <td>NOUN</td>\n",
       "      <td>False</td>\n",
       "      <td>True</td>\n",
       "    </tr>\n",
       "    <tr>\n",
       "      <th>for</th>\n",
       "      <td>for</td>\n",
       "      <td>ADP</td>\n",
       "      <td>True</td>\n",
       "      <td>True</td>\n",
       "    </tr>\n",
       "    <tr>\n",
       "      <th>$</th>\n",
       "      <td>$</td>\n",
       "      <td>SYM</td>\n",
       "      <td>False</td>\n",
       "      <td>False</td>\n",
       "    </tr>\n",
       "    <tr>\n",
       "      <th>1</th>\n",
       "      <td>1</td>\n",
       "      <td>NUM</td>\n",
       "      <td>False</td>\n",
       "      <td>False</td>\n",
       "    </tr>\n",
       "    <tr>\n",
       "      <th>billion</th>\n",
       "      <td>billion</td>\n",
       "      <td>NUM</td>\n",
       "      <td>False</td>\n",
       "      <td>True</td>\n",
       "    </tr>\n",
       "  </tbody>\n",
       "</table>\n",
       "</div>"
      ],
      "text/plain": [
       "           lemma part_of_speech  is_stop_word  is_alpha\n",
       "text                                                   \n",
       "Apple      Apple          PROPN         False      True\n",
       "is            be            AUX          True      True\n",
       "looking     look           VERB         False      True\n",
       "at            at            ADP          True      True\n",
       "buying       buy           VERB         False      True\n",
       "U.K.        U.K.          PROPN         False     False\n",
       "startup  startup           NOUN         False      True\n",
       "for          for            ADP          True      True\n",
       "$              $            SYM         False     False\n",
       "1              1            NUM         False     False\n",
       "billion  billion            NUM         False      True"
      ]
     },
     "execution_count": 43,
     "metadata": {},
     "output_type": "execute_result"
    }
   ],
   "source": [
    "import spacy\n",
    "\n",
    "nlp = spacy.load(\"en_core_web_lg\")\n",
    "doc = nlp(\"Apple is looking at buying U.K. startup for $1 billion\")\n",
    "\n",
    "pd.DataFrame(\n",
    "    [\n",
    "        {\n",
    "            'text': token.text, \n",
    "            'lemma': token.lemma_,\n",
    "            'part_of_speech': token.pos_,\n",
    "            'is_stop_word': token.is_stop,\n",
    "            'is_alpha': token.is_alpha,\n",
    "        } \n",
    "        for token in doc\n",
    "    ]\n",
    ").set_index('text')"
   ]
  },
  {
   "cell_type": "markdown",
   "id": "5cbdda8a",
   "metadata": {},
   "source": [
    "### Dependancy Parsing"
   ]
  },
  {
   "cell_type": "code",
   "execution_count": 66,
   "id": "b97bf65b",
   "metadata": {},
   "outputs": [
    {
     "data": {
      "text/html": [
       "<span class=\"tex2jax_ignore\"><svg xmlns=\"http://www.w3.org/2000/svg\" xmlns:xlink=\"http://www.w3.org/1999/xlink\" xml:lang=\"en\" id=\"53c46601e98b44e482cf5b25edc0bb52-0\" class=\"displacy\" width=\"985\" height=\"264.5\" direction=\"ltr\" style=\"max-width: none; height: 264.5px; color: #000000; background: #ffffff; font-family: Arial; direction: ltr\">\n",
       "<text class=\"displacy-token\" fill=\"currentColor\" text-anchor=\"middle\" y=\"174.5\">\n",
       "    <tspan class=\"displacy-word\" fill=\"currentColor\" x=\"50\">Apple</tspan>\n",
       "    <tspan class=\"displacy-tag\" dy=\"2em\" fill=\"currentColor\" x=\"50\">PROPN</tspan>\n",
       "</text>\n",
       "\n",
       "<text class=\"displacy-token\" fill=\"currentColor\" text-anchor=\"middle\" y=\"174.5\">\n",
       "    <tspan class=\"displacy-word\" fill=\"currentColor\" x=\"135\">is</tspan>\n",
       "    <tspan class=\"displacy-tag\" dy=\"2em\" fill=\"currentColor\" x=\"135\">AUX</tspan>\n",
       "</text>\n",
       "\n",
       "<text class=\"displacy-token\" fill=\"currentColor\" text-anchor=\"middle\" y=\"174.5\">\n",
       "    <tspan class=\"displacy-word\" fill=\"currentColor\" x=\"220\">looking</tspan>\n",
       "    <tspan class=\"displacy-tag\" dy=\"2em\" fill=\"currentColor\" x=\"220\">VERB</tspan>\n",
       "</text>\n",
       "\n",
       "<text class=\"displacy-token\" fill=\"currentColor\" text-anchor=\"middle\" y=\"174.5\">\n",
       "    <tspan class=\"displacy-word\" fill=\"currentColor\" x=\"305\">at</tspan>\n",
       "    <tspan class=\"displacy-tag\" dy=\"2em\" fill=\"currentColor\" x=\"305\">ADP</tspan>\n",
       "</text>\n",
       "\n",
       "<text class=\"displacy-token\" fill=\"currentColor\" text-anchor=\"middle\" y=\"174.5\">\n",
       "    <tspan class=\"displacy-word\" fill=\"currentColor\" x=\"390\">buying</tspan>\n",
       "    <tspan class=\"displacy-tag\" dy=\"2em\" fill=\"currentColor\" x=\"390\">VERB</tspan>\n",
       "</text>\n",
       "\n",
       "<text class=\"displacy-token\" fill=\"currentColor\" text-anchor=\"middle\" y=\"174.5\">\n",
       "    <tspan class=\"displacy-word\" fill=\"currentColor\" x=\"475\">U.K.</tspan>\n",
       "    <tspan class=\"displacy-tag\" dy=\"2em\" fill=\"currentColor\" x=\"475\">PROPN</tspan>\n",
       "</text>\n",
       "\n",
       "<text class=\"displacy-token\" fill=\"currentColor\" text-anchor=\"middle\" y=\"174.5\">\n",
       "    <tspan class=\"displacy-word\" fill=\"currentColor\" x=\"560\">startup</tspan>\n",
       "    <tspan class=\"displacy-tag\" dy=\"2em\" fill=\"currentColor\" x=\"560\">NOUN</tspan>\n",
       "</text>\n",
       "\n",
       "<text class=\"displacy-token\" fill=\"currentColor\" text-anchor=\"middle\" y=\"174.5\">\n",
       "    <tspan class=\"displacy-word\" fill=\"currentColor\" x=\"645\">for</tspan>\n",
       "    <tspan class=\"displacy-tag\" dy=\"2em\" fill=\"currentColor\" x=\"645\">ADP</tspan>\n",
       "</text>\n",
       "\n",
       "<text class=\"displacy-token\" fill=\"currentColor\" text-anchor=\"middle\" y=\"174.5\">\n",
       "    <tspan class=\"displacy-word\" fill=\"currentColor\" x=\"730\">$</tspan>\n",
       "    <tspan class=\"displacy-tag\" dy=\"2em\" fill=\"currentColor\" x=\"730\">SYM</tspan>\n",
       "</text>\n",
       "\n",
       "<text class=\"displacy-token\" fill=\"currentColor\" text-anchor=\"middle\" y=\"174.5\">\n",
       "    <tspan class=\"displacy-word\" fill=\"currentColor\" x=\"815\">1</tspan>\n",
       "    <tspan class=\"displacy-tag\" dy=\"2em\" fill=\"currentColor\" x=\"815\">NUM</tspan>\n",
       "</text>\n",
       "\n",
       "<text class=\"displacy-token\" fill=\"currentColor\" text-anchor=\"middle\" y=\"174.5\">\n",
       "    <tspan class=\"displacy-word\" fill=\"currentColor\" x=\"900\">billion</tspan>\n",
       "    <tspan class=\"displacy-tag\" dy=\"2em\" fill=\"currentColor\" x=\"900\">NUM</tspan>\n",
       "</text>\n",
       "\n",
       "<g class=\"displacy-arrow\">\n",
       "    <path class=\"displacy-arc\" id=\"arrow-53c46601e98b44e482cf5b25edc0bb52-0-0\" stroke-width=\"2px\" d=\"M70,129.5 C70,44.5 215.0,44.5 215.0,129.5\" fill=\"none\" stroke=\"currentColor\"/>\n",
       "    <text dy=\"1.25em\" style=\"font-size: 0.8em; letter-spacing: 1px\">\n",
       "        <textPath xlink:href=\"#arrow-53c46601e98b44e482cf5b25edc0bb52-0-0\" class=\"displacy-label\" startOffset=\"50%\" side=\"left\" fill=\"currentColor\" text-anchor=\"middle\">nsubj</textPath>\n",
       "    </text>\n",
       "    <path class=\"displacy-arrowhead\" d=\"M70,131.5 L62,119.5 78,119.5\" fill=\"currentColor\"/>\n",
       "</g>\n",
       "\n",
       "<g class=\"displacy-arrow\">\n",
       "    <path class=\"displacy-arc\" id=\"arrow-53c46601e98b44e482cf5b25edc0bb52-0-1\" stroke-width=\"2px\" d=\"M155,129.5 C155,87.0 210.0,87.0 210.0,129.5\" fill=\"none\" stroke=\"currentColor\"/>\n",
       "    <text dy=\"1.25em\" style=\"font-size: 0.8em; letter-spacing: 1px\">\n",
       "        <textPath xlink:href=\"#arrow-53c46601e98b44e482cf5b25edc0bb52-0-1\" class=\"displacy-label\" startOffset=\"50%\" side=\"left\" fill=\"currentColor\" text-anchor=\"middle\">aux</textPath>\n",
       "    </text>\n",
       "    <path class=\"displacy-arrowhead\" d=\"M155,131.5 L147,119.5 163,119.5\" fill=\"currentColor\"/>\n",
       "</g>\n",
       "\n",
       "<g class=\"displacy-arrow\">\n",
       "    <path class=\"displacy-arc\" id=\"arrow-53c46601e98b44e482cf5b25edc0bb52-0-2\" stroke-width=\"2px\" d=\"M240,129.5 C240,87.0 295.0,87.0 295.0,129.5\" fill=\"none\" stroke=\"currentColor\"/>\n",
       "    <text dy=\"1.25em\" style=\"font-size: 0.8em; letter-spacing: 1px\">\n",
       "        <textPath xlink:href=\"#arrow-53c46601e98b44e482cf5b25edc0bb52-0-2\" class=\"displacy-label\" startOffset=\"50%\" side=\"left\" fill=\"currentColor\" text-anchor=\"middle\">prep</textPath>\n",
       "    </text>\n",
       "    <path class=\"displacy-arrowhead\" d=\"M295.0,131.5 L303.0,119.5 287.0,119.5\" fill=\"currentColor\"/>\n",
       "</g>\n",
       "\n",
       "<g class=\"displacy-arrow\">\n",
       "    <path class=\"displacy-arc\" id=\"arrow-53c46601e98b44e482cf5b25edc0bb52-0-3\" stroke-width=\"2px\" d=\"M325,129.5 C325,87.0 380.0,87.0 380.0,129.5\" fill=\"none\" stroke=\"currentColor\"/>\n",
       "    <text dy=\"1.25em\" style=\"font-size: 0.8em; letter-spacing: 1px\">\n",
       "        <textPath xlink:href=\"#arrow-53c46601e98b44e482cf5b25edc0bb52-0-3\" class=\"displacy-label\" startOffset=\"50%\" side=\"left\" fill=\"currentColor\" text-anchor=\"middle\">pcomp</textPath>\n",
       "    </text>\n",
       "    <path class=\"displacy-arrowhead\" d=\"M380.0,131.5 L388.0,119.5 372.0,119.5\" fill=\"currentColor\"/>\n",
       "</g>\n",
       "\n",
       "<g class=\"displacy-arrow\">\n",
       "    <path class=\"displacy-arc\" id=\"arrow-53c46601e98b44e482cf5b25edc0bb52-0-4\" stroke-width=\"2px\" d=\"M495,129.5 C495,87.0 550.0,87.0 550.0,129.5\" fill=\"none\" stroke=\"currentColor\"/>\n",
       "    <text dy=\"1.25em\" style=\"font-size: 0.8em; letter-spacing: 1px\">\n",
       "        <textPath xlink:href=\"#arrow-53c46601e98b44e482cf5b25edc0bb52-0-4\" class=\"displacy-label\" startOffset=\"50%\" side=\"left\" fill=\"currentColor\" text-anchor=\"middle\">compound</textPath>\n",
       "    </text>\n",
       "    <path class=\"displacy-arrowhead\" d=\"M495,131.5 L487,119.5 503,119.5\" fill=\"currentColor\"/>\n",
       "</g>\n",
       "\n",
       "<g class=\"displacy-arrow\">\n",
       "    <path class=\"displacy-arc\" id=\"arrow-53c46601e98b44e482cf5b25edc0bb52-0-5\" stroke-width=\"2px\" d=\"M410,129.5 C410,44.5 555.0,44.5 555.0,129.5\" fill=\"none\" stroke=\"currentColor\"/>\n",
       "    <text dy=\"1.25em\" style=\"font-size: 0.8em; letter-spacing: 1px\">\n",
       "        <textPath xlink:href=\"#arrow-53c46601e98b44e482cf5b25edc0bb52-0-5\" class=\"displacy-label\" startOffset=\"50%\" side=\"left\" fill=\"currentColor\" text-anchor=\"middle\">dobj</textPath>\n",
       "    </text>\n",
       "    <path class=\"displacy-arrowhead\" d=\"M555.0,131.5 L563.0,119.5 547.0,119.5\" fill=\"currentColor\"/>\n",
       "</g>\n",
       "\n",
       "<g class=\"displacy-arrow\">\n",
       "    <path class=\"displacy-arc\" id=\"arrow-53c46601e98b44e482cf5b25edc0bb52-0-6\" stroke-width=\"2px\" d=\"M410,129.5 C410,2.0 645.0,2.0 645.0,129.5\" fill=\"none\" stroke=\"currentColor\"/>\n",
       "    <text dy=\"1.25em\" style=\"font-size: 0.8em; letter-spacing: 1px\">\n",
       "        <textPath xlink:href=\"#arrow-53c46601e98b44e482cf5b25edc0bb52-0-6\" class=\"displacy-label\" startOffset=\"50%\" side=\"left\" fill=\"currentColor\" text-anchor=\"middle\">prep</textPath>\n",
       "    </text>\n",
       "    <path class=\"displacy-arrowhead\" d=\"M645.0,131.5 L653.0,119.5 637.0,119.5\" fill=\"currentColor\"/>\n",
       "</g>\n",
       "\n",
       "<g class=\"displacy-arrow\">\n",
       "    <path class=\"displacy-arc\" id=\"arrow-53c46601e98b44e482cf5b25edc0bb52-0-7\" stroke-width=\"2px\" d=\"M750,129.5 C750,44.5 895.0,44.5 895.0,129.5\" fill=\"none\" stroke=\"currentColor\"/>\n",
       "    <text dy=\"1.25em\" style=\"font-size: 0.8em; letter-spacing: 1px\">\n",
       "        <textPath xlink:href=\"#arrow-53c46601e98b44e482cf5b25edc0bb52-0-7\" class=\"displacy-label\" startOffset=\"50%\" side=\"left\" fill=\"currentColor\" text-anchor=\"middle\">quantmod</textPath>\n",
       "    </text>\n",
       "    <path class=\"displacy-arrowhead\" d=\"M750,131.5 L742,119.5 758,119.5\" fill=\"currentColor\"/>\n",
       "</g>\n",
       "\n",
       "<g class=\"displacy-arrow\">\n",
       "    <path class=\"displacy-arc\" id=\"arrow-53c46601e98b44e482cf5b25edc0bb52-0-8\" stroke-width=\"2px\" d=\"M835,129.5 C835,87.0 890.0,87.0 890.0,129.5\" fill=\"none\" stroke=\"currentColor\"/>\n",
       "    <text dy=\"1.25em\" style=\"font-size: 0.8em; letter-spacing: 1px\">\n",
       "        <textPath xlink:href=\"#arrow-53c46601e98b44e482cf5b25edc0bb52-0-8\" class=\"displacy-label\" startOffset=\"50%\" side=\"left\" fill=\"currentColor\" text-anchor=\"middle\">compound</textPath>\n",
       "    </text>\n",
       "    <path class=\"displacy-arrowhead\" d=\"M835,131.5 L827,119.5 843,119.5\" fill=\"currentColor\"/>\n",
       "</g>\n",
       "\n",
       "<g class=\"displacy-arrow\">\n",
       "    <path class=\"displacy-arc\" id=\"arrow-53c46601e98b44e482cf5b25edc0bb52-0-9\" stroke-width=\"2px\" d=\"M665,129.5 C665,2.0 900.0,2.0 900.0,129.5\" fill=\"none\" stroke=\"currentColor\"/>\n",
       "    <text dy=\"1.25em\" style=\"font-size: 0.8em; letter-spacing: 1px\">\n",
       "        <textPath xlink:href=\"#arrow-53c46601e98b44e482cf5b25edc0bb52-0-9\" class=\"displacy-label\" startOffset=\"50%\" side=\"left\" fill=\"currentColor\" text-anchor=\"middle\">pobj</textPath>\n",
       "    </text>\n",
       "    <path class=\"displacy-arrowhead\" d=\"M900.0,131.5 L908.0,119.5 892.0,119.5\" fill=\"currentColor\"/>\n",
       "</g>\n",
       "</svg></span>"
      ],
      "text/plain": [
       "<IPython.core.display.HTML object>"
      ]
     },
     "metadata": {},
     "output_type": "display_data"
    }
   ],
   "source": [
    "from spacy import displacy\n",
    "\n",
    "nlp = spacy.load(\"en_core_web_lg\")\n",
    "doc = nlp(\"Apple is looking at buying U.K. startup for $1 billion\")\n",
    "\n",
    "# https://spacy.io/api/top-level#displacy_options\n",
    "displacy.render(doc, style=\"dep\", options={\"distance\": 85})"
   ]
  },
  {
   "cell_type": "markdown",
   "id": "79538bd2",
   "metadata": {},
   "source": [
    "## Exercise \n",
    "\n",
    "- Can you classify the documents based on their `polarity` (or `deceptive`) using their `part of speech` tags instead of their actual text?\n",
    "- Are there `part of speech` tags that correlate more with certain `polarity` (or with being `deceptive`)?"
   ]
  },
  {
   "cell_type": "markdown",
   "id": "614961b9",
   "metadata": {},
   "source": [
    "## Named Entity Recognition (NER)"
   ]
  },
  {
   "cell_type": "code",
   "execution_count": 46,
   "id": "96a84140",
   "metadata": {},
   "outputs": [
    {
     "data": {
      "text/html": [
       "<div>\n",
       "<style scoped>\n",
       "    .dataframe tbody tr th:only-of-type {\n",
       "        vertical-align: middle;\n",
       "    }\n",
       "\n",
       "    .dataframe tbody tr th {\n",
       "        vertical-align: top;\n",
       "    }\n",
       "\n",
       "    .dataframe thead th {\n",
       "        text-align: right;\n",
       "    }\n",
       "</style>\n",
       "<table border=\"1\" class=\"dataframe\">\n",
       "  <thead>\n",
       "    <tr style=\"text-align: right;\">\n",
       "      <th></th>\n",
       "      <th>label</th>\n",
       "      <th>start_char</th>\n",
       "      <th>end_char</th>\n",
       "    </tr>\n",
       "    <tr>\n",
       "      <th>text</th>\n",
       "      <th></th>\n",
       "      <th></th>\n",
       "      <th></th>\n",
       "    </tr>\n",
       "  </thead>\n",
       "  <tbody>\n",
       "    <tr>\n",
       "      <th>Apple</th>\n",
       "      <td>ORG</td>\n",
       "      <td>0</td>\n",
       "      <td>5</td>\n",
       "    </tr>\n",
       "    <tr>\n",
       "      <th>U.K.</th>\n",
       "      <td>GPE</td>\n",
       "      <td>27</td>\n",
       "      <td>31</td>\n",
       "    </tr>\n",
       "    <tr>\n",
       "      <th>$1 billion</th>\n",
       "      <td>MONEY</td>\n",
       "      <td>44</td>\n",
       "      <td>54</td>\n",
       "    </tr>\n",
       "  </tbody>\n",
       "</table>\n",
       "</div>"
      ],
      "text/plain": [
       "            label  start_char  end_char\n",
       "text                                   \n",
       "Apple         ORG           0         5\n",
       "U.K.          GPE          27        31\n",
       "$1 billion  MONEY          44        54"
      ]
     },
     "execution_count": 46,
     "metadata": {},
     "output_type": "execute_result"
    }
   ],
   "source": [
    "import spacy\n",
    "\n",
    "nlp = spacy.load(\"en_core_web_lg\")\n",
    "doc = nlp(\"Apple is looking at buying U.K. startup for $1 billion\")\n",
    "\n",
    "pd.DataFrame(\n",
    "    [\n",
    "        {\n",
    "            'text': ent.text, \n",
    "            'label': ent.label_,\n",
    "            'start_char': ent.start_char,\n",
    "            'end_char': ent.end_char,\n",
    "        } \n",
    "        for ent in doc.ents\n",
    "    ]\n",
    ").set_index('text')"
   ]
  },
  {
   "cell_type": "markdown",
   "id": "e2329528",
   "metadata": {},
   "source": [
    "### Custom NER"
   ]
  },
  {
   "cell_type": "code",
   "execution_count": 47,
   "id": "0ee7558f",
   "metadata": {},
   "outputs": [
    {
     "data": {
      "text/html": [
       "<div>\n",
       "<style scoped>\n",
       "    .dataframe tbody tr th:only-of-type {\n",
       "        vertical-align: middle;\n",
       "    }\n",
       "\n",
       "    .dataframe tbody tr th {\n",
       "        vertical-align: top;\n",
       "    }\n",
       "\n",
       "    .dataframe thead th {\n",
       "        text-align: right;\n",
       "    }\n",
       "</style>\n",
       "<table border=\"1\" class=\"dataframe\">\n",
       "  <thead>\n",
       "    <tr style=\"text-align: right;\">\n",
       "      <th></th>\n",
       "      <th>label</th>\n",
       "      <th>start_char</th>\n",
       "      <th>end_char</th>\n",
       "    </tr>\n",
       "    <tr>\n",
       "      <th>text</th>\n",
       "      <th></th>\n",
       "      <th></th>\n",
       "      <th></th>\n",
       "    </tr>\n",
       "  </thead>\n",
       "  <tbody>\n",
       "    <tr>\n",
       "      <th>Spotify</th>\n",
       "      <td>ORG</td>\n",
       "      <td>30</td>\n",
       "      <td>37</td>\n",
       "    </tr>\n",
       "  </tbody>\n",
       "</table>\n",
       "</div>"
      ],
      "text/plain": [
       "        label  start_char  end_char\n",
       "text                               \n",
       "Spotify   ORG          30        37"
      ]
     },
     "execution_count": 47,
     "metadata": {},
     "output_type": "execute_result"
    }
   ],
   "source": [
    "import spacy\n",
    "\n",
    "nlp = spacy.load(\"en_core_web_lg\")\n",
    "doc = nlp(\"I was listening to The Who on Spotify\")\n",
    "\n",
    "pd.DataFrame(\n",
    "    [\n",
    "        {\n",
    "            'text': ent.text, \n",
    "            'label': ent.label_,\n",
    "            'start_char': ent.start_char,\n",
    "            'end_char': ent.end_char,\n",
    "        } \n",
    "        for ent in doc.ents\n",
    "    ]\n",
    ").set_index('text')"
   ]
  },
  {
   "cell_type": "code",
   "execution_count": 50,
   "id": "4fcafe79",
   "metadata": {},
   "outputs": [
    {
     "data": {
      "text/html": [
       "<div>\n",
       "<style scoped>\n",
       "    .dataframe tbody tr th:only-of-type {\n",
       "        vertical-align: middle;\n",
       "    }\n",
       "\n",
       "    .dataframe tbody tr th {\n",
       "        vertical-align: top;\n",
       "    }\n",
       "\n",
       "    .dataframe thead th {\n",
       "        text-align: right;\n",
       "    }\n",
       "</style>\n",
       "<table border=\"1\" class=\"dataframe\">\n",
       "  <thead>\n",
       "    <tr style=\"text-align: right;\">\n",
       "      <th></th>\n",
       "      <th>label</th>\n",
       "      <th>start_char</th>\n",
       "      <th>end_char</th>\n",
       "    </tr>\n",
       "    <tr>\n",
       "      <th>text</th>\n",
       "      <th></th>\n",
       "      <th></th>\n",
       "      <th></th>\n",
       "    </tr>\n",
       "  </thead>\n",
       "  <tbody>\n",
       "    <tr>\n",
       "      <th>The Who</th>\n",
       "      <td>BAND</td>\n",
       "      <td>19</td>\n",
       "      <td>26</td>\n",
       "    </tr>\n",
       "    <tr>\n",
       "      <th>Spotify</th>\n",
       "      <td>ORG</td>\n",
       "      <td>30</td>\n",
       "      <td>37</td>\n",
       "    </tr>\n",
       "  </tbody>\n",
       "</table>\n",
       "</div>"
      ],
      "text/plain": [
       "        label  start_char  end_char\n",
       "text                               \n",
       "The Who  BAND          19        26\n",
       "Spotify   ORG          30        37"
      ]
     },
     "execution_count": 50,
     "metadata": {},
     "output_type": "execute_result"
    }
   ],
   "source": [
    "import spacy\n",
    "\n",
    "nlp = spacy.load(\"en_core_web_lg\")\n",
    "\n",
    "# Custom Rule for The Who\n",
    "ruler = nlp.add_pipe(\"entity_ruler\")\n",
    "patterns = [{\"label\": \"BAND\", \"pattern\": [{\"TEXT\": \"The\"}, {\"TEXT\": \"Who\"}]}]\n",
    "ruler.add_patterns(patterns)\n",
    "\n",
    "doc = nlp(\"I was listening to The Who on Spotify\")\n",
    "\n",
    "pd.DataFrame(\n",
    "    [\n",
    "        {\n",
    "            'text': ent.text, \n",
    "            'label': ent.label_,\n",
    "            'start_char': ent.start_char,\n",
    "            'end_char': ent.end_char,\n",
    "        } \n",
    "        for ent in doc.ents\n",
    "    ]\n",
    ").set_index('text')\n"
   ]
  },
  {
   "cell_type": "markdown",
   "id": "e2ff0851",
   "metadata": {},
   "source": [
    "### Notes\n",
    "\n",
    "- Statistical vs Rule-based Entity Recognition\n",
    "- Entity Linking [Spacy Doc](https://spacy.io/usage/linguistic-features#entity-linking)"
   ]
  },
  {
   "cell_type": "code",
   "execution_count": null,
   "id": "951c9858",
   "metadata": {},
   "outputs": [],
   "source": []
  }
 ],
 "metadata": {
  "kernelspec": {
   "display_name": "Python 3 (ipykernel)",
   "language": "python",
   "name": "python3"
  },
  "language_info": {
   "codemirror_mode": {
    "name": "ipython",
    "version": 3
   },
   "file_extension": ".py",
   "mimetype": "text/x-python",
   "name": "python",
   "nbconvert_exporter": "python",
   "pygments_lexer": "ipython3",
   "version": "3.9.12"
  }
 },
 "nbformat": 4,
 "nbformat_minor": 5
}
