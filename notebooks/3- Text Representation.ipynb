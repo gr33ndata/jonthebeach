{
 "cells": [
  {
   "cell_type": "markdown",
   "id": "a32905eb",
   "metadata": {},
   "source": [
    "# Opinion Spam - Text Representation"
   ]
  },
  {
   "cell_type": "code",
   "execution_count": 1,
   "id": "2a25ba57",
   "metadata": {},
   "outputs": [],
   "source": [
    "import os \n",
    "\n",
    "import numpy as np\n",
    "import pandas as pd"
   ]
  },
  {
   "cell_type": "code",
   "execution_count": 2,
   "id": "57bf9a2b",
   "metadata": {},
   "outputs": [],
   "source": [
    "from sklearn.feature_extraction.text import CountVectorizer"
   ]
  },
  {
   "cell_type": "raw",
   "id": "1430f28b",
   "metadata": {},
   "source": [
    "vectorizer = CountVectorizer()\n",
    "vectorizer.fit(sentences)\n",
    "\n",
    "vocabulary = vectorizer.get_feature_names_out().tolist()\n",
    "vectors = vectorizer.transform(sentences).todense()\n",
    "\n",
    "pd.DataFrame(\n",
    "    vectors,\n",
    "    columns=vocabulary\n",
    ")"
   ]
  },
  {
   "cell_type": "code",
   "execution_count": 26,
   "id": "30ab2c2e",
   "metadata": {},
   "outputs": [],
   "source": [
    "sentences = [\n",
    "    'I ate an apple',\n",
    "    'I ate an orange',\n",
    "    'I ate a banana',\n",
    "    'I had an apple',\n",
    "    'I had a pear',\n",
    "]"
   ]
  },
  {
   "cell_type": "code",
   "execution_count": 27,
   "id": "2159409e",
   "metadata": {},
   "outputs": [],
   "source": [
    "def text2dataframe(sentences, vectorizer):\n",
    "    vectorizer.fit(sentences)\n",
    "    \n",
    "    df = pd.DataFrame(\n",
    "        vectorizer.transform(sentences).todense(),\n",
    "        columns=vectorizer.get_feature_names_out().tolist()\n",
    "    )\n",
    "    \n",
    "    df.index.name = 'document_id'\n",
    "    \n",
    "    return df"
   ]
  },
  {
   "cell_type": "code",
   "execution_count": 28,
   "id": "bc59fa14",
   "metadata": {},
   "outputs": [
    {
     "name": "stdout",
     "output_type": "stream",
     "text": [
      "I ate an apple\n",
      "I ate an orange\n",
      "I ate a banana\n",
      "I had an apple\n",
      "I had a pear\n"
     ]
    }
   ],
   "source": [
    "print('\\n'.join(sentences))"
   ]
  },
  {
   "cell_type": "code",
   "execution_count": 29,
   "id": "6ae8c9c3",
   "metadata": {},
   "outputs": [
    {
     "data": {
      "text/html": [
       "<style type=\"text/css\">\n",
       "#T_855af_row0_col0, #T_855af_row0_col1, #T_855af_row0_col2, #T_855af_row1_col0, #T_855af_row1_col2, #T_855af_row1_col5, #T_855af_row2_col2, #T_855af_row2_col3, #T_855af_row3_col0, #T_855af_row3_col1, #T_855af_row3_col4, #T_855af_row4_col4, #T_855af_row4_col6 {\n",
       "  background-color: #959595;\n",
       "  color: #f1f1f1;\n",
       "}\n",
       "#T_855af_row0_col3, #T_855af_row0_col4, #T_855af_row0_col5, #T_855af_row0_col6, #T_855af_row1_col1, #T_855af_row1_col3, #T_855af_row1_col4, #T_855af_row1_col6, #T_855af_row2_col0, #T_855af_row2_col1, #T_855af_row2_col4, #T_855af_row2_col5, #T_855af_row2_col6, #T_855af_row3_col2, #T_855af_row3_col3, #T_855af_row3_col5, #T_855af_row3_col6, #T_855af_row4_col0, #T_855af_row4_col1, #T_855af_row4_col2, #T_855af_row4_col3, #T_855af_row4_col5 {\n",
       "  background-color: #ffffff;\n",
       "  color: #000000;\n",
       "}\n",
       "</style>\n",
       "<table id=\"T_855af\">\n",
       "  <thead>\n",
       "    <tr>\n",
       "      <th class=\"blank level0\" >&nbsp;</th>\n",
       "      <th id=\"T_855af_level0_col0\" class=\"col_heading level0 col0\" >an</th>\n",
       "      <th id=\"T_855af_level0_col1\" class=\"col_heading level0 col1\" >apple</th>\n",
       "      <th id=\"T_855af_level0_col2\" class=\"col_heading level0 col2\" >ate</th>\n",
       "      <th id=\"T_855af_level0_col3\" class=\"col_heading level0 col3\" >banana</th>\n",
       "      <th id=\"T_855af_level0_col4\" class=\"col_heading level0 col4\" >had</th>\n",
       "      <th id=\"T_855af_level0_col5\" class=\"col_heading level0 col5\" >orange</th>\n",
       "      <th id=\"T_855af_level0_col6\" class=\"col_heading level0 col6\" >pear</th>\n",
       "    </tr>\n",
       "    <tr>\n",
       "      <th class=\"index_name level0\" >document_id</th>\n",
       "      <th class=\"blank col0\" >&nbsp;</th>\n",
       "      <th class=\"blank col1\" >&nbsp;</th>\n",
       "      <th class=\"blank col2\" >&nbsp;</th>\n",
       "      <th class=\"blank col3\" >&nbsp;</th>\n",
       "      <th class=\"blank col4\" >&nbsp;</th>\n",
       "      <th class=\"blank col5\" >&nbsp;</th>\n",
       "      <th class=\"blank col6\" >&nbsp;</th>\n",
       "    </tr>\n",
       "  </thead>\n",
       "  <tbody>\n",
       "    <tr>\n",
       "      <th id=\"T_855af_level0_row0\" class=\"row_heading level0 row0\" >0</th>\n",
       "      <td id=\"T_855af_row0_col0\" class=\"data row0 col0\" >1</td>\n",
       "      <td id=\"T_855af_row0_col1\" class=\"data row0 col1\" >1</td>\n",
       "      <td id=\"T_855af_row0_col2\" class=\"data row0 col2\" >1</td>\n",
       "      <td id=\"T_855af_row0_col3\" class=\"data row0 col3\" >0</td>\n",
       "      <td id=\"T_855af_row0_col4\" class=\"data row0 col4\" >0</td>\n",
       "      <td id=\"T_855af_row0_col5\" class=\"data row0 col5\" >0</td>\n",
       "      <td id=\"T_855af_row0_col6\" class=\"data row0 col6\" >0</td>\n",
       "    </tr>\n",
       "    <tr>\n",
       "      <th id=\"T_855af_level0_row1\" class=\"row_heading level0 row1\" >1</th>\n",
       "      <td id=\"T_855af_row1_col0\" class=\"data row1 col0\" >1</td>\n",
       "      <td id=\"T_855af_row1_col1\" class=\"data row1 col1\" >0</td>\n",
       "      <td id=\"T_855af_row1_col2\" class=\"data row1 col2\" >1</td>\n",
       "      <td id=\"T_855af_row1_col3\" class=\"data row1 col3\" >0</td>\n",
       "      <td id=\"T_855af_row1_col4\" class=\"data row1 col4\" >0</td>\n",
       "      <td id=\"T_855af_row1_col5\" class=\"data row1 col5\" >1</td>\n",
       "      <td id=\"T_855af_row1_col6\" class=\"data row1 col6\" >0</td>\n",
       "    </tr>\n",
       "    <tr>\n",
       "      <th id=\"T_855af_level0_row2\" class=\"row_heading level0 row2\" >2</th>\n",
       "      <td id=\"T_855af_row2_col0\" class=\"data row2 col0\" >0</td>\n",
       "      <td id=\"T_855af_row2_col1\" class=\"data row2 col1\" >0</td>\n",
       "      <td id=\"T_855af_row2_col2\" class=\"data row2 col2\" >1</td>\n",
       "      <td id=\"T_855af_row2_col3\" class=\"data row2 col3\" >1</td>\n",
       "      <td id=\"T_855af_row2_col4\" class=\"data row2 col4\" >0</td>\n",
       "      <td id=\"T_855af_row2_col5\" class=\"data row2 col5\" >0</td>\n",
       "      <td id=\"T_855af_row2_col6\" class=\"data row2 col6\" >0</td>\n",
       "    </tr>\n",
       "    <tr>\n",
       "      <th id=\"T_855af_level0_row3\" class=\"row_heading level0 row3\" >3</th>\n",
       "      <td id=\"T_855af_row3_col0\" class=\"data row3 col0\" >1</td>\n",
       "      <td id=\"T_855af_row3_col1\" class=\"data row3 col1\" >1</td>\n",
       "      <td id=\"T_855af_row3_col2\" class=\"data row3 col2\" >0</td>\n",
       "      <td id=\"T_855af_row3_col3\" class=\"data row3 col3\" >0</td>\n",
       "      <td id=\"T_855af_row3_col4\" class=\"data row3 col4\" >1</td>\n",
       "      <td id=\"T_855af_row3_col5\" class=\"data row3 col5\" >0</td>\n",
       "      <td id=\"T_855af_row3_col6\" class=\"data row3 col6\" >0</td>\n",
       "    </tr>\n",
       "    <tr>\n",
       "      <th id=\"T_855af_level0_row4\" class=\"row_heading level0 row4\" >4</th>\n",
       "      <td id=\"T_855af_row4_col0\" class=\"data row4 col0\" >0</td>\n",
       "      <td id=\"T_855af_row4_col1\" class=\"data row4 col1\" >0</td>\n",
       "      <td id=\"T_855af_row4_col2\" class=\"data row4 col2\" >0</td>\n",
       "      <td id=\"T_855af_row4_col3\" class=\"data row4 col3\" >0</td>\n",
       "      <td id=\"T_855af_row4_col4\" class=\"data row4 col4\" >1</td>\n",
       "      <td id=\"T_855af_row4_col5\" class=\"data row4 col5\" >0</td>\n",
       "      <td id=\"T_855af_row4_col6\" class=\"data row4 col6\" >1</td>\n",
       "    </tr>\n",
       "  </tbody>\n",
       "</table>\n"
      ],
      "text/plain": [
       "<pandas.io.formats.style.Styler at 0x16c0f6cd0>"
      ]
     },
     "execution_count": 29,
     "metadata": {},
     "output_type": "execute_result"
    }
   ],
   "source": [
    "from sklearn.feature_extraction.text import CountVectorizer\n",
    "\n",
    "vectorizer = CountVectorizer()\n",
    "\n",
    "df = text2dataframe(sentences, vectorizer)\n",
    "\n",
    "df.style.background_gradient(\n",
    "    cmap='Greys', low=0, high=1, axis=None\n",
    ")  "
   ]
  },
  {
   "cell_type": "markdown",
   "id": "fc26bc31",
   "metadata": {},
   "source": [
    "**[Question]** \n",
    "\n",
    "Why were \"I\" and \"a\" ignored?"
   ]
  },
  {
   "cell_type": "code",
   "execution_count": 39,
   "id": "c7399189",
   "metadata": {},
   "outputs": [],
   "source": [
    "# Try to answer here ... "
   ]
  },
  {
   "cell_type": "markdown",
   "id": "9abb7dc9",
   "metadata": {},
   "source": [
    "## Cosine Similarity "
   ]
  },
  {
   "cell_type": "code",
   "execution_count": 10,
   "id": "3eaf6fb8",
   "metadata": {},
   "outputs": [
    {
     "data": {
      "text/html": [
       "<style type=\"text/css\">\n",
       "#T_8b964_row0_col0, #T_8b964_row1_col1, #T_8b964_row3_col3 {\n",
       "  background-color: #79c679;\n",
       "  color: #000000;\n",
       "}\n",
       "#T_8b964_row0_col1, #T_8b964_row0_col3, #T_8b964_row1_col0, #T_8b964_row3_col0 {\n",
       "  background-color: #bee596;\n",
       "  color: #000000;\n",
       "}\n",
       "#T_8b964_row0_col2, #T_8b964_row1_col2, #T_8b964_row2_col0, #T_8b964_row2_col1, #T_8b964_row3_col4, #T_8b964_row4_col3 {\n",
       "  background-color: #e5f5ac;\n",
       "  color: #000000;\n",
       "}\n",
       "#T_8b964_row0_col4, #T_8b964_row1_col4, #T_8b964_row2_col3, #T_8b964_row3_col2, #T_8b964_row4_col0, #T_8b964_row4_col1 {\n",
       "  background-color: #ffffe5;\n",
       "  color: #000000;\n",
       "}\n",
       "#T_8b964_row1_col3, #T_8b964_row3_col1 {\n",
       "  background-color: #f1fab5;\n",
       "  color: #000000;\n",
       "}\n",
       "#T_8b964_row2_col2, #T_8b964_row4_col4 {\n",
       "  background-color: #77c679;\n",
       "  color: #000000;\n",
       "}\n",
       "#T_8b964_row2_col4, #T_8b964_row4_col2 {\n",
       "  background-color: #fdfeda;\n",
       "  color: #000000;\n",
       "}\n",
       "</style>\n",
       "<table id=\"T_8b964\">\n",
       "  <thead>\n",
       "    <tr>\n",
       "      <th class=\"blank level0\" >&nbsp;</th>\n",
       "      <th id=\"T_8b964_level0_col0\" class=\"col_heading level0 col0\" >They ate an apple</th>\n",
       "      <th id=\"T_8b964_level0_col1\" class=\"col_heading level0 col1\" >They ate an orange</th>\n",
       "      <th id=\"T_8b964_level0_col2\" class=\"col_heading level0 col2\" >They ate a banana</th>\n",
       "      <th id=\"T_8b964_level0_col3\" class=\"col_heading level0 col3\" >They had an apple</th>\n",
       "      <th id=\"T_8b964_level0_col4\" class=\"col_heading level0 col4\" >They had a pear</th>\n",
       "    </tr>\n",
       "  </thead>\n",
       "  <tbody>\n",
       "    <tr>\n",
       "      <th id=\"T_8b964_level0_row0\" class=\"row_heading level0 row0\" >They ate an apple</th>\n",
       "      <td id=\"T_8b964_row0_col0\" class=\"data row0 col0\" >1.000000</td>\n",
       "      <td id=\"T_8b964_row0_col1\" class=\"data row0 col1\" >0.750000</td>\n",
       "      <td id=\"T_8b964_row0_col2\" class=\"data row0 col2\" >0.577350</td>\n",
       "      <td id=\"T_8b964_row0_col3\" class=\"data row0 col3\" >0.750000</td>\n",
       "      <td id=\"T_8b964_row0_col4\" class=\"data row0 col4\" >0.288675</td>\n",
       "    </tr>\n",
       "    <tr>\n",
       "      <th id=\"T_8b964_level0_row1\" class=\"row_heading level0 row1\" >They ate an orange</th>\n",
       "      <td id=\"T_8b964_row1_col0\" class=\"data row1 col0\" >0.750000</td>\n",
       "      <td id=\"T_8b964_row1_col1\" class=\"data row1 col1\" >1.000000</td>\n",
       "      <td id=\"T_8b964_row1_col2\" class=\"data row1 col2\" >0.577350</td>\n",
       "      <td id=\"T_8b964_row1_col3\" class=\"data row1 col3\" >0.500000</td>\n",
       "      <td id=\"T_8b964_row1_col4\" class=\"data row1 col4\" >0.288675</td>\n",
       "    </tr>\n",
       "    <tr>\n",
       "      <th id=\"T_8b964_level0_row2\" class=\"row_heading level0 row2\" >They ate a banana</th>\n",
       "      <td id=\"T_8b964_row2_col0\" class=\"data row2 col0\" >0.577350</td>\n",
       "      <td id=\"T_8b964_row2_col1\" class=\"data row2 col1\" >0.577350</td>\n",
       "      <td id=\"T_8b964_row2_col2\" class=\"data row2 col2\" >1.000000</td>\n",
       "      <td id=\"T_8b964_row2_col3\" class=\"data row2 col3\" >0.288675</td>\n",
       "      <td id=\"T_8b964_row2_col4\" class=\"data row2 col4\" >0.333333</td>\n",
       "    </tr>\n",
       "    <tr>\n",
       "      <th id=\"T_8b964_level0_row3\" class=\"row_heading level0 row3\" >They had an apple</th>\n",
       "      <td id=\"T_8b964_row3_col0\" class=\"data row3 col0\" >0.750000</td>\n",
       "      <td id=\"T_8b964_row3_col1\" class=\"data row3 col1\" >0.500000</td>\n",
       "      <td id=\"T_8b964_row3_col2\" class=\"data row3 col2\" >0.288675</td>\n",
       "      <td id=\"T_8b964_row3_col3\" class=\"data row3 col3\" >1.000000</td>\n",
       "      <td id=\"T_8b964_row3_col4\" class=\"data row3 col4\" >0.577350</td>\n",
       "    </tr>\n",
       "    <tr>\n",
       "      <th id=\"T_8b964_level0_row4\" class=\"row_heading level0 row4\" >They had a pear</th>\n",
       "      <td id=\"T_8b964_row4_col0\" class=\"data row4 col0\" >0.288675</td>\n",
       "      <td id=\"T_8b964_row4_col1\" class=\"data row4 col1\" >0.288675</td>\n",
       "      <td id=\"T_8b964_row4_col2\" class=\"data row4 col2\" >0.333333</td>\n",
       "      <td id=\"T_8b964_row4_col3\" class=\"data row4 col3\" >0.577350</td>\n",
       "      <td id=\"T_8b964_row4_col4\" class=\"data row4 col4\" >1.000000</td>\n",
       "    </tr>\n",
       "  </tbody>\n",
       "</table>\n"
      ],
      "text/plain": [
       "<pandas.io.formats.style.Styler at 0x13878ebe0>"
      ]
     },
     "execution_count": 10,
     "metadata": {},
     "output_type": "execute_result"
    }
   ],
   "source": [
    "from sklearn.metrics.pairwise import cosine_similarity\n",
    "\n",
    "pd.DataFrame(\n",
    "    cosine_similarity(df, df),\n",
    "    index=sentences,\n",
    "    columns=sentences,\n",
    ").style.background_gradient(\n",
    "    cmap='YlGn', low=0, high=1, axis=None\n",
    ")  "
   ]
  },
  {
   "cell_type": "markdown",
   "id": "65864856",
   "metadata": {},
   "source": [
    "## n-grams "
   ]
  },
  {
   "cell_type": "code",
   "execution_count": 15,
   "id": "75e863e7",
   "metadata": {},
   "outputs": [
    {
     "data": {
      "text/html": [
       "<style type=\"text/css\">\n",
       "#T_05751_row0_col0, #T_05751_row0_col2, #T_05751_row0_col6, #T_05751_row1_col1, #T_05751_row1_col2, #T_05751_row1_col6, #T_05751_row2_col3, #T_05751_row2_col6, #T_05751_row3_col0, #T_05751_row3_col4, #T_05751_row3_col7, #T_05751_row4_col5, #T_05751_row4_col7 {\n",
       "  background-color: #959595;\n",
       "  color: #f1f1f1;\n",
       "}\n",
       "#T_05751_row0_col1, #T_05751_row0_col3, #T_05751_row0_col4, #T_05751_row0_col5, #T_05751_row0_col7, #T_05751_row1_col0, #T_05751_row1_col3, #T_05751_row1_col4, #T_05751_row1_col5, #T_05751_row1_col7, #T_05751_row2_col0, #T_05751_row2_col1, #T_05751_row2_col2, #T_05751_row2_col4, #T_05751_row2_col5, #T_05751_row2_col7, #T_05751_row3_col1, #T_05751_row3_col2, #T_05751_row3_col3, #T_05751_row3_col5, #T_05751_row3_col6, #T_05751_row4_col0, #T_05751_row4_col1, #T_05751_row4_col2, #T_05751_row4_col3, #T_05751_row4_col4, #T_05751_row4_col6 {\n",
       "  background-color: #ffffff;\n",
       "  color: #000000;\n",
       "}\n",
       "</style>\n",
       "<table id=\"T_05751\">\n",
       "  <thead>\n",
       "    <tr>\n",
       "      <th class=\"blank level0\" >&nbsp;</th>\n",
       "      <th id=\"T_05751_level0_col0\" class=\"col_heading level0 col0\" >an apple</th>\n",
       "      <th id=\"T_05751_level0_col1\" class=\"col_heading level0 col1\" >an orange</th>\n",
       "      <th id=\"T_05751_level0_col2\" class=\"col_heading level0 col2\" >ate an</th>\n",
       "      <th id=\"T_05751_level0_col3\" class=\"col_heading level0 col3\" >ate banana</th>\n",
       "      <th id=\"T_05751_level0_col4\" class=\"col_heading level0 col4\" >had an</th>\n",
       "      <th id=\"T_05751_level0_col5\" class=\"col_heading level0 col5\" >had pear</th>\n",
       "      <th id=\"T_05751_level0_col6\" class=\"col_heading level0 col6\" >they ate</th>\n",
       "      <th id=\"T_05751_level0_col7\" class=\"col_heading level0 col7\" >they had</th>\n",
       "    </tr>\n",
       "    <tr>\n",
       "      <th class=\"index_name level0\" >document_id</th>\n",
       "      <th class=\"blank col0\" >&nbsp;</th>\n",
       "      <th class=\"blank col1\" >&nbsp;</th>\n",
       "      <th class=\"blank col2\" >&nbsp;</th>\n",
       "      <th class=\"blank col3\" >&nbsp;</th>\n",
       "      <th class=\"blank col4\" >&nbsp;</th>\n",
       "      <th class=\"blank col5\" >&nbsp;</th>\n",
       "      <th class=\"blank col6\" >&nbsp;</th>\n",
       "      <th class=\"blank col7\" >&nbsp;</th>\n",
       "    </tr>\n",
       "  </thead>\n",
       "  <tbody>\n",
       "    <tr>\n",
       "      <th id=\"T_05751_level0_row0\" class=\"row_heading level0 row0\" >0</th>\n",
       "      <td id=\"T_05751_row0_col0\" class=\"data row0 col0\" >1</td>\n",
       "      <td id=\"T_05751_row0_col1\" class=\"data row0 col1\" >0</td>\n",
       "      <td id=\"T_05751_row0_col2\" class=\"data row0 col2\" >1</td>\n",
       "      <td id=\"T_05751_row0_col3\" class=\"data row0 col3\" >0</td>\n",
       "      <td id=\"T_05751_row0_col4\" class=\"data row0 col4\" >0</td>\n",
       "      <td id=\"T_05751_row0_col5\" class=\"data row0 col5\" >0</td>\n",
       "      <td id=\"T_05751_row0_col6\" class=\"data row0 col6\" >1</td>\n",
       "      <td id=\"T_05751_row0_col7\" class=\"data row0 col7\" >0</td>\n",
       "    </tr>\n",
       "    <tr>\n",
       "      <th id=\"T_05751_level0_row1\" class=\"row_heading level0 row1\" >1</th>\n",
       "      <td id=\"T_05751_row1_col0\" class=\"data row1 col0\" >0</td>\n",
       "      <td id=\"T_05751_row1_col1\" class=\"data row1 col1\" >1</td>\n",
       "      <td id=\"T_05751_row1_col2\" class=\"data row1 col2\" >1</td>\n",
       "      <td id=\"T_05751_row1_col3\" class=\"data row1 col3\" >0</td>\n",
       "      <td id=\"T_05751_row1_col4\" class=\"data row1 col4\" >0</td>\n",
       "      <td id=\"T_05751_row1_col5\" class=\"data row1 col5\" >0</td>\n",
       "      <td id=\"T_05751_row1_col6\" class=\"data row1 col6\" >1</td>\n",
       "      <td id=\"T_05751_row1_col7\" class=\"data row1 col7\" >0</td>\n",
       "    </tr>\n",
       "    <tr>\n",
       "      <th id=\"T_05751_level0_row2\" class=\"row_heading level0 row2\" >2</th>\n",
       "      <td id=\"T_05751_row2_col0\" class=\"data row2 col0\" >0</td>\n",
       "      <td id=\"T_05751_row2_col1\" class=\"data row2 col1\" >0</td>\n",
       "      <td id=\"T_05751_row2_col2\" class=\"data row2 col2\" >0</td>\n",
       "      <td id=\"T_05751_row2_col3\" class=\"data row2 col3\" >1</td>\n",
       "      <td id=\"T_05751_row2_col4\" class=\"data row2 col4\" >0</td>\n",
       "      <td id=\"T_05751_row2_col5\" class=\"data row2 col5\" >0</td>\n",
       "      <td id=\"T_05751_row2_col6\" class=\"data row2 col6\" >1</td>\n",
       "      <td id=\"T_05751_row2_col7\" class=\"data row2 col7\" >0</td>\n",
       "    </tr>\n",
       "    <tr>\n",
       "      <th id=\"T_05751_level0_row3\" class=\"row_heading level0 row3\" >3</th>\n",
       "      <td id=\"T_05751_row3_col0\" class=\"data row3 col0\" >1</td>\n",
       "      <td id=\"T_05751_row3_col1\" class=\"data row3 col1\" >0</td>\n",
       "      <td id=\"T_05751_row3_col2\" class=\"data row3 col2\" >0</td>\n",
       "      <td id=\"T_05751_row3_col3\" class=\"data row3 col3\" >0</td>\n",
       "      <td id=\"T_05751_row3_col4\" class=\"data row3 col4\" >1</td>\n",
       "      <td id=\"T_05751_row3_col5\" class=\"data row3 col5\" >0</td>\n",
       "      <td id=\"T_05751_row3_col6\" class=\"data row3 col6\" >0</td>\n",
       "      <td id=\"T_05751_row3_col7\" class=\"data row3 col7\" >1</td>\n",
       "    </tr>\n",
       "    <tr>\n",
       "      <th id=\"T_05751_level0_row4\" class=\"row_heading level0 row4\" >4</th>\n",
       "      <td id=\"T_05751_row4_col0\" class=\"data row4 col0\" >0</td>\n",
       "      <td id=\"T_05751_row4_col1\" class=\"data row4 col1\" >0</td>\n",
       "      <td id=\"T_05751_row4_col2\" class=\"data row4 col2\" >0</td>\n",
       "      <td id=\"T_05751_row4_col3\" class=\"data row4 col3\" >0</td>\n",
       "      <td id=\"T_05751_row4_col4\" class=\"data row4 col4\" >0</td>\n",
       "      <td id=\"T_05751_row4_col5\" class=\"data row4 col5\" >1</td>\n",
       "      <td id=\"T_05751_row4_col6\" class=\"data row4 col6\" >0</td>\n",
       "      <td id=\"T_05751_row4_col7\" class=\"data row4 col7\" >1</td>\n",
       "    </tr>\n",
       "  </tbody>\n",
       "</table>\n"
      ],
      "text/plain": [
       "<pandas.io.formats.style.Styler at 0x16c0a8a90>"
      ]
     },
     "execution_count": 15,
     "metadata": {},
     "output_type": "execute_result"
    }
   ],
   "source": [
    "from sklearn.feature_extraction.text import CountVectorizer\n",
    "\n",
    "vectorizer = CountVectorizer(ngram_range=(2,2))\n",
    "\n",
    "df = text2dataframe(sentences, vectorizer)\n",
    "\n",
    "df.style.background_gradient(\n",
    "    cmap='Greys', low=0, high=1, axis=None\n",
    ")  "
   ]
  },
  {
   "cell_type": "markdown",
   "id": "fe2f95c5",
   "metadata": {},
   "source": [
    "## Characters vs Words"
   ]
  },
  {
   "cell_type": "code",
   "execution_count": 45,
   "id": "350630a2",
   "metadata": {},
   "outputs": [
    {
     "data": {
      "text/html": [
       "<style type=\"text/css\">\n",
       "#T_03506_row0_col0, #T_03506_row0_col1, #T_03506_row1_col0, #T_03506_row1_col1, #T_03506_row2_col0, #T_03506_row3_col0, #T_03506_row3_col1, #T_03506_row4_col0, #T_03506_row4_col1 {\n",
       "  background-color: #cecece;\n",
       "  color: #000000;\n",
       "}\n",
       "#T_03506_row0_col2, #T_03506_row0_col3, #T_03506_row0_col5, #T_03506_row0_col6, #T_03506_row0_col10, #T_03506_row0_col12, #T_03506_row1_col2, #T_03506_row1_col3, #T_03506_row1_col6, #T_03506_row1_col8, #T_03506_row1_col11, #T_03506_row2_col3, #T_03506_row2_col5, #T_03506_row2_col6, #T_03506_row2_col8, #T_03506_row2_col10, #T_03506_row2_col11, #T_03506_row2_col12, #T_03506_row3_col2, #T_03506_row3_col5, #T_03506_row3_col10, #T_03506_row3_col12, #T_03506_row3_col13, #T_03506_row4_col2, #T_03506_row4_col5, #T_03506_row4_col8, #T_03506_row4_col9, #T_03506_row4_col10, #T_03506_row4_col13 {\n",
       "  background-color: #ffffff;\n",
       "  color: #000000;\n",
       "}\n",
       "#T_03506_row0_col4, #T_03506_row0_col11, #T_03506_row1_col4, #T_03506_row1_col9, #T_03506_row2_col9, #T_03506_row3_col11 {\n",
       "  background-color: #e2e2e2;\n",
       "  color: #000000;\n",
       "}\n",
       "#T_03506_row0_col7, #T_03506_row0_col8, #T_03506_row0_col9, #T_03506_row0_col13, #T_03506_row1_col5, #T_03506_row1_col7, #T_03506_row1_col10, #T_03506_row1_col12, #T_03506_row1_col13, #T_03506_row2_col2, #T_03506_row2_col4, #T_03506_row2_col7, #T_03506_row2_col13, #T_03506_row3_col3, #T_03506_row3_col4, #T_03506_row3_col6, #T_03506_row3_col7, #T_03506_row3_col8, #T_03506_row3_col9, #T_03506_row4_col3, #T_03506_row4_col4, #T_03506_row4_col6, #T_03506_row4_col7, #T_03506_row4_col11, #T_03506_row4_col12 {\n",
       "  background-color: #f3f3f3;\n",
       "  color: #000000;\n",
       "}\n",
       "#T_03506_row2_col1 {\n",
       "  background-color: #959595;\n",
       "  color: #f1f1f1;\n",
       "}\n",
       "</style>\n",
       "<table id=\"T_03506\">\n",
       "  <thead>\n",
       "    <tr>\n",
       "      <th class=\"blank level0\" >&nbsp;</th>\n",
       "      <th id=\"T_03506_level0_col0\" class=\"col_heading level0 col0\" > </th>\n",
       "      <th id=\"T_03506_level0_col1\" class=\"col_heading level0 col1\" >a</th>\n",
       "      <th id=\"T_03506_level0_col2\" class=\"col_heading level0 col2\" >b</th>\n",
       "      <th id=\"T_03506_level0_col3\" class=\"col_heading level0 col3\" >d</th>\n",
       "      <th id=\"T_03506_level0_col4\" class=\"col_heading level0 col4\" >e</th>\n",
       "      <th id=\"T_03506_level0_col5\" class=\"col_heading level0 col5\" >g</th>\n",
       "      <th id=\"T_03506_level0_col6\" class=\"col_heading level0 col6\" >h</th>\n",
       "      <th id=\"T_03506_level0_col7\" class=\"col_heading level0 col7\" >i</th>\n",
       "      <th id=\"T_03506_level0_col8\" class=\"col_heading level0 col8\" >l</th>\n",
       "      <th id=\"T_03506_level0_col9\" class=\"col_heading level0 col9\" >n</th>\n",
       "      <th id=\"T_03506_level0_col10\" class=\"col_heading level0 col10\" >o</th>\n",
       "      <th id=\"T_03506_level0_col11\" class=\"col_heading level0 col11\" >p</th>\n",
       "      <th id=\"T_03506_level0_col12\" class=\"col_heading level0 col12\" >r</th>\n",
       "      <th id=\"T_03506_level0_col13\" class=\"col_heading level0 col13\" >t</th>\n",
       "    </tr>\n",
       "    <tr>\n",
       "      <th class=\"index_name level0\" >document_id</th>\n",
       "      <th class=\"blank col0\" >&nbsp;</th>\n",
       "      <th class=\"blank col1\" >&nbsp;</th>\n",
       "      <th class=\"blank col2\" >&nbsp;</th>\n",
       "      <th class=\"blank col3\" >&nbsp;</th>\n",
       "      <th class=\"blank col4\" >&nbsp;</th>\n",
       "      <th class=\"blank col5\" >&nbsp;</th>\n",
       "      <th class=\"blank col6\" >&nbsp;</th>\n",
       "      <th class=\"blank col7\" >&nbsp;</th>\n",
       "      <th class=\"blank col8\" >&nbsp;</th>\n",
       "      <th class=\"blank col9\" >&nbsp;</th>\n",
       "      <th class=\"blank col10\" >&nbsp;</th>\n",
       "      <th class=\"blank col11\" >&nbsp;</th>\n",
       "      <th class=\"blank col12\" >&nbsp;</th>\n",
       "      <th class=\"blank col13\" >&nbsp;</th>\n",
       "    </tr>\n",
       "  </thead>\n",
       "  <tbody>\n",
       "    <tr>\n",
       "      <th id=\"T_03506_level0_row0\" class=\"row_heading level0 row0\" >0</th>\n",
       "      <td id=\"T_03506_row0_col0\" class=\"data row0 col0\" >3</td>\n",
       "      <td id=\"T_03506_row0_col1\" class=\"data row0 col1\" >3</td>\n",
       "      <td id=\"T_03506_row0_col2\" class=\"data row0 col2\" >0</td>\n",
       "      <td id=\"T_03506_row0_col3\" class=\"data row0 col3\" >0</td>\n",
       "      <td id=\"T_03506_row0_col4\" class=\"data row0 col4\" >2</td>\n",
       "      <td id=\"T_03506_row0_col5\" class=\"data row0 col5\" >0</td>\n",
       "      <td id=\"T_03506_row0_col6\" class=\"data row0 col6\" >0</td>\n",
       "      <td id=\"T_03506_row0_col7\" class=\"data row0 col7\" >1</td>\n",
       "      <td id=\"T_03506_row0_col8\" class=\"data row0 col8\" >1</td>\n",
       "      <td id=\"T_03506_row0_col9\" class=\"data row0 col9\" >1</td>\n",
       "      <td id=\"T_03506_row0_col10\" class=\"data row0 col10\" >0</td>\n",
       "      <td id=\"T_03506_row0_col11\" class=\"data row0 col11\" >2</td>\n",
       "      <td id=\"T_03506_row0_col12\" class=\"data row0 col12\" >0</td>\n",
       "      <td id=\"T_03506_row0_col13\" class=\"data row0 col13\" >1</td>\n",
       "    </tr>\n",
       "    <tr>\n",
       "      <th id=\"T_03506_level0_row1\" class=\"row_heading level0 row1\" >1</th>\n",
       "      <td id=\"T_03506_row1_col0\" class=\"data row1 col0\" >3</td>\n",
       "      <td id=\"T_03506_row1_col1\" class=\"data row1 col1\" >3</td>\n",
       "      <td id=\"T_03506_row1_col2\" class=\"data row1 col2\" >0</td>\n",
       "      <td id=\"T_03506_row1_col3\" class=\"data row1 col3\" >0</td>\n",
       "      <td id=\"T_03506_row1_col4\" class=\"data row1 col4\" >2</td>\n",
       "      <td id=\"T_03506_row1_col5\" class=\"data row1 col5\" >1</td>\n",
       "      <td id=\"T_03506_row1_col6\" class=\"data row1 col6\" >0</td>\n",
       "      <td id=\"T_03506_row1_col7\" class=\"data row1 col7\" >1</td>\n",
       "      <td id=\"T_03506_row1_col8\" class=\"data row1 col8\" >0</td>\n",
       "      <td id=\"T_03506_row1_col9\" class=\"data row1 col9\" >2</td>\n",
       "      <td id=\"T_03506_row1_col10\" class=\"data row1 col10\" >1</td>\n",
       "      <td id=\"T_03506_row1_col11\" class=\"data row1 col11\" >0</td>\n",
       "      <td id=\"T_03506_row1_col12\" class=\"data row1 col12\" >1</td>\n",
       "      <td id=\"T_03506_row1_col13\" class=\"data row1 col13\" >1</td>\n",
       "    </tr>\n",
       "    <tr>\n",
       "      <th id=\"T_03506_level0_row2\" class=\"row_heading level0 row2\" >2</th>\n",
       "      <td id=\"T_03506_row2_col0\" class=\"data row2 col0\" >3</td>\n",
       "      <td id=\"T_03506_row2_col1\" class=\"data row2 col1\" >5</td>\n",
       "      <td id=\"T_03506_row2_col2\" class=\"data row2 col2\" >1</td>\n",
       "      <td id=\"T_03506_row2_col3\" class=\"data row2 col3\" >0</td>\n",
       "      <td id=\"T_03506_row2_col4\" class=\"data row2 col4\" >1</td>\n",
       "      <td id=\"T_03506_row2_col5\" class=\"data row2 col5\" >0</td>\n",
       "      <td id=\"T_03506_row2_col6\" class=\"data row2 col6\" >0</td>\n",
       "      <td id=\"T_03506_row2_col7\" class=\"data row2 col7\" >1</td>\n",
       "      <td id=\"T_03506_row2_col8\" class=\"data row2 col8\" >0</td>\n",
       "      <td id=\"T_03506_row2_col9\" class=\"data row2 col9\" >2</td>\n",
       "      <td id=\"T_03506_row2_col10\" class=\"data row2 col10\" >0</td>\n",
       "      <td id=\"T_03506_row2_col11\" class=\"data row2 col11\" >0</td>\n",
       "      <td id=\"T_03506_row2_col12\" class=\"data row2 col12\" >0</td>\n",
       "      <td id=\"T_03506_row2_col13\" class=\"data row2 col13\" >1</td>\n",
       "    </tr>\n",
       "    <tr>\n",
       "      <th id=\"T_03506_level0_row3\" class=\"row_heading level0 row3\" >3</th>\n",
       "      <td id=\"T_03506_row3_col0\" class=\"data row3 col0\" >3</td>\n",
       "      <td id=\"T_03506_row3_col1\" class=\"data row3 col1\" >3</td>\n",
       "      <td id=\"T_03506_row3_col2\" class=\"data row3 col2\" >0</td>\n",
       "      <td id=\"T_03506_row3_col3\" class=\"data row3 col3\" >1</td>\n",
       "      <td id=\"T_03506_row3_col4\" class=\"data row3 col4\" >1</td>\n",
       "      <td id=\"T_03506_row3_col5\" class=\"data row3 col5\" >0</td>\n",
       "      <td id=\"T_03506_row3_col6\" class=\"data row3 col6\" >1</td>\n",
       "      <td id=\"T_03506_row3_col7\" class=\"data row3 col7\" >1</td>\n",
       "      <td id=\"T_03506_row3_col8\" class=\"data row3 col8\" >1</td>\n",
       "      <td id=\"T_03506_row3_col9\" class=\"data row3 col9\" >1</td>\n",
       "      <td id=\"T_03506_row3_col10\" class=\"data row3 col10\" >0</td>\n",
       "      <td id=\"T_03506_row3_col11\" class=\"data row3 col11\" >2</td>\n",
       "      <td id=\"T_03506_row3_col12\" class=\"data row3 col12\" >0</td>\n",
       "      <td id=\"T_03506_row3_col13\" class=\"data row3 col13\" >0</td>\n",
       "    </tr>\n",
       "    <tr>\n",
       "      <th id=\"T_03506_level0_row4\" class=\"row_heading level0 row4\" >4</th>\n",
       "      <td id=\"T_03506_row4_col0\" class=\"data row4 col0\" >3</td>\n",
       "      <td id=\"T_03506_row4_col1\" class=\"data row4 col1\" >3</td>\n",
       "      <td id=\"T_03506_row4_col2\" class=\"data row4 col2\" >0</td>\n",
       "      <td id=\"T_03506_row4_col3\" class=\"data row4 col3\" >1</td>\n",
       "      <td id=\"T_03506_row4_col4\" class=\"data row4 col4\" >1</td>\n",
       "      <td id=\"T_03506_row4_col5\" class=\"data row4 col5\" >0</td>\n",
       "      <td id=\"T_03506_row4_col6\" class=\"data row4 col6\" >1</td>\n",
       "      <td id=\"T_03506_row4_col7\" class=\"data row4 col7\" >1</td>\n",
       "      <td id=\"T_03506_row4_col8\" class=\"data row4 col8\" >0</td>\n",
       "      <td id=\"T_03506_row4_col9\" class=\"data row4 col9\" >0</td>\n",
       "      <td id=\"T_03506_row4_col10\" class=\"data row4 col10\" >0</td>\n",
       "      <td id=\"T_03506_row4_col11\" class=\"data row4 col11\" >1</td>\n",
       "      <td id=\"T_03506_row4_col12\" class=\"data row4 col12\" >1</td>\n",
       "      <td id=\"T_03506_row4_col13\" class=\"data row4 col13\" >0</td>\n",
       "    </tr>\n",
       "  </tbody>\n",
       "</table>\n"
      ],
      "text/plain": [
       "<pandas.io.formats.style.Styler at 0x16c0f0f40>"
      ]
     },
     "execution_count": 45,
     "metadata": {},
     "output_type": "execute_result"
    }
   ],
   "source": [
    "from sklearn.feature_extraction.text import CountVectorizer\n",
    "\n",
    "vectorizer = CountVectorizer(analyzer='char', ngram_range=(1,1))\n",
    "\n",
    "df = text2dataframe(sentences, vectorizer)\n",
    "\n",
    "df.style.background_gradient(\n",
    "    cmap='Greys', low=0, high=1, axis=None\n",
    ")  "
   ]
  },
  {
   "cell_type": "markdown",
   "id": "b61c4da1",
   "metadata": {},
   "source": [
    "## TF-IDF\n",
    "\n",
    "**TF** means `term-frequency` while **IDF** means `inverse document-frequency`"
   ]
  },
  {
   "cell_type": "code",
   "execution_count": 46,
   "id": "82985159",
   "metadata": {},
   "outputs": [
    {
     "data": {
      "text/html": [
       "<style type=\"text/css\">\n",
       "#T_f8c5e_row0_col0, #T_f8c5e_row0_col2 {\n",
       "  background-color: #c9c9c9;\n",
       "  color: #000000;\n",
       "}\n",
       "#T_f8c5e_row0_col1 {\n",
       "  background-color: #b9b9b9;\n",
       "  color: #000000;\n",
       "}\n",
       "#T_f8c5e_row0_col3, #T_f8c5e_row0_col4, #T_f8c5e_row0_col5, #T_f8c5e_row0_col6, #T_f8c5e_row1_col1, #T_f8c5e_row1_col3, #T_f8c5e_row1_col4, #T_f8c5e_row1_col6, #T_f8c5e_row2_col0, #T_f8c5e_row2_col1, #T_f8c5e_row2_col4, #T_f8c5e_row2_col5, #T_f8c5e_row2_col6, #T_f8c5e_row3_col2, #T_f8c5e_row3_col3, #T_f8c5e_row3_col5, #T_f8c5e_row3_col6, #T_f8c5e_row4_col0, #T_f8c5e_row4_col1, #T_f8c5e_row4_col2, #T_f8c5e_row4_col3, #T_f8c5e_row4_col5 {\n",
       "  background-color: #ffffff;\n",
       "  color: #000000;\n",
       "}\n",
       "#T_f8c5e_row1_col0, #T_f8c5e_row1_col2 {\n",
       "  background-color: #d0d0d0;\n",
       "  color: #000000;\n",
       "}\n",
       "#T_f8c5e_row1_col5 {\n",
       "  background-color: #aaaaaa;\n",
       "  color: #f1f1f1;\n",
       "}\n",
       "#T_f8c5e_row2_col2 {\n",
       "  background-color: #c6c6c6;\n",
       "  color: #000000;\n",
       "}\n",
       "#T_f8c5e_row2_col3 {\n",
       "  background-color: #959595;\n",
       "  color: #f1f1f1;\n",
       "}\n",
       "#T_f8c5e_row3_col0 {\n",
       "  background-color: #cdcdcd;\n",
       "  color: #000000;\n",
       "}\n",
       "#T_f8c5e_row3_col1, #T_f8c5e_row3_col4 {\n",
       "  background-color: #bfbfbf;\n",
       "  color: #000000;\n",
       "}\n",
       "#T_f8c5e_row4_col4 {\n",
       "  background-color: #bdbdbd;\n",
       "  color: #000000;\n",
       "}\n",
       "#T_f8c5e_row4_col6 {\n",
       "  background-color: #a0a0a0;\n",
       "  color: #f1f1f1;\n",
       "}\n",
       "</style>\n",
       "<table id=\"T_f8c5e\">\n",
       "  <thead>\n",
       "    <tr>\n",
       "      <th class=\"blank level0\" >&nbsp;</th>\n",
       "      <th id=\"T_f8c5e_level0_col0\" class=\"col_heading level0 col0\" >an</th>\n",
       "      <th id=\"T_f8c5e_level0_col1\" class=\"col_heading level0 col1\" >apple</th>\n",
       "      <th id=\"T_f8c5e_level0_col2\" class=\"col_heading level0 col2\" >ate</th>\n",
       "      <th id=\"T_f8c5e_level0_col3\" class=\"col_heading level0 col3\" >banana</th>\n",
       "      <th id=\"T_f8c5e_level0_col4\" class=\"col_heading level0 col4\" >had</th>\n",
       "      <th id=\"T_f8c5e_level0_col5\" class=\"col_heading level0 col5\" >orange</th>\n",
       "      <th id=\"T_f8c5e_level0_col6\" class=\"col_heading level0 col6\" >pear</th>\n",
       "    </tr>\n",
       "    <tr>\n",
       "      <th class=\"index_name level0\" >document_id</th>\n",
       "      <th class=\"blank col0\" >&nbsp;</th>\n",
       "      <th class=\"blank col1\" >&nbsp;</th>\n",
       "      <th class=\"blank col2\" >&nbsp;</th>\n",
       "      <th class=\"blank col3\" >&nbsp;</th>\n",
       "      <th class=\"blank col4\" >&nbsp;</th>\n",
       "      <th class=\"blank col5\" >&nbsp;</th>\n",
       "      <th class=\"blank col6\" >&nbsp;</th>\n",
       "    </tr>\n",
       "  </thead>\n",
       "  <tbody>\n",
       "    <tr>\n",
       "      <th id=\"T_f8c5e_level0_row0\" class=\"row_heading level0 row0\" >0</th>\n",
       "      <td id=\"T_f8c5e_row0_col0\" class=\"data row0 col0\" >0.538283</td>\n",
       "      <td id=\"T_f8c5e_row0_col1\" class=\"data row0 col1\" >0.648463</td>\n",
       "      <td id=\"T_f8c5e_row0_col2\" class=\"data row0 col2\" >0.538283</td>\n",
       "      <td id=\"T_f8c5e_row0_col3\" class=\"data row0 col3\" >0.000000</td>\n",
       "      <td id=\"T_f8c5e_row0_col4\" class=\"data row0 col4\" >0.000000</td>\n",
       "      <td id=\"T_f8c5e_row0_col5\" class=\"data row0 col5\" >0.000000</td>\n",
       "      <td id=\"T_f8c5e_row0_col6\" class=\"data row0 col6\" >0.000000</td>\n",
       "    </tr>\n",
       "    <tr>\n",
       "      <th id=\"T_f8c5e_level0_row1\" class=\"row_heading level0 row1\" >1</th>\n",
       "      <td id=\"T_f8c5e_row1_col0\" class=\"data row1 col0\" >0.486240</td>\n",
       "      <td id=\"T_f8c5e_row1_col1\" class=\"data row1 col1\" >0.000000</td>\n",
       "      <td id=\"T_f8c5e_row1_col2\" class=\"data row1 col2\" >0.486240</td>\n",
       "      <td id=\"T_f8c5e_row1_col3\" class=\"data row1 col3\" >0.000000</td>\n",
       "      <td id=\"T_f8c5e_row1_col4\" class=\"data row1 col4\" >0.000000</td>\n",
       "      <td id=\"T_f8c5e_row1_col5\" class=\"data row1 col5\" >0.726044</td>\n",
       "      <td id=\"T_f8c5e_row1_col6\" class=\"data row1 col6\" >0.000000</td>\n",
       "    </tr>\n",
       "    <tr>\n",
       "      <th id=\"T_f8c5e_level0_row2\" class=\"row_heading level0 row2\" >2</th>\n",
       "      <td id=\"T_f8c5e_row2_col0\" class=\"data row2 col0\" >0.000000</td>\n",
       "      <td id=\"T_f8c5e_row2_col1\" class=\"data row2 col1\" >0.000000</td>\n",
       "      <td id=\"T_f8c5e_row2_col2\" class=\"data row2 col2\" >0.556451</td>\n",
       "      <td id=\"T_f8c5e_row2_col3\" class=\"data row2 col3\" >0.830881</td>\n",
       "      <td id=\"T_f8c5e_row2_col4\" class=\"data row2 col4\" >0.000000</td>\n",
       "      <td id=\"T_f8c5e_row2_col5\" class=\"data row2 col5\" >0.000000</td>\n",
       "      <td id=\"T_f8c5e_row2_col6\" class=\"data row2 col6\" >0.000000</td>\n",
       "    </tr>\n",
       "    <tr>\n",
       "      <th id=\"T_f8c5e_level0_row3\" class=\"row_heading level0 row3\" >3</th>\n",
       "      <td id=\"T_f8c5e_row3_col0\" class=\"data row3 col0\" >0.506204</td>\n",
       "      <td id=\"T_f8c5e_row3_col1\" class=\"data row3 col1\" >0.609818</td>\n",
       "      <td id=\"T_f8c5e_row3_col2\" class=\"data row3 col2\" >0.000000</td>\n",
       "      <td id=\"T_f8c5e_row3_col3\" class=\"data row3 col3\" >0.000000</td>\n",
       "      <td id=\"T_f8c5e_row3_col4\" class=\"data row3 col4\" >0.609818</td>\n",
       "      <td id=\"T_f8c5e_row3_col5\" class=\"data row3 col5\" >0.000000</td>\n",
       "      <td id=\"T_f8c5e_row3_col6\" class=\"data row3 col6\" >0.000000</td>\n",
       "    </tr>\n",
       "    <tr>\n",
       "      <th id=\"T_f8c5e_level0_row4\" class=\"row_heading level0 row4\" >4</th>\n",
       "      <td id=\"T_f8c5e_row4_col0\" class=\"data row4 col0\" >0.000000</td>\n",
       "      <td id=\"T_f8c5e_row4_col1\" class=\"data row4 col1\" >0.000000</td>\n",
       "      <td id=\"T_f8c5e_row4_col2\" class=\"data row4 col2\" >0.000000</td>\n",
       "      <td id=\"T_f8c5e_row4_col3\" class=\"data row4 col3\" >0.000000</td>\n",
       "      <td id=\"T_f8c5e_row4_col4\" class=\"data row4 col4\" >0.627914</td>\n",
       "      <td id=\"T_f8c5e_row4_col5\" class=\"data row4 col5\" >0.000000</td>\n",
       "      <td id=\"T_f8c5e_row4_col6\" class=\"data row4 col6\" >0.778283</td>\n",
       "    </tr>\n",
       "  </tbody>\n",
       "</table>\n"
      ],
      "text/plain": [
       "<pandas.io.formats.style.Styler at 0x16c1016d0>"
      ]
     },
     "execution_count": 46,
     "metadata": {},
     "output_type": "execute_result"
    }
   ],
   "source": [
    "from sklearn.feature_extraction.text import TfidfVectorizer\n",
    "\n",
    "vectorizer = TfidfVectorizer()\n",
    "\n",
    "df = text2dataframe(sentences, vectorizer)\n",
    "\n",
    "df.style.background_gradient(\n",
    "    cmap='Greys', low=0, high=1, axis=None\n",
    ")  "
   ]
  },
  {
   "cell_type": "code",
   "execution_count": 47,
   "id": "b6e0b6da",
   "metadata": {},
   "outputs": [
    {
     "data": {
      "text/html": [
       "<style type=\"text/css\">\n",
       "#T_379ff_row0_col0, #T_379ff_row1_col1, #T_379ff_row2_col2, #T_379ff_row3_col3 {\n",
       "  background-color: #79c679;\n",
       "  color: #000000;\n",
       "}\n",
       "#T_379ff_row0_col1, #T_379ff_row1_col0 {\n",
       "  background-color: #d5eea1;\n",
       "  color: #000000;\n",
       "}\n",
       "#T_379ff_row0_col2, #T_379ff_row2_col0 {\n",
       "  background-color: #f1fab5;\n",
       "  color: #000000;\n",
       "}\n",
       "#T_379ff_row0_col3, #T_379ff_row3_col0 {\n",
       "  background-color: #bce395;\n",
       "  color: #000000;\n",
       "}\n",
       "#T_379ff_row0_col4, #T_379ff_row1_col4, #T_379ff_row2_col3, #T_379ff_row2_col4, #T_379ff_row3_col2, #T_379ff_row4_col0, #T_379ff_row4_col1, #T_379ff_row4_col2 {\n",
       "  background-color: #ffffe5;\n",
       "  color: #000000;\n",
       "}\n",
       "#T_379ff_row1_col2, #T_379ff_row2_col1 {\n",
       "  background-color: #f5fbb8;\n",
       "  color: #000000;\n",
       "}\n",
       "#T_379ff_row1_col3, #T_379ff_row3_col1 {\n",
       "  background-color: #f7fcba;\n",
       "  color: #000000;\n",
       "}\n",
       "#T_379ff_row3_col4, #T_379ff_row4_col3 {\n",
       "  background-color: #e7f6ad;\n",
       "  color: #000000;\n",
       "}\n",
       "#T_379ff_row4_col4 {\n",
       "  background-color: #77c679;\n",
       "  color: #000000;\n",
       "}\n",
       "</style>\n",
       "<table id=\"T_379ff\">\n",
       "  <thead>\n",
       "    <tr>\n",
       "      <th class=\"blank level0\" >&nbsp;</th>\n",
       "      <th id=\"T_379ff_level0_col0\" class=\"col_heading level0 col0\" >I ate an apple</th>\n",
       "      <th id=\"T_379ff_level0_col1\" class=\"col_heading level0 col1\" >I ate an orange</th>\n",
       "      <th id=\"T_379ff_level0_col2\" class=\"col_heading level0 col2\" >I ate a banana</th>\n",
       "      <th id=\"T_379ff_level0_col3\" class=\"col_heading level0 col3\" >I had an apple</th>\n",
       "      <th id=\"T_379ff_level0_col4\" class=\"col_heading level0 col4\" >I had a pear</th>\n",
       "    </tr>\n",
       "  </thead>\n",
       "  <tbody>\n",
       "    <tr>\n",
       "      <th id=\"T_379ff_level0_row0\" class=\"row_heading level0 row0\" >I ate an apple</th>\n",
       "      <td id=\"T_379ff_row0_col0\" class=\"data row0 col0\" >1.000000</td>\n",
       "      <td id=\"T_379ff_row0_col1\" class=\"data row0 col1\" >0.523469</td>\n",
       "      <td id=\"T_379ff_row0_col2\" class=\"data row0 col2\" >0.299528</td>\n",
       "      <td id=\"T_379ff_row0_col3\" class=\"data row0 col3\" >0.667925</td>\n",
       "      <td id=\"T_379ff_row0_col4\" class=\"data row0 col4\" >0.000000</td>\n",
       "    </tr>\n",
       "    <tr>\n",
       "      <th id=\"T_379ff_level0_row1\" class=\"row_heading level0 row1\" >I ate an orange</th>\n",
       "      <td id=\"T_379ff_row1_col0\" class=\"data row1 col0\" >0.523469</td>\n",
       "      <td id=\"T_379ff_row1_col1\" class=\"data row1 col1\" >1.000000</td>\n",
       "      <td id=\"T_379ff_row1_col2\" class=\"data row1 col2\" >0.270569</td>\n",
       "      <td id=\"T_379ff_row1_col3\" class=\"data row1 col3\" >0.246137</td>\n",
       "      <td id=\"T_379ff_row1_col4\" class=\"data row1 col4\" >0.000000</td>\n",
       "    </tr>\n",
       "    <tr>\n",
       "      <th id=\"T_379ff_level0_row2\" class=\"row_heading level0 row2\" >I ate a banana</th>\n",
       "      <td id=\"T_379ff_row2_col0\" class=\"data row2 col0\" >0.299528</td>\n",
       "      <td id=\"T_379ff_row2_col1\" class=\"data row2 col1\" >0.270569</td>\n",
       "      <td id=\"T_379ff_row2_col2\" class=\"data row2 col2\" >1.000000</td>\n",
       "      <td id=\"T_379ff_row2_col3\" class=\"data row2 col3\" >0.000000</td>\n",
       "      <td id=\"T_379ff_row2_col4\" class=\"data row2 col4\" >0.000000</td>\n",
       "    </tr>\n",
       "    <tr>\n",
       "      <th id=\"T_379ff_level0_row3\" class=\"row_heading level0 row3\" >I had an apple</th>\n",
       "      <td id=\"T_379ff_row3_col0\" class=\"data row3 col0\" >0.667925</td>\n",
       "      <td id=\"T_379ff_row3_col1\" class=\"data row3 col1\" >0.246137</td>\n",
       "      <td id=\"T_379ff_row3_col2\" class=\"data row3 col2\" >0.000000</td>\n",
       "      <td id=\"T_379ff_row3_col3\" class=\"data row3 col3\" >1.000000</td>\n",
       "      <td id=\"T_379ff_row3_col4\" class=\"data row3 col4\" >0.382913</td>\n",
       "    </tr>\n",
       "    <tr>\n",
       "      <th id=\"T_379ff_level0_row4\" class=\"row_heading level0 row4\" >I had a pear</th>\n",
       "      <td id=\"T_379ff_row4_col0\" class=\"data row4 col0\" >0.000000</td>\n",
       "      <td id=\"T_379ff_row4_col1\" class=\"data row4 col1\" >0.000000</td>\n",
       "      <td id=\"T_379ff_row4_col2\" class=\"data row4 col2\" >0.000000</td>\n",
       "      <td id=\"T_379ff_row4_col3\" class=\"data row4 col3\" >0.382913</td>\n",
       "      <td id=\"T_379ff_row4_col4\" class=\"data row4 col4\" >1.000000</td>\n",
       "    </tr>\n",
       "  </tbody>\n",
       "</table>\n"
      ],
      "text/plain": [
       "<pandas.io.formats.style.Styler at 0x16c1b9760>"
      ]
     },
     "execution_count": 47,
     "metadata": {},
     "output_type": "execute_result"
    }
   ],
   "source": [
    "from sklearn.metrics.pairwise import cosine_similarity\n",
    "\n",
    "pd.DataFrame(\n",
    "    cosine_similarity(df, df),\n",
    "    index=sentences,\n",
    "    columns=sentences,\n",
    ").style.background_gradient(\n",
    "    cmap='YlGn', low=0, high=1, axis=None\n",
    ")  "
   ]
  },
  {
   "cell_type": "code",
   "execution_count": 48,
   "id": "eb47b1e1",
   "metadata": {},
   "outputs": [
    {
     "data": {
      "text/html": [
       "<style type=\"text/css\">\n",
       "#T_f27fd_row0_col0 {\n",
       "  background-color: #bababa;\n",
       "  color: #000000;\n",
       "}\n",
       "#T_f27fd_row0_col1 {\n",
       "  background-color: #cacaca;\n",
       "  color: #000000;\n",
       "}\n",
       "#T_f27fd_row0_col2, #T_f27fd_row0_col3, #T_f27fd_row0_col4, #T_f27fd_row1_col0, #T_f27fd_row1_col2, #T_f27fd_row1_col4, #T_f27fd_row2_col0, #T_f27fd_row2_col3, #T_f27fd_row2_col4, #T_f27fd_row3_col1, #T_f27fd_row3_col2, #T_f27fd_row3_col3, #T_f27fd_row3_col4, #T_f27fd_row4_col0, #T_f27fd_row4_col1, #T_f27fd_row4_col2, #T_f27fd_row4_col3 {\n",
       "  background-color: #ffffff;\n",
       "  color: #000000;\n",
       "}\n",
       "#T_f27fd_row1_col1, #T_f27fd_row2_col1 {\n",
       "  background-color: #d3d3d3;\n",
       "  color: #000000;\n",
       "}\n",
       "#T_f27fd_row1_col3, #T_f27fd_row2_col2 {\n",
       "  background-color: #b0b0b0;\n",
       "  color: #000000;\n",
       "}\n",
       "#T_f27fd_row3_col0, #T_f27fd_row4_col4 {\n",
       "  background-color: #959595;\n",
       "  color: #f1f1f1;\n",
       "}\n",
       "</style>\n",
       "<table id=\"T_f27fd\">\n",
       "  <thead>\n",
       "    <tr>\n",
       "      <th class=\"blank level0\" >&nbsp;</th>\n",
       "      <th id=\"T_f27fd_level0_col0\" class=\"col_heading level0 col0\" >apple</th>\n",
       "      <th id=\"T_f27fd_level0_col1\" class=\"col_heading level0 col1\" >ate</th>\n",
       "      <th id=\"T_f27fd_level0_col2\" class=\"col_heading level0 col2\" >banana</th>\n",
       "      <th id=\"T_f27fd_level0_col3\" class=\"col_heading level0 col3\" >orange</th>\n",
       "      <th id=\"T_f27fd_level0_col4\" class=\"col_heading level0 col4\" >pear</th>\n",
       "    </tr>\n",
       "    <tr>\n",
       "      <th class=\"index_name level0\" >document_id</th>\n",
       "      <th class=\"blank col0\" >&nbsp;</th>\n",
       "      <th class=\"blank col1\" >&nbsp;</th>\n",
       "      <th class=\"blank col2\" >&nbsp;</th>\n",
       "      <th class=\"blank col3\" >&nbsp;</th>\n",
       "      <th class=\"blank col4\" >&nbsp;</th>\n",
       "    </tr>\n",
       "  </thead>\n",
       "  <tbody>\n",
       "    <tr>\n",
       "      <th id=\"T_f27fd_level0_row0\" class=\"row_heading level0 row0\" >0</th>\n",
       "      <td id=\"T_f27fd_row0_col0\" class=\"data row0 col0\" >0.769447</td>\n",
       "      <td id=\"T_f27fd_row0_col1\" class=\"data row0 col1\" >0.638711</td>\n",
       "      <td id=\"T_f27fd_row0_col2\" class=\"data row0 col2\" >0.000000</td>\n",
       "      <td id=\"T_f27fd_row0_col3\" class=\"data row0 col3\" >0.000000</td>\n",
       "      <td id=\"T_f27fd_row0_col4\" class=\"data row0 col4\" >0.000000</td>\n",
       "    </tr>\n",
       "    <tr>\n",
       "      <th id=\"T_f27fd_level0_row1\" class=\"row_heading level0 row1\" >1</th>\n",
       "      <td id=\"T_f27fd_row1_col0\" class=\"data row1 col0\" >0.000000</td>\n",
       "      <td id=\"T_f27fd_row1_col1\" class=\"data row1 col1\" >0.556451</td>\n",
       "      <td id=\"T_f27fd_row1_col2\" class=\"data row1 col2\" >0.000000</td>\n",
       "      <td id=\"T_f27fd_row1_col3\" class=\"data row1 col3\" >0.830881</td>\n",
       "      <td id=\"T_f27fd_row1_col4\" class=\"data row1 col4\" >0.000000</td>\n",
       "    </tr>\n",
       "    <tr>\n",
       "      <th id=\"T_f27fd_level0_row2\" class=\"row_heading level0 row2\" >2</th>\n",
       "      <td id=\"T_f27fd_row2_col0\" class=\"data row2 col0\" >0.000000</td>\n",
       "      <td id=\"T_f27fd_row2_col1\" class=\"data row2 col1\" >0.556451</td>\n",
       "      <td id=\"T_f27fd_row2_col2\" class=\"data row2 col2\" >0.830881</td>\n",
       "      <td id=\"T_f27fd_row2_col3\" class=\"data row2 col3\" >0.000000</td>\n",
       "      <td id=\"T_f27fd_row2_col4\" class=\"data row2 col4\" >0.000000</td>\n",
       "    </tr>\n",
       "    <tr>\n",
       "      <th id=\"T_f27fd_level0_row3\" class=\"row_heading level0 row3\" >3</th>\n",
       "      <td id=\"T_f27fd_row3_col0\" class=\"data row3 col0\" >1.000000</td>\n",
       "      <td id=\"T_f27fd_row3_col1\" class=\"data row3 col1\" >0.000000</td>\n",
       "      <td id=\"T_f27fd_row3_col2\" class=\"data row3 col2\" >0.000000</td>\n",
       "      <td id=\"T_f27fd_row3_col3\" class=\"data row3 col3\" >0.000000</td>\n",
       "      <td id=\"T_f27fd_row3_col4\" class=\"data row3 col4\" >0.000000</td>\n",
       "    </tr>\n",
       "    <tr>\n",
       "      <th id=\"T_f27fd_level0_row4\" class=\"row_heading level0 row4\" >4</th>\n",
       "      <td id=\"T_f27fd_row4_col0\" class=\"data row4 col0\" >0.000000</td>\n",
       "      <td id=\"T_f27fd_row4_col1\" class=\"data row4 col1\" >0.000000</td>\n",
       "      <td id=\"T_f27fd_row4_col2\" class=\"data row4 col2\" >0.000000</td>\n",
       "      <td id=\"T_f27fd_row4_col3\" class=\"data row4 col3\" >0.000000</td>\n",
       "      <td id=\"T_f27fd_row4_col4\" class=\"data row4 col4\" >1.000000</td>\n",
       "    </tr>\n",
       "  </tbody>\n",
       "</table>\n"
      ],
      "text/plain": [
       "<pandas.io.formats.style.Styler at 0x16c0a83d0>"
      ]
     },
     "execution_count": 48,
     "metadata": {},
     "output_type": "execute_result"
    }
   ],
   "source": [
    "from sklearn.feature_extraction.text import TfidfVectorizer\n",
    "\n",
    "vectorizer = TfidfVectorizer(stop_words='english')\n",
    "\n",
    "df = text2dataframe(sentences, vectorizer)\n",
    "\n",
    "df.style.background_gradient(\n",
    "    cmap='Greys', low=0, high=1, axis=None\n",
    ")  "
   ]
  },
  {
   "cell_type": "code",
   "execution_count": 49,
   "id": "b4af25dd",
   "metadata": {},
   "outputs": [
    {
     "data": {
      "text/html": [
       "<style type=\"text/css\">\n",
       "#T_35cc9_row0_col0, #T_35cc9_row1_col1, #T_35cc9_row2_col2, #T_35cc9_row3_col3, #T_35cc9_row4_col4 {\n",
       "  background-color: #77c679;\n",
       "  color: #000000;\n",
       "}\n",
       "#T_35cc9_row0_col1, #T_35cc9_row0_col2, #T_35cc9_row1_col0, #T_35cc9_row2_col0 {\n",
       "  background-color: #ebf7b0;\n",
       "  color: #000000;\n",
       "}\n",
       "#T_35cc9_row0_col3, #T_35cc9_row3_col0 {\n",
       "  background-color: #a9db8c;\n",
       "  color: #000000;\n",
       "}\n",
       "#T_35cc9_row0_col4, #T_35cc9_row1_col3, #T_35cc9_row1_col4, #T_35cc9_row2_col3, #T_35cc9_row2_col4, #T_35cc9_row3_col1, #T_35cc9_row3_col2, #T_35cc9_row3_col4, #T_35cc9_row4_col0, #T_35cc9_row4_col1, #T_35cc9_row4_col2, #T_35cc9_row4_col3 {\n",
       "  background-color: #ffffe5;\n",
       "  color: #000000;\n",
       "}\n",
       "#T_35cc9_row1_col2, #T_35cc9_row2_col1 {\n",
       "  background-color: #f0f9b4;\n",
       "  color: #000000;\n",
       "}\n",
       "</style>\n",
       "<table id=\"T_35cc9\">\n",
       "  <thead>\n",
       "    <tr>\n",
       "      <th class=\"blank level0\" >&nbsp;</th>\n",
       "      <th id=\"T_35cc9_level0_col0\" class=\"col_heading level0 col0\" >I ate an apple</th>\n",
       "      <th id=\"T_35cc9_level0_col1\" class=\"col_heading level0 col1\" >I ate an orange</th>\n",
       "      <th id=\"T_35cc9_level0_col2\" class=\"col_heading level0 col2\" >I ate a banana</th>\n",
       "      <th id=\"T_35cc9_level0_col3\" class=\"col_heading level0 col3\" >I had an apple</th>\n",
       "      <th id=\"T_35cc9_level0_col4\" class=\"col_heading level0 col4\" >I had a pear</th>\n",
       "    </tr>\n",
       "  </thead>\n",
       "  <tbody>\n",
       "    <tr>\n",
       "      <th id=\"T_35cc9_level0_row0\" class=\"row_heading level0 row0\" >I ate an apple</th>\n",
       "      <td id=\"T_35cc9_row0_col0\" class=\"data row0 col0\" >1.000000</td>\n",
       "      <td id=\"T_35cc9_row0_col1\" class=\"data row0 col1\" >0.355411</td>\n",
       "      <td id=\"T_35cc9_row0_col2\" class=\"data row0 col2\" >0.355411</td>\n",
       "      <td id=\"T_35cc9_row0_col3\" class=\"data row0 col3\" >0.769447</td>\n",
       "      <td id=\"T_35cc9_row0_col4\" class=\"data row0 col4\" >0.000000</td>\n",
       "    </tr>\n",
       "    <tr>\n",
       "      <th id=\"T_35cc9_level0_row1\" class=\"row_heading level0 row1\" >I ate an orange</th>\n",
       "      <td id=\"T_35cc9_row1_col0\" class=\"data row1 col0\" >0.355411</td>\n",
       "      <td id=\"T_35cc9_row1_col1\" class=\"data row1 col1\" >1.000000</td>\n",
       "      <td id=\"T_35cc9_row1_col2\" class=\"data row1 col2\" >0.309637</td>\n",
       "      <td id=\"T_35cc9_row1_col3\" class=\"data row1 col3\" >0.000000</td>\n",
       "      <td id=\"T_35cc9_row1_col4\" class=\"data row1 col4\" >0.000000</td>\n",
       "    </tr>\n",
       "    <tr>\n",
       "      <th id=\"T_35cc9_level0_row2\" class=\"row_heading level0 row2\" >I ate a banana</th>\n",
       "      <td id=\"T_35cc9_row2_col0\" class=\"data row2 col0\" >0.355411</td>\n",
       "      <td id=\"T_35cc9_row2_col1\" class=\"data row2 col1\" >0.309637</td>\n",
       "      <td id=\"T_35cc9_row2_col2\" class=\"data row2 col2\" >1.000000</td>\n",
       "      <td id=\"T_35cc9_row2_col3\" class=\"data row2 col3\" >0.000000</td>\n",
       "      <td id=\"T_35cc9_row2_col4\" class=\"data row2 col4\" >0.000000</td>\n",
       "    </tr>\n",
       "    <tr>\n",
       "      <th id=\"T_35cc9_level0_row3\" class=\"row_heading level0 row3\" >I had an apple</th>\n",
       "      <td id=\"T_35cc9_row3_col0\" class=\"data row3 col0\" >0.769447</td>\n",
       "      <td id=\"T_35cc9_row3_col1\" class=\"data row3 col1\" >0.000000</td>\n",
       "      <td id=\"T_35cc9_row3_col2\" class=\"data row3 col2\" >0.000000</td>\n",
       "      <td id=\"T_35cc9_row3_col3\" class=\"data row3 col3\" >1.000000</td>\n",
       "      <td id=\"T_35cc9_row3_col4\" class=\"data row3 col4\" >0.000000</td>\n",
       "    </tr>\n",
       "    <tr>\n",
       "      <th id=\"T_35cc9_level0_row4\" class=\"row_heading level0 row4\" >I had a pear</th>\n",
       "      <td id=\"T_35cc9_row4_col0\" class=\"data row4 col0\" >0.000000</td>\n",
       "      <td id=\"T_35cc9_row4_col1\" class=\"data row4 col1\" >0.000000</td>\n",
       "      <td id=\"T_35cc9_row4_col2\" class=\"data row4 col2\" >0.000000</td>\n",
       "      <td id=\"T_35cc9_row4_col3\" class=\"data row4 col3\" >0.000000</td>\n",
       "      <td id=\"T_35cc9_row4_col4\" class=\"data row4 col4\" >1.000000</td>\n",
       "    </tr>\n",
       "  </tbody>\n",
       "</table>\n"
      ],
      "text/plain": [
       "<pandas.io.formats.style.Styler at 0x16c1b91f0>"
      ]
     },
     "execution_count": 49,
     "metadata": {},
     "output_type": "execute_result"
    }
   ],
   "source": [
    "from sklearn.metrics.pairwise import cosine_similarity\n",
    "\n",
    "pd.DataFrame(\n",
    "    cosine_similarity(df, df),\n",
    "    index=sentences,\n",
    "    columns=sentences,\n",
    ").style.background_gradient(\n",
    "    cmap='YlGn', low=0, high=1, axis=None\n",
    ")  "
   ]
  },
  {
   "cell_type": "markdown",
   "id": "85c4672e",
   "metadata": {},
   "source": [
    "# Comparing Apples and Oranges"
   ]
  },
  {
   "cell_type": "markdown",
   "id": "9fb26ce3",
   "metadata": {},
   "source": [
    "## Word Embedding"
   ]
  },
  {
   "cell_type": "code",
   "execution_count": 130,
   "id": "976ce739",
   "metadata": {},
   "outputs": [],
   "source": [
    "vector_data = {\n",
    "    \"dog\":    [0.9, 0.0, 0.0],\n",
    "    \"cat\":    [0.8, 0.0, 0.0],\n",
    "    \"orange\": [0.0, 0.5, 0.5],\n",
    "    \"apple\":  [0.0, 0.8, 0.0],\n",
    "    \"blue\":   [0.0, 0.0, 0.8],\n",
    "    \"red\":    [0.0, 0.0, 0.9],\n",
    "}"
   ]
  },
  {
   "cell_type": "code",
   "execution_count": 137,
   "id": "740c4059",
   "metadata": {},
   "outputs": [
    {
     "data": {
      "text/plain": [
       "1.0"
      ]
     },
     "execution_count": 137,
     "metadata": {},
     "output_type": "execute_result"
    }
   ],
   "source": [
    "cosine_similarity(\n",
    "    np.array(vector_data[\"dog\"]).reshape((1, 3)),\n",
    "    np.array(vector_data[\"cat\"]).reshape((1, 3)),\n",
    ").round(4)[0,0] "
   ]
  },
  {
   "cell_type": "code",
   "execution_count": 139,
   "id": "e6e5a8e6",
   "metadata": {},
   "outputs": [
    {
     "data": {
      "text/plain": [
       "0.0"
      ]
     },
     "execution_count": 139,
     "metadata": {},
     "output_type": "execute_result"
    }
   ],
   "source": [
    "cosine_similarity(\n",
    "    np.array(vector_data[\"dog\"]).reshape((1, 3)),\n",
    "    np.array(vector_data[\"orange\"]).reshape((1, 3)),\n",
    ").round(4)[0,0] "
   ]
  },
  {
   "cell_type": "code",
   "execution_count": 140,
   "id": "cab6f13b",
   "metadata": {},
   "outputs": [
    {
     "data": {
      "text/plain": [
       "0.7071"
      ]
     },
     "execution_count": 140,
     "metadata": {},
     "output_type": "execute_result"
    }
   ],
   "source": [
    "cosine_similarity(\n",
    "    np.array(vector_data[\"red\"]).reshape((1, 3)),\n",
    "    np.array(vector_data[\"orange\"]).reshape((1, 3)),\n",
    ").round(4)[0,0] "
   ]
  },
  {
   "cell_type": "code",
   "execution_count": 141,
   "id": "b13c725e",
   "metadata": {},
   "outputs": [
    {
     "data": {
      "text/plain": [
       "0.7071"
      ]
     },
     "execution_count": 141,
     "metadata": {},
     "output_type": "execute_result"
    }
   ],
   "source": [
    "cosine_similarity(\n",
    "    np.array(vector_data[\"blue\"]).reshape((1, 3)),\n",
    "    np.array(vector_data[\"orange\"]).reshape((1, 3)),\n",
    ").round(4)[0,0] "
   ]
  },
  {
   "cell_type": "markdown",
   "id": "a3dbe8d4",
   "metadata": {},
   "source": [
    "## SpaCy Word Vectors"
   ]
  },
  {
   "cell_type": "code",
   "execution_count": 142,
   "id": "f59c585a",
   "metadata": {},
   "outputs": [],
   "source": [
    "import spacy"
   ]
  },
  {
   "cell_type": "code",
   "execution_count": 143,
   "id": "f8a61f19",
   "metadata": {},
   "outputs": [],
   "source": [
    "nlp = spacy.load('en_core_web_lg')\n",
    "\n",
    "fruits = [\"apple\", \"apples\", \"orange\", \"pear\", \"fruit\", \"blue\"]\n",
    "tokens = {fruit: nlp(fruit).vector for fruit in fruits}"
   ]
  },
  {
   "cell_type": "code",
   "execution_count": 144,
   "id": "7deccefa",
   "metadata": {},
   "outputs": [
    {
     "data": {
      "text/plain": [
       "1.0"
      ]
     },
     "execution_count": 144,
     "metadata": {},
     "output_type": "execute_result"
    }
   ],
   "source": [
    "cosine_similarity(\n",
    "    tokens['apple'].reshape((1, 300)),\n",
    "    tokens['apple'].reshape((1, 300)),\n",
    ").round(2)[0,0]"
   ]
  },
  {
   "cell_type": "code",
   "execution_count": 145,
   "id": "0d8ccda7",
   "metadata": {},
   "outputs": [
    {
     "data": {
      "text/plain": [
       "0.75"
      ]
     },
     "execution_count": 145,
     "metadata": {},
     "output_type": "execute_result"
    }
   ],
   "source": [
    "cosine_similarity(\n",
    "    tokens['apple'].reshape((1, 300)),\n",
    "    tokens['apples'].reshape((1, 300)),\n",
    ").round(2)[0,0]"
   ]
  },
  {
   "cell_type": "code",
   "execution_count": 146,
   "id": "52ef062e",
   "metadata": {},
   "outputs": [
    {
     "data": {
      "text/plain": [
       "0.56"
      ]
     },
     "execution_count": 146,
     "metadata": {},
     "output_type": "execute_result"
    }
   ],
   "source": [
    "cosine_similarity(\n",
    "    tokens['apple'].reshape((1, 300)),\n",
    "    tokens['orange'].reshape((1, 300)),\n",
    ").round(2)[0,0]"
   ]
  },
  {
   "cell_type": "code",
   "execution_count": 147,
   "id": "79c5f709",
   "metadata": {},
   "outputs": [
    {
     "data": {
      "text/plain": [
       "0.61"
      ]
     },
     "execution_count": 147,
     "metadata": {},
     "output_type": "execute_result"
    }
   ],
   "source": [
    "cosine_similarity(\n",
    "    tokens['apple'].reshape((1, 300)),\n",
    "    tokens['pear'].reshape((1, 300)),\n",
    ").round(2)[0,0]"
   ]
  },
  {
   "cell_type": "code",
   "execution_count": 148,
   "id": "af549c35",
   "metadata": {},
   "outputs": [
    {
     "data": {
      "text/plain": [
       "0.35"
      ]
     },
     "execution_count": 148,
     "metadata": {},
     "output_type": "execute_result"
    }
   ],
   "source": [
    "cosine_similarity(\n",
    "    tokens['blue'].reshape((1, 300)),\n",
    "    tokens['apple'].reshape((1, 300)),\n",
    ").round(2)[0,0]"
   ]
  },
  {
   "cell_type": "code",
   "execution_count": 149,
   "id": "22d2badb",
   "metadata": {},
   "outputs": [
    {
     "data": {
      "text/plain": [
       "0.77"
      ]
     },
     "execution_count": 149,
     "metadata": {},
     "output_type": "execute_result"
    }
   ],
   "source": [
    "cosine_similarity(\n",
    "    tokens['blue'].reshape((1, 300)),\n",
    "    tokens['orange'].reshape((1, 300)),\n",
    ").round(2)[0,0]"
   ]
  },
  {
   "cell_type": "markdown",
   "id": "12168f4d",
   "metadata": {},
   "source": [
    "# Exercise \n",
    "\n",
    "Time to iterate on the execercise at the end of [\"2- Text Classification\"](https://github.com/gr33ndata/jonthebeach/blob/main/notebooks/2-%20Text%20Classification.ipynb)\n",
    "\n",
    "- It's up to you to classify the documents based on their `polarity` or the `deceptive` label.\n",
    "- Try TF-IDF vectorizer instead of the Count Vectorizer this time. And compare the classifier's accuracy.\n",
    "- Try different values for `ngram_range`, say 1-gram, combination of 1-and 2-grams, and 3-grams\n",
    "- Which words correlate with positive polarity (or with deceptiveness) "
   ]
  },
  {
   "cell_type": "code",
   "execution_count": null,
   "id": "11ad6796",
   "metadata": {},
   "outputs": [],
   "source": []
  }
 ],
 "metadata": {
  "kernelspec": {
   "display_name": "Python 3 (ipykernel)",
   "language": "python",
   "name": "python3"
  },
  "language_info": {
   "codemirror_mode": {
    "name": "ipython",
    "version": 3
   },
   "file_extension": ".py",
   "mimetype": "text/x-python",
   "name": "python",
   "nbconvert_exporter": "python",
   "pygments_lexer": "ipython3",
   "version": "3.9.12"
  }
 },
 "nbformat": 4,
 "nbformat_minor": 5
}
